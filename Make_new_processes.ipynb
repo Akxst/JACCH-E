{
 "cells": [
  {
   "cell_type": "code",
   "execution_count": null,
   "metadata": {},
   "outputs": [],
   "source": [
    "# === Switch to kernel bw25! ===\n",
    "\n",
    "# Brightway libraries\n",
    "import bw2data as bd\n",
    "import bw2io as bi\n",
    "import bw2calc as bc\n",
    "import bw_processing as bwp\n",
    "import bw2analyzer as ba\n",
    "\n",
    "# General libraries\n",
    "import numpy as np\n",
    "import pandas as pd\n",
    "from fs.zipfs import ZipFS\n",
    "import json                        # Library for working with json files\n",
    "from pathlib import Path           # Library for working with paths in different OS     \n",
    "import matplotlib.pyplot as plt    # Library for creating plots\n",
    "from collections import defaultdict"
   ]
  },
  {
   "cell_type": "code",
   "execution_count": null,
   "metadata": {},
   "outputs": [],
   "source": [
    "bd.projects.set_current('ei38-teaching-25')"
   ]
  },
  {
   "cell_type": "code",
   "execution_count": null,
   "metadata": {},
   "outputs": [],
   "source": [
    "#if 'ei38-teaching-25' not in bd.projects:\n",
    "bi.restore_project_directory(r\"C:\\Users\\cko\\sciebo1\\01_CK\\01_Work\\1_FCN-ESE\\04_Modelle\\LCA_Brightway\\Autumn_School\\brightway2-project-ei38-teaching-25-backup.26-October-2022-03-35PM.tar.gz\")"
   ]
  },
  {
   "cell_type": "code",
   "execution_count": null,
   "metadata": {},
   "outputs": [],
   "source": [
    "eiDB = bd.Database('ei 3.8 cutoff')"
   ]
  },
  {
   "cell_type": "code",
   "execution_count": null,
   "metadata": {},
   "outputs": [],
   "source": [
    "## CHANGE TO PROCESS WANTED! \n",
    "\n",
    "motor = bd.get_activity(database=\"ei 3.8 cutoff\", name=\"electric motor production, vehicle (electric powertrain)\")\n",
    "motor"
   ]
  },
  {
   "cell_type": "code",
   "execution_count": null,
   "metadata": {},
   "outputs": [],
   "source": [
    "el_demanded = 900 # random\n",
    "electrifying_heat = 1_000_000\n",
    "\n",
    "indices = np.array(\n",
    "    [\n",
    "        (electrifying_heat, electrifying_heat), # Production exchange for new motor\n",
    "        (motor.id, electrifying_heat),  # Need the \n",
    "        #(el_kr.id, electrifying_heat) ## to gangnam style and positive -> because input to one of the upstream process so inherently negativ, to be \n",
    "                    \n",
    "     ] + [\n",
    "        (node.id,  electrifying_heat) for node in dic_powerplants_market\n",
    "    ], dtype=bwp.INDICES_DTYPE\n",
    ")\n",
    "data = np.array([\n",
    "        1,\n",
    "        1,\n",
    "       #el_recycling, \n",
    "    ] + [\n",
    "        value * el_demanded for value in dic_powerplants_market.values()\n",
    "    ]\n",
    ") \n",
    "flip = np.array(\n",
    "    [False, True] + [True for _ in dic_powerplants_market]\n",
    ")\n"
   ]
  },
  {
   "cell_type": "code",
   "execution_count": null,
   "metadata": {},
   "outputs": [],
   "source": [
    "dp = bwp.create_datapackage()\n",
    "\n",
    "dp.add_persistent_vector(\n",
    "    matrix=\"technosphere_matrix\",\n",
    "    data_array=data,\n",
    "    indices_array=indices,\n",
    "    flip_array=flip,\n",
    "    name='electrifying_heat',\n",
    ")"
   ]
  },
  {
   "cell_type": "code",
   "execution_count": null,
   "metadata": {},
   "outputs": [],
   "source": [
    "ipcc = ('IPCC 2013', 'climate change', 'GWP 100a')"
   ]
  },
  {
   "cell_type": "code",
   "execution_count": null,
   "metadata": {},
   "outputs": [],
   "source": [
    "_, data_objs, _ = bd.prepare_lca_inputs({motor: 1}, ipcc)"
   ]
  },
  {
   "cell_type": "code",
   "execution_count": null,
   "metadata": {},
   "outputs": [],
   "source": [
    "lca = bc.LCA({motor.id: 1}, data_objs=data_objs + [dp])\n",
    "lca.lci()\n",
    "lca.lcia()\n",
    "lca.score"
   ]
  },
  {
   "cell_type": "code",
   "execution_count": null,
   "metadata": {},
   "outputs": [],
   "source": [
    "lca.lcia({electrifying_heat: 1})\n",
    "lca.score"
   ]
  }
 ],
 "metadata": {
  "language_info": {
   "name": "python"
  },
  "orig_nbformat": 4
 },
 "nbformat": 4,
 "nbformat_minor": 2
}
