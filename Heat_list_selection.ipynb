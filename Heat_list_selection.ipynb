{
 "cells": [
  {
   "cell_type": "code",
   "execution_count": null,
   "metadata": {},
   "outputs": [],
   "source": [
    "heat_acts=[act for act in ei if 'heat production' in  act['name']\n",
    "#and ('RER' in act['location'] or 'DE' in act['location'] or 'Europe without Switzerland' in act['location'])\n",
    "#and 'heat' in act['reference product'] \n",
    "and 'heat pump' not in act['name']\n",
    "and 'biomethane' not in act['name']\n",
    "#and ('natural gas' in act['name'] or 'anthracite' in act['name'])\n",
    "]"
   ]
  }
 ],
 "metadata": {
  "kernelspec": {
   "display_name": "Python 3.9.12 ('base')",
   "language": "python",
   "name": "python3"
  },
  "language_info": {
   "name": "python",
   "version": "3.9.12"
  },
  "orig_nbformat": 4,
  "vscode": {
   "interpreter": {
    "hash": "0701dacac9db81e688941f20bc39a0aa78defd94881fe6688ec57c57b661bad6"
   }
  }
 },
 "nbformat": 4,
 "nbformat_minor": 2
}
