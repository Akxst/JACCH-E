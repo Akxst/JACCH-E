{
 "cells": [
  {
   "cell_type": "code",
   "execution_count": 1,
   "metadata": {},
   "outputs": [],
   "source": [
    "import pandas as pd\n",
    "import bw2data as bd\n",
    "import bw2io as bi\n",
    "import bw2analyzer as ba\n",
    "import bw2calc as bc\n",
    "import bw_processing as bwp\n",
    "from pathlib import Path\n",
    "import numpy as np\n",
    "import csv\n",
    "import sys"
   ]
  },
  {
   "cell_type": "code",
   "execution_count": 2,
   "metadata": {},
   "outputs": [],
   "source": [
    "bd.projects.set_current('ei38-teaching-25')\n",
    "ipcc=('IPCC 2013', 'climate change', 'GWP 100a')"
   ]
  },
  {
   "cell_type": "code",
   "execution_count": 3,
   "metadata": {},
   "outputs": [],
   "source": [
    "ei = bd.Database('ei 3.8 cutoff')\n",
    "activity= ei.get('6a7848cd768f5163834eec59c80de49b')\n",
    "ei_pack=ei.datapackage()"
   ]
  },
  {
   "cell_type": "code",
   "execution_count": 4,
   "metadata": {},
   "outputs": [
    {
     "data": {
      "text/plain": [
       "2.477976880419227"
      ]
     },
     "execution_count": 4,
     "metadata": {},
     "output_type": "execute_result"
    }
   ],
   "source": [
    "lca1 = bc.LCA({activity: 1}, ipcc)\n",
    "lca1.lci()\n",
    "lca1.lcia()\n",
    "lca1.score"
   ]
  },
  {
   "cell_type": "code",
   "execution_count": 5,
   "metadata": {},
   "outputs": [],
   "source": [
    "#[act for act in ei if 'market for acrylic acid' in  act['name']][1].id"
   ]
  },
  {
   "cell_type": "code",
   "execution_count": 6,
   "metadata": {},
   "outputs": [],
   "source": [
    "heat_acts=[act for act in ei if 'heat production' in  act['name']\n",
    "#and ('RER' in act['location'] or 'DE' in act['location'] or 'Europe without Switzerland' in act['location'])\n",
    "#and 'heat' in act['reference product'] \n",
    "and 'heat pump' not in act['name']\n",
    "and 'biomethane' not in act['name']\n",
    "#and ('natural gas' in act['name'] or 'anthracite' in act['name'])\n",
    "]"
   ]
  },
  {
   "cell_type": "code",
   "execution_count": 7,
   "metadata": {},
   "outputs": [
    {
     "data": {
      "text/plain": [
       "'electricity, from municipal waste incineration to generic market for electricity, medium voltage' (kilowatt hour, DE, None)"
      ]
     },
     "execution_count": 7,
     "metadata": {},
     "output_type": "execute_result"
    }
   ],
   "source": [
    "new_heat_supply=[act for act in ei if 'market for electricity, medium voltage' in act['name'] and 'DE' in act['location']][0]\n",
    "new_heat_supply"
   ]
  },
  {
   "cell_type": "code",
   "execution_count": 8,
   "metadata": {},
   "outputs": [],
   "source": [
    "exchange =list(activity.technosphere())[0]\n",
    "a= np.array((exchange.input.id, exchange.output.id), bwp.INDICES_DTYPE)"
   ]
  },
  {
   "cell_type": "code",
   "execution_count": 9,
   "metadata": {},
   "outputs": [
    {
     "data": {
      "text/plain": [
       "(array([157541], dtype=int64),)"
      ]
     },
     "execution_count": 9,
     "metadata": {},
     "output_type": "execute_result"
    }
   ],
   "source": [
    "np.where(ei_pack.data[5] == a)"
   ]
  },
  {
   "cell_type": "code",
   "execution_count": 10,
   "metadata": {},
   "outputs": [],
   "source": [
    "index=[]\n",
    "flow_list=[]\n",
    "global depth\n",
    "depth=0\n",
    "max_depth=2"
   ]
  },
  {
   "cell_type": "code",
   "execution_count": 11,
   "metadata": {},
   "outputs": [
    {
     "data": {
      "text/plain": [
       "4428"
      ]
     },
     "execution_count": 11,
     "metadata": {},
     "output_type": "execute_result"
    }
   ],
   "source": [
    "ei_pack.data[5][3]['row']"
   ]
  },
  {
   "cell_type": "code",
   "execution_count": 12,
   "metadata": {},
   "outputs": [],
   "source": [
    "def recurse_supply(act, depth=0, max_depth=1, flow_dic={},amount=1):\n",
    "    #global depth\n",
    "    for exc in act.technosphere():\n",
    "        \n",
    "        if exc.input in heat_acts:\n",
    "            amount = exc['amount']*amount\n",
    "            flow_dic[exc.input]=amount\n",
    "            \n",
    "        elif depth< max_depth:\n",
    "            depth +=1 \n",
    "            depth, flow_dic = recurse_supply(exc.input,depth, max_depth, flow_dic, amount)\n",
    "    \n",
    "    depth -= 1\n",
    "    return depth, flow_dic"
   ]
  },
  {
   "cell_type": "code",
   "execution_count": 13,
   "metadata": {},
   "outputs": [],
   "source": [
    "def recurse_supply(act, depth=0, max_depth=1, flow_dic={},amount=1):\n",
    "    #global depth\n",
    "    for exc in act.technosphere():\n",
    "        \n",
    "        if exc.input in heat_acts:\n",
    "            amount = exc['amount']*amount\n",
    "            flow_dic[exc.input]=amount\n",
    "            \n",
    "        elif depth< max_depth:\n",
    "            depth +=1 \n",
    "            depth, flow_dic = recurse_supply(exc.input,depth, max_depth, flow_dic, amount)\n",
    "    \n",
    "    depth -= 1\n",
    "    return depth, flow_dic"
   ]
  },
  {
   "cell_type": "code",
   "execution_count": 14,
   "metadata": {},
   "outputs": [],
   "source": [
    "def recurse_supply(act):\n",
    "    global depth\n",
    "    for exc in act.technosphere():\n",
    "        if exc.input in heat_acts:\n",
    "            #flow_list.append(np.array((exc.input.id, exc.output.id), bwp.INDICES_DTYPE))\n",
    "            flow_list.append((exc.input.id, exc.output.id))\n",
    "            #print(exc.input)\n",
    "        elif depth< max_depth:\n",
    "            depth +=1 \n",
    "            recurse_supply(exc.input)\n",
    "    depth -= 1\n",
    "        "
   ]
  },
  {
   "cell_type": "code",
   "execution_count": 15,
   "metadata": {},
   "outputs": [],
   "source": [
    "flow_list=[]\n",
    "global depth\n",
    "depth=0\n",
    "max_depth=3\n",
    "recurse_supply(activity)"
   ]
  },
  {
   "cell_type": "code",
   "execution_count": 16,
   "metadata": {},
   "outputs": [],
   "source": [
    "new_flow_list=[]\n",
    "for exc in flow_list:\n",
    "    new_flow_list.append((new_heat_supply.id, exc[1]))\n",
    "    #new_flow_list.append(np.array((new_heat_supply.id, exc['col']), bwp.INDICES_DTYPE))\n"
   ]
  },
  {
   "cell_type": "code",
   "execution_count": 17,
   "metadata": {},
   "outputs": [],
   "source": [
    "empty_data= np.zeros(len(flow_list))"
   ]
  },
  {
   "cell_type": "code",
   "execution_count": 32,
   "metadata": {},
   "outputs": [
    {
     "data": {
      "text/plain": [
       "9"
      ]
     },
     "execution_count": 32,
     "metadata": {},
     "output_type": "execute_result"
    }
   ],
   "source": [
    "len(ei_pack.resources)"
   ]
  },
  {
   "cell_type": "code",
   "execution_count": 18,
   "metadata": {},
   "outputs": [],
   "source": [
    "#new_flow_list.append(np.array((new_heat_supply.id, exc['col']), bwp.INDICES_DTYPE))"
   ]
  },
  {
   "cell_type": "code",
   "execution_count": 19,
   "metadata": {},
   "outputs": [],
   "source": [
    "data_list=[]\n",
    "for exc in flow_list:  \n",
    "    data_list.append(ei_pack.data[6][np.where(ei_pack.data[5] == np.array((exc), bwp.INDICES_DTYPE))][0])"
   ]
  },
  {
   "cell_type": "code",
   "execution_count": 43,
   "metadata": {},
   "outputs": [],
   "source": [
    "flip=np.zeros(len(data_list)*2, dtype=bool)"
   ]
  },
  {
   "cell_type": "code",
   "execution_count": 44,
   "metadata": {},
   "outputs": [],
   "source": [
    "indices = np.array(flow_list + new_flow_list, bwp.INDICES_DTYPE)\n",
    "data = np.array(list(empty_data) + data_list)"
   ]
  },
  {
   "cell_type": "code",
   "execution_count": 45,
   "metadata": {},
   "outputs": [],
   "source": [
    "dp = bwp.create_datapackage()"
   ]
  },
  {
   "cell_type": "code",
   "execution_count": 46,
   "metadata": {},
   "outputs": [],
   "source": [
    "\n",
    "dp.add_persistent_vector(\n",
    "    matrix=\"technosphere_matrix\",\n",
    "    data_array=data,\n",
    "    indices_array=indices,\n",
    "    flip=flip,\n",
    "    name=\"new_heat_supply\",\n",
    ")"
   ]
  },
  {
   "cell_type": "code",
   "execution_count": 47,
   "metadata": {},
   "outputs": [],
   "source": [
    "_, data_objs, _ = bd.prepare_lca_inputs({activity: 1}, ipcc)"
   ]
  },
  {
   "cell_type": "code",
   "execution_count": 55,
   "metadata": {},
   "outputs": [
    {
     "data": {
      "text/plain": [
       "{'profile': 'data-package',\n",
       " 'name': 'ipcc-2013cg.bd5af3f67229a1cc291b8ecb7f316fcf.zip',\n",
       " 'id': '2839247ce3404fa29f39c82ec8276f8d',\n",
       " 'licenses': [{'name': 'ODC-PDDL-1.0',\n",
       "   'path': 'http://opendatacommons.org/licenses/pddl/',\n",
       "   'title': 'Open Data Commons Public Domain Dedication and License v1.0'}],\n",
       " 'resources': [{'profile': 'data-resource',\n",
       "   'format': 'npy',\n",
       "   'mediatype': 'application/octet-stream',\n",
       "   'name': 'IPCC_2013_climate_change_GWP_100a_matrix_data.indices',\n",
       "   'matrix': 'characterization_matrix',\n",
       "   'kind': 'indices',\n",
       "   'path': 'IPCC_2013_climate_change_GWP_100a_matrix_data.indices.npy',\n",
       "   'group': 'IPCC_2013_climate_change_GWP_100a_matrix_data',\n",
       "   'nrows': 211,\n",
       "   'global_index': 1,\n",
       "   'category': 'vector'},\n",
       "  {'profile': 'data-resource',\n",
       "   'format': 'npy',\n",
       "   'mediatype': 'application/octet-stream',\n",
       "   'name': 'IPCC_2013_climate_change_GWP_100a_matrix_data.data',\n",
       "   'matrix': 'characterization_matrix',\n",
       "   'kind': 'data',\n",
       "   'path': 'IPCC_2013_climate_change_GWP_100a_matrix_data.data.npy',\n",
       "   'group': 'IPCC_2013_climate_change_GWP_100a_matrix_data',\n",
       "   'nrows': 211,\n",
       "   'global_index': 1,\n",
       "   'category': 'vector'}],\n",
       " 'created': '2022-09-26T11:52:43.774438Z',\n",
       " 'combinatorial': False,\n",
       " 'sequential': False,\n",
       " 'seed': None,\n",
       " 'sum_intra_duplicates': True,\n",
       " 'sum_inter_duplicates': False}"
      ]
     },
     "execution_count": 55,
     "metadata": {},
     "output_type": "execute_result"
    }
   ],
   "source": [
    "data_objs[2].metadata"
   ]
  },
  {
   "cell_type": "code",
   "execution_count": 56,
   "metadata": {},
   "outputs": [],
   "source": [
    "lca2 = bc.LCA({activity.id: 1}, data_objs=data_objs)\n",
    "lca2.lci()\n",
    "lca2.lcia()"
   ]
  },
  {
   "cell_type": "code",
   "execution_count": 57,
   "metadata": {},
   "outputs": [
    {
     "name": "stdout",
     "output_type": "stream",
     "text": [
      "2.477976880419227 2.477976880419227\n"
     ]
    }
   ],
   "source": [
    "print(lca1.score, lca2.score)"
   ]
  },
  {
   "cell_type": "code",
   "execution_count": 60,
   "metadata": {},
   "outputs": [
    {
     "data": {
      "text/plain": [
       "array([0.00000000e+00, 0.00000000e+00, 0.00000000e+00, 0.00000000e+00,\n",
       "       0.00000000e+00, 0.00000000e+00, 0.00000000e+00, 0.00000000e+00,\n",
       "       0.00000000e+00, 0.00000000e+00, 0.00000000e+00, 0.00000000e+00,\n",
       "       0.00000000e+00, 0.00000000e+00, 0.00000000e+00, 0.00000000e+00,\n",
       "       0.00000000e+00, 0.00000000e+00, 0.00000000e+00, 0.00000000e+00,\n",
       "       0.00000000e+00, 0.00000000e+00, 0.00000000e+00, 0.00000000e+00,\n",
       "       0.00000000e+00, 0.00000000e+00, 0.00000000e+00, 0.00000000e+00,\n",
       "       0.00000000e+00, 0.00000000e+00, 0.00000000e+00, 0.00000000e+00,\n",
       "       0.00000000e+00, 0.00000000e+00, 0.00000000e+00, 0.00000000e+00,\n",
       "       0.00000000e+00, 0.00000000e+00, 0.00000000e+00, 0.00000000e+00,\n",
       "       0.00000000e+00, 0.00000000e+00, 0.00000000e+00, 0.00000000e+00,\n",
       "       0.00000000e+00, 0.00000000e+00, 0.00000000e+00, 0.00000000e+00,\n",
       "       0.00000000e+00, 0.00000000e+00, 0.00000000e+00, 0.00000000e+00,\n",
       "       0.00000000e+00, 0.00000000e+00, 0.00000000e+00, 0.00000000e+00,\n",
       "       0.00000000e+00, 0.00000000e+00, 0.00000000e+00, 0.00000000e+00,\n",
       "       0.00000000e+00, 0.00000000e+00, 0.00000000e+00, 0.00000000e+00,\n",
       "       0.00000000e+00, 0.00000000e+00, 0.00000000e+00, 0.00000000e+00,\n",
       "       0.00000000e+00, 0.00000000e+00, 0.00000000e+00, 0.00000000e+00,\n",
       "       9.95698738e+00, 5.96374013e-02, 3.30278844e-01, 1.34576008e-01,\n",
       "       1.25690639e-01, 1.34576008e-01, 1.34576008e-01, 1.02976672e-04,\n",
       "       9.26790002e-04, 9.07086942e-05, 8.98016058e-03, 1.59111968e-03,\n",
       "       1.43200774e-02, 8.05151140e-05, 7.24636018e-04, 1.56294045e-04,\n",
       "       1.40664645e-03, 2.69152015e-03, 4.03728010e-03, 9.93334572e-04,\n",
       "       2.26771735e-04, 2.26771735e-04, 5.21130383e-01, 9.51812975e-03,\n",
       "       1.58429462e-02, 1.60870105e-02, 1.59472525e-02, 1.63310729e-02,\n",
       "       2.69208103e-01, 2.53372312e-01, 2.40285099e-01, 2.37134501e-01,\n",
       "       1.58429462e-02, 1.60870105e-02, 1.59472525e-02, 1.63310729e-02,\n",
       "       5.21130383e-01, 9.51812975e-03, 5.21130383e-01, 9.51812975e-03,\n",
       "       5.21130383e-01, 9.51812975e-03, 5.21130383e-01, 9.51812975e-03,\n",
       "       5.21130383e-01, 9.51812975e-03, 5.21130383e-01, 9.51812975e-03,\n",
       "       5.21130383e-01, 9.51812975e-03, 5.21130383e-01, 9.51812975e-03,\n",
       "       5.21130383e-01, 9.51812975e-03, 5.21130383e-01, 9.51812975e-03,\n",
       "       5.21130383e-01, 9.51812975e-03, 5.21130383e-01, 9.51812975e-03,\n",
       "       5.21130383e-01, 9.51812975e-03, 5.21130383e-01, 9.51812975e-03,\n",
       "       5.21130383e-01, 9.51812975e-03, 5.21130383e-01, 9.51812975e-03,\n",
       "       5.21130383e-01, 9.51812975e-03, 5.21130383e-01, 9.51812975e-03])"
      ]
     },
     "execution_count": 60,
     "metadata": {},
     "output_type": "execute_result"
    }
   ],
   "source": [
    "dp.data[1]"
   ]
  },
  {
   "cell_type": "code",
   "execution_count": null,
   "metadata": {},
   "outputs": [],
   "source": []
  }
 ],
 "metadata": {
  "kernelspec": {
   "display_name": "Python 3 (ipykernel)",
   "language": "python",
   "name": "python3"
  },
  "language_info": {
   "codemirror_mode": {
    "name": "ipython",
    "version": 3
   },
   "file_extension": ".py",
   "mimetype": "text/x-python",
   "name": "python",
   "nbconvert_exporter": "python",
   "pygments_lexer": "ipython3",
   "version": "3.10.6"
  },
  "vscode": {
   "interpreter": {
    "hash": "7fae8fcb63aab852d43282f8d6b4358276f4fc1369b1ce19a999eb0a03de67cf"
   }
  }
 },
 "nbformat": 4,
 "nbformat_minor": 2
}
