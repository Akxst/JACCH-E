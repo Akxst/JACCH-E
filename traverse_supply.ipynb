{
 "cells": [
  {
   "cell_type": "code",
   "execution_count": 1,
   "metadata": {},
   "outputs": [],
   "source": [
    "import pandas as pd\n",
    "import bw2data as bd\n",
    "import bw2io as bi\n",
    "import bw2analyzer as ba\n",
    "import bw2calc as bc\n",
    "import bw_processing as bwp\n",
    "from pathlib import Path\n",
    "import numpy as np\n",
    "import csv\n",
    "import sys"
   ]
  },
  {
   "cell_type": "code",
   "execution_count": 2,
   "metadata": {},
   "outputs": [],
   "source": [
    "bd.projects.set_current('ei38-teaching-25')\n",
    "ipcc=('IPCC 2013', 'climate change', 'GWP 100a')"
   ]
  },
  {
   "cell_type": "code",
   "execution_count": 36,
   "metadata": {},
   "outputs": [
    {
     "data": {
      "text/plain": [
       "'ammonia production, steam reforming, liquid' (kilogram, RER w/o RU, None)"
      ]
     },
     "execution_count": 36,
     "metadata": {},
     "output_type": "execute_result"
    }
   ],
   "source": [
    "activity"
   ]
  },
  {
   "cell_type": "code",
   "execution_count": 3,
   "metadata": {},
   "outputs": [],
   "source": [
    "ei = bd.Database('ei 3.8 cutoff')\n",
    "activity= ei.get('6a7848cd768f5163834eec59c80de49b')\n",
    "ei_pack=ei.datapackage()"
   ]
  },
  {
   "cell_type": "code",
   "execution_count": 4,
   "metadata": {},
   "outputs": [
    {
     "data": {
      "text/plain": [
       "2.477976880419227"
      ]
     },
     "execution_count": 4,
     "metadata": {},
     "output_type": "execute_result"
    }
   ],
   "source": [
    "lca1 = bc.LCA({activity: 1}, ipcc)\n",
    "lca1.lci()\n",
    "lca1.lcia()\n",
    "lca1.score"
   ]
  },
  {
   "cell_type": "code",
   "execution_count": 6,
   "metadata": {},
   "outputs": [],
   "source": [
    "heat_acts=[act for act in ei if 'heat production' in  act['name']\n",
    "#and ('RER' in act['location'] or 'DE' in act['location'] or 'Europe without Switzerland' in act['location'])\n",
    "#and 'heat' in act['reference product'] \n",
    "and 'heat pump' not in act['name']\n",
    "and 'biomethane' not in act['name']\n",
    "#and ('natural gas' in act['name'] or 'anthracite' in act['name'])\n",
    "]"
   ]
  },
  {
   "cell_type": "code",
   "execution_count": 7,
   "metadata": {},
   "outputs": [
    {
     "data": {
      "text/plain": [
       "'electricity, from municipal waste incineration to generic market for electricity, medium voltage' (kilowatt hour, DE, None)"
      ]
     },
     "execution_count": 7,
     "metadata": {},
     "output_type": "execute_result"
    }
   ],
   "source": [
    "new_heat_supply=[act for act in ei if 'market for electricity, medium voltage' in act['name'] and 'DE' in act['location']][0]\n",
    "new_heat_supply"
   ]
  },
  {
   "cell_type": "code",
   "execution_count": 8,
   "metadata": {},
   "outputs": [],
   "source": [
    "exchange =list(activity.technosphere())[0]\n",
    "a= np.array((exchange.input.id, exchange.output.id), bwp.INDICES_DTYPE)"
   ]
  },
  {
   "cell_type": "code",
   "execution_count": 9,
   "metadata": {},
   "outputs": [
    {
     "data": {
      "text/plain": [
       "(array([157541], dtype=int64),)"
      ]
     },
     "execution_count": 9,
     "metadata": {},
     "output_type": "execute_result"
    }
   ],
   "source": [
    "#np.where(ei_pack.data[5] == a)"
   ]
  },
  {
   "cell_type": "code",
   "execution_count": 12,
   "metadata": {},
   "outputs": [],
   "source": [
    "def recurse_supply(act, depth=0, max_depth=1, flow_dic={},amount=1):\n",
    "    #global depth\n",
    "    for exc in act.technosphere():\n",
    "        \n",
    "        if exc.input in heat_acts:\n",
    "            amount = exc['amount']*amount\n",
    "            flow_dic[exc.input]=amount\n",
    "            \n",
    "        elif depth< max_depth:\n",
    "            depth +=1 \n",
    "            depth, flow_dic = recurse_supply(exc.input,depth, max_depth, flow_dic, amount)\n",
    "    \n",
    "    depth -= 1\n",
    "    return depth, flow_dic"
   ]
  },
  {
   "cell_type": "code",
   "execution_count": 15,
   "metadata": {},
   "outputs": [],
   "source": [
    "flow_list=[]\n",
    "#global depth\n",
    "#depth=0\n",
    "#max_depth=3\n",
    "recurse_supply(activity)"
   ]
  },
  {
   "cell_type": "code",
   "execution_count": 16,
   "metadata": {},
   "outputs": [],
   "source": [
    "new_flow_list=[]\n",
    "for exc in flow_list:\n",
    "    new_flow_list.append((new_heat_supply.id, exc[1]))\n",
    "    #new_flow_list.append(np.array((new_heat_supply.id, exc['col']), bwp.INDICES_DTYPE))\n"
   ]
  },
  {
   "cell_type": "code",
   "execution_count": 17,
   "metadata": {},
   "outputs": [],
   "source": [
    "empty_data= np.zeros(len(flow_list))"
   ]
  },
  {
   "cell_type": "code",
   "execution_count": 20,
   "metadata": {},
   "outputs": [],
   "source": [
    "data_list=[]\n",
    "for exc in flow_list:  \n",
    "    data_list.append(ei_pack.data[6][np.where(ei_pack.data[5] == np.array((exc), bwp.INDICES_DTYPE))][0])"
   ]
  },
  {
   "cell_type": "code",
   "execution_count": 21,
   "metadata": {},
   "outputs": [],
   "source": [
    "flip=np.zeros(len(data_list)*2, dtype=bool)"
   ]
  },
  {
   "cell_type": "code",
   "execution_count": 22,
   "metadata": {},
   "outputs": [],
   "source": [
    "indices = np.array(flow_list + new_flow_list, bwp.INDICES_DTYPE)\n",
    "data = np.array(list(empty_data) + data_list)"
   ]
  },
  {
   "cell_type": "code",
   "execution_count": 23,
   "metadata": {},
   "outputs": [],
   "source": [
    "dp = bwp.create_datapackage()"
   ]
  },
  {
   "cell_type": "code",
   "execution_count": 24,
   "metadata": {},
   "outputs": [],
   "source": [
    "dp.add_persistent_vector(\n",
    "    matrix=\"technosphere_matrix\",\n",
    "    data_array=data,\n",
    "    indices_array=indices,\n",
    "    flip=flip,\n",
    "    name=\"new_heat_supply\",\n",
    ")"
   ]
  },
  {
   "cell_type": "code",
   "execution_count": 25,
   "metadata": {},
   "outputs": [],
   "source": [
    "_, data_objs, _ = bd.prepare_lca_inputs({activity: 1}, ipcc)"
   ]
  },
  {
   "cell_type": "code",
   "execution_count": 30,
   "metadata": {},
   "outputs": [],
   "source": [
    "lca2 = bc.LCA({activity.id: 1}, data_objs=data_objs+[dp])\n",
    "lca2.lci()\n",
    "lca2.lcia()"
   ]
  },
  {
   "cell_type": "code",
   "execution_count": 31,
   "metadata": {},
   "outputs": [
    {
     "name": "stdout",
     "output_type": "stream",
     "text": [
      "2.477976880419227 1.782295314458163\n"
     ]
    }
   ],
   "source": [
    "print(lca1.score, lca2.score)"
   ]
  },
  {
   "cell_type": "code",
   "execution_count": null,
   "metadata": {},
   "outputs": [],
   "source": [
    "def create_sankey(method):\n",
    "    i=0\n",
    "    names=[]\n",
    "    values=[]\n",
    "    impact_sankey={}\n",
    "    while i< len(activities):\n",
    "        impact_sankey[activities[i][1]]={}\n",
    "        acti = Solvopet_db.get(activities[i][1])\n",
    "        if i!=len(activities)-1:\n",
    "            total_amount= list(Solvopet_db.get(activities[i+1][1]).technosphere())[0]['total']\n",
    "        else:\n",
    "            total_amount = func_unit\n",
    "\n",
    "        lca = bw.LCA({acti:total_amount}, recipe_meth[method])\n",
    "        lca.lci()\n",
    "        lca.lcia()\n",
    "        \n",
    "        for exc in acti.technosphere():\n",
    "            lca.redo_lcia({exc.input: exc['amount']*total_amount})\n",
    "            #impact_sankey[activities[i][1]][exc.input['name']]=lca.score\n",
    "            names.append(exc.input['name'])\n",
    "            values.append(lca.score)\n",
    "            if exc['input'][0]== 'Solvopet db':\n",
    "                impact_sankey[activities[i][1]]['Thermostat_Flow']={}\n",
    "                for exc2 in Solvopet_db.get('Thermostat').technosphere():\n",
    "                    lca.redo_lcia({exc2.input: exc2['amount']*total_amount* exc['amount']})\n",
    "                    impact_sankey[activities[i][1]]['Thermostat_Flow'][exc2.input['name']]=lca.score\n",
    "                    names.append(exc2.input['name'])\n",
    "                    values.append(lca.score)\n",
    "            #print(exc.input, lca.score)\n",
    "        i += 1\n",
    "    lca.redo_lcia({Solvopet_db.get('D700'):func[('Solvopet db', 'D700')] })\n",
    "    names.append('D700')\n",
    "    values.append(lca.score)\n",
    "    return(names, values)"
   ]
  },
  {
   "cell_type": "code",
   "execution_count": null,
   "metadata": {},
   "outputs": [],
   "source": [
    "activities_names, activities_values = create_sankey(method)"
   ]
  },
  {
   "cell_type": "code",
   "execution_count": null,
   "metadata": {},
   "outputs": [],
   "source": [
    "data = dict(\n",
    "    type='sankey',\n",
    "    width = 1118,\n",
    "    height = 772,\n",
    "    domain = dict(\n",
    "      x =  [0,1],\n",
    "      y =  [0,1]\n",
    "    ),\n",
    "    textfont = dict(size=12),\n",
    "    node = dict(\n",
    "      pad = 15,\n",
    "      thickness = 40,\n",
    "      line = dict(\n",
    "        color = \"white\",\n",
    "        width = 0.1\n",
    "      ),\n",
    "      label = activities_names,\n",
    "        \n",
    "      \n",
    "      color =   ['mediumaquamarine',\n",
    "                 'steelblue',\n",
    "                 'steelblue',\n",
    "                 'gold',\n",
    "                 'steelblue',\n",
    "                 'gold',\n",
    "                 'gold',\n",
    "                 'gold',\n",
    "                 'gold',\n",
    "                 'mediumaquamarine',\n",
    "                 'mediumaquamarine',\n",
    "                 'coral',\n",
    "                 'gold',\n",
    "                 'mediumaquamarine',\n",
    "                 'steelblue',\n",
    "                 'gold',\n",
    "                 'gold',\n",
    "                 'brown',\n",
    "                 'steelblue',\n",
    "                 'gold',\n",
    "                 'gold',\n",
    "                 'mediumaquamarine',\n",
    "                 'coral',\n",
    "                 'gold',\n",
    "                 'mediumaquamarine',\n",
    "                 'steelblue',\n",
    "                 'gold',\n",
    "                 'mediumaquamarine',\n",
    "                 'brown',\n",
    "                 'steelblue',\n",
    "                 'coral',\n",
    "                 'gold',\n",
    "                 'mediumaquamarine',\n",
    "                 'gold',\n",
    "                 'steelblue',\n",
    "                 'white'\n",
    "                 ]\n",
    "    ),\n",
    "    link = dict(\n",
    "      color = ['mediumturquoise',\n",
    "                 'lightskyblue',\n",
    "                 'lightskyblue',\n",
    "                 'khaki',\n",
    "                 'lightskyblue',\n",
    "                 'khaki',\n",
    "                 'khaki',\n",
    "                 'khaki',\n",
    "                 'khaki',\n",
    "                 'mediumturquoise',\n",
    "                 'mediumturquoise',\n",
    "                 'mistyrose',\n",
    "                 'khaki',\n",
    "                 'mediumturquoise',\n",
    "                 'lightskyblue',\n",
    "                 'khaki',\n",
    "                 'khaki',\n",
    "                 'lightcoral',\n",
    "                 'lightskyblue',\n",
    "                 'khaki',\n",
    "                 'khaki',\n",
    "                 'mediumturquoise',\n",
    "                 'mistyrose',\n",
    "                 'khaki',\n",
    "                 'mediumturquoise',\n",
    "                 'lightskyblue',\n",
    "                 'khaki',\n",
    "                 'mediumturquoise',\n",
    "                 'lightcoral',\n",
    "                 'lightskyblue',\n",
    "                 'mistyrose',\n",
    "                 'khaki',\n",
    "                 'mediumturquoise',\n",
    "                 'khaki',\n",
    "                 'lightskyblue',\n",
    "                 'lightskyblue'\n",
    "                 ],\n",
    "      source = [0,1,2,3,4 , 5, 6, 7, 8, 9,10,11,12,13,14,15,16,17,18,19,20,21,22,23,24,25,26,27,28,29,30,31,32,33,34],\n",
    "      target = [4,4,4,4,14,14,14,14,14,14,14,14,11,11,18,18,18,18,25,25,25,25,25,22,22,29,29,29,29,34,34,30,30,34,35],\n",
    "      value = activities_values\n",
    "  ))\n",
    "\n",
    "layout =  dict(\n",
    "    title = method,\n",
    "    font = dict(\n",
    "      size = 10\n",
    "    )\n",
    ")\n",
    "\n",
    "fig = dict(data=[data], layout=layout)\n",
    "plotly.offline.plot(fig, filename= 'sankey_'+method+'oeko'+'.html', validate=False)\n",
    "#py.iplot(fig, validate=False)\n"
   ]
  }
 ],
 "metadata": {
  "kernelspec": {
   "display_name": "Python 3 (ipykernel)",
   "language": "python",
   "name": "python3"
  },
  "language_info": {
   "codemirror_mode": {
    "name": "ipython",
    "version": 3
   },
   "file_extension": ".py",
   "mimetype": "text/x-python",
   "name": "python",
   "nbconvert_exporter": "python",
   "pygments_lexer": "ipython3",
   "version": "3.10.6"
  },
  "vscode": {
   "interpreter": {
    "hash": "7fae8fcb63aab852d43282f8d6b4358276f4fc1369b1ce19a999eb0a03de67cf"
   }
  }
 },
 "nbformat": 4,
 "nbformat_minor": 2
}
