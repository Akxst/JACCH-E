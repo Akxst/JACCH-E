{
 "cells": [
  {
   "cell_type": "code",
   "execution_count": 79,
   "metadata": {},
   "outputs": [],
   "source": [
    "import pandas as pd\n",
    "import bw2data as bd\n",
    "import bw2io as bi\n",
    "import bw2analyzer as ba\n",
    "import bw2calc as bc\n",
    "import bw_processing as bwp\n",
    "from pathlib import Path\n",
    "import numpy as np\n",
    "import csv\n",
    "import sys"
   ]
  },
  {
   "cell_type": "code",
   "execution_count": 80,
   "metadata": {},
   "outputs": [],
   "source": [
    "bd.projects.set_current('ei38-teaching-25')\n",
    "ipcc=('IPCC 2013', 'climate change', 'GWP 100a')"
   ]
  },
  {
   "cell_type": "code",
   "execution_count": 81,
   "metadata": {},
   "outputs": [],
   "source": [
    "ei = bd.Database('ei 3.8 cutoff')\n",
    "activity= ei.get('6a7848cd768f5163834eec59c80de49b')\n",
    "ei_pack=ei.datapackage()"
   ]
  },
  {
   "cell_type": "code",
   "execution_count": 171,
   "metadata": {},
   "outputs": [
    {
     "data": {
      "text/plain": [
       "2.477976880419227"
      ]
     },
     "execution_count": 171,
     "metadata": {},
     "output_type": "execute_result"
    }
   ],
   "source": [
    "lca1 = bc.LCA({activity: 1}, ipcc)\n",
    "lca1.lci()\n",
    "lca1.lcia()\n",
    "lca1.score"
   ]
  },
  {
   "cell_type": "code",
   "execution_count": 82,
   "metadata": {},
   "outputs": [],
   "source": [
    "#[act for act in ei if 'market for acrylic acid' in  act['name']][1].id"
   ]
  },
  {
   "cell_type": "code",
   "execution_count": 83,
   "metadata": {},
   "outputs": [],
   "source": [
    "heat_acts=[act for act in ei if 'heat production' in  act['name']\n",
    "#and ('RER' in act['location'] or 'DE' in act['location'] or 'Europe without Switzerland' in act['location'])\n",
    "#and 'heat' in act['reference product'] \n",
    "and 'heat pump' not in act['name']\n",
    "and 'biomethane' not in act['name']\n",
    "#and ('natural gas' in act['name'] or 'anthracite' in act['name'])\n",
    "]"
   ]
  },
  {
   "cell_type": "code",
   "execution_count": 100,
   "metadata": {},
   "outputs": [
    {
     "data": {
      "text/plain": [
       "'electricity, from municipal waste incineration to generic market for electricity, medium voltage' (kilowatt hour, DE, None)"
      ]
     },
     "execution_count": 100,
     "metadata": {},
     "output_type": "execute_result"
    }
   ],
   "source": [
    "new_heat_supply=[act for act in ei if 'market for electricity, medium voltage' in act['name'] and 'DE' in act['location']][0]\n",
    "new_heat_supply"
   ]
  },
  {
   "cell_type": "code",
   "execution_count": 84,
   "metadata": {},
   "outputs": [],
   "source": [
    "exchange =list(activity.technosphere())[0]\n",
    "a= np.array((exchange.input.id, exchange.output.id), bwp.INDICES_DTYPE)"
   ]
  },
  {
   "cell_type": "code",
   "execution_count": 85,
   "metadata": {},
   "outputs": [
    {
     "data": {
      "text/plain": [
       "(array([157541], dtype=int64),)"
      ]
     },
     "execution_count": 85,
     "metadata": {},
     "output_type": "execute_result"
    }
   ],
   "source": [
    "np.where(ei_pack.data[5] == a)"
   ]
  },
  {
   "cell_type": "code",
   "execution_count": 86,
   "metadata": {},
   "outputs": [],
   "source": [
    "index=[]\n",
    "flow_list=[]\n",
    "global depth\n",
    "depth=0\n",
    "max_depth=2"
   ]
  },
  {
   "cell_type": "code",
   "execution_count": 87,
   "metadata": {},
   "outputs": [
    {
     "data": {
      "text/plain": [
       "4428"
      ]
     },
     "execution_count": 87,
     "metadata": {},
     "output_type": "execute_result"
    }
   ],
   "source": [
    "ei_pack.data[5][3]['row']"
   ]
  },
  {
   "cell_type": "code",
   "execution_count": 88,
   "metadata": {},
   "outputs": [],
   "source": [
    "def recurse_supply(act, depth=0, max_depth=1, flow_dic={},amount=1):\n",
    "    #global depth\n",
    "    for exc in act.technosphere():\n",
    "        \n",
    "        if exc.input in heat_acts:\n",
    "            amount = exc['amount']*amount\n",
    "            flow_dic[exc.input]=amount\n",
    "            \n",
    "        elif depth< max_depth:\n",
    "            depth +=1 \n",
    "            depth, flow_dic = recurse_supply(exc.input,depth, max_depth, flow_dic, amount)\n",
    "    \n",
    "    depth -= 1\n",
    "    return depth, flow_dic"
   ]
  },
  {
   "cell_type": "code",
   "execution_count": 89,
   "metadata": {},
   "outputs": [],
   "source": [
    "def recurse_supply(act, depth=0, max_depth=1, flow_dic={},amount=1):\n",
    "    #global depth\n",
    "    for exc in act.technosphere():\n",
    "        \n",
    "        if exc.input in heat_acts:\n",
    "            amount = exc['amount']*amount\n",
    "            flow_dic[exc.input]=amount\n",
    "            \n",
    "        elif depth< max_depth:\n",
    "            depth +=1 \n",
    "            depth, flow_dic = recurse_supply(exc.input,depth, max_depth, flow_dic, amount)\n",
    "    \n",
    "    depth -= 1\n",
    "    return depth, flow_dic"
   ]
  },
  {
   "cell_type": "code",
   "execution_count": 134,
   "metadata": {},
   "outputs": [],
   "source": [
    "def recurse_supply(act):\n",
    "    global depth\n",
    "    for exc in act.technosphere():\n",
    "        if exc.input in heat_acts:\n",
    "            #flow_list.append(np.array((exc.input.id, exc.output.id), bwp.INDICES_DTYPE))\n",
    "            flow_list.append((exc.input.id, exc.output.id))\n",
    "            #print(exc.input)\n",
    "        elif depth< max_depth:\n",
    "            depth +=1 \n",
    "            recurse_supply(exc.input)\n",
    "    depth -= 1\n",
    "        "
   ]
  },
  {
   "cell_type": "code",
   "execution_count": 133,
   "metadata": {},
   "outputs": [
    {
     "name": "stdout",
     "output_type": "stream",
     "text": [
      "'heat production, natural gas, at boiler modulating >100kW' (megajoule, Europe without Switzerland, None)\n",
      "'heat production, hardwood chips from forest, at furnace 50kW, state-of-the-art 2014' (megajoule, CH, None)\n",
      "'heat production, hardwood chips from forest, at furnace 50kW' (megajoule, CH, None)\n",
      "'heat production, light fuel oil, at boiler 100kW condensing, non-modulating' (megajoule, CH, None)\n",
      "'heat production, light fuel oil, at boiler 100kW, non-modulating' (megajoule, CH, None)\n",
      "'heat production, light fuel oil, at boiler 10kW condensing, non-modulating' (megajoule, CH, None)\n",
      "'heat production, light fuel oil, at boiler 10kW, non-modulating' (megajoule, CH, None)\n",
      "'heat production, mixed logs, at furnace 100kW, state-of-the-art 2014' (megajoule, CH, None)\n",
      "'heat production, mixed logs, at furnace 100kW' (megajoule, CH, None)\n",
      "'heat production, mixed logs, at furnace 30kW, state-of-the-art 2014' (megajoule, CH, None)\n",
      "'heat production, mixed logs, at furnace 30kW' (megajoule, CH, None)\n",
      "'heat production, mixed logs, at wood heater 6kW, state-of-the-art 2014' (megajoule, CH, None)\n",
      "'heat production, mixed logs, at wood heater 6kW' (megajoule, CH, None)\n",
      "'heat production, softwood chips from forest, at furnace 50kW, state-of-the-art 2014' (megajoule, CH, None)\n",
      "'heat production, softwood chips from forest, at furnace 50kW' (megajoule, CH, None)\n",
      "'heat production, wood chips from industry, at furnace 50kW, state-of-the-art 2014' (megajoule, CH, None)\n",
      "'heat production, wood chips from industry, at furnace 50kW' (megajoule, CH, None)\n",
      "'heat production, wood pellet, at furnace 25kW, state-of-the-art 2014' (megajoule, CH, None)\n",
      "'heat production, wood pellet, at furnace 25kW' (megajoule, CH, None)\n",
      "'heat production, wood pellet, at furnace 300kW' (megajoule, CH, None)\n",
      "'heat production, wood pellet, at furnace 9kW, state-of-the-art 2014' (megajoule, CH, None)\n",
      "'heat production, wood pellet, at furnace 9kW' (megajoule, CH, None)\n",
      "'heat production, natural gas, at industrial furnace >100kW' (megajoule, Europe without Switzerland, None)\n",
      "'heat production, natural gas, at industrial furnace low-NOx >100kW' (megajoule, Europe without Switzerland, None)\n",
      "'heat production, natural gas, at boiler condensing modulating >100kW' (megajoule, RoW, None)\n",
      "'heat production, natural gas, at boiler modulating >100kW' (megajoule, RoW, None)\n",
      "'heat production, natural gas, at industrial furnace >100kW' (megajoule, RoW, None)\n",
      "'heat production, natural gas, at industrial furnace low-NOx >100kW' (megajoule, RoW, None)\n",
      "'heat production, natural gas, at boiler condensing modulating >100kW' (megajoule, CA-QC, None)\n",
      "'heat production, natural gas, at boiler modulating >100kW' (megajoule, CA-QC, None)\n",
      "'heat production, natural gas, at industrial furnace >100kW' (megajoule, CA-QC, None)\n",
      "'heat production, natural gas, at industrial furnace low-NOx >100kW' (megajoule, CA-QC, None)\n",
      "'heat production, natural gas, at boiler condensing modulating >100kW' (megajoule, RoW, None)\n",
      "'heat production, natural gas, at boiler modulating >100kW' (megajoule, RoW, None)\n",
      "'heat production, natural gas, at industrial furnace >100kW' (megajoule, RoW, None)\n",
      "'heat production, natural gas, at industrial furnace low-NOx >100kW' (megajoule, RoW, None)\n",
      "'heat production, natural gas, at industrial furnace >100kW' (megajoule, Europe without Switzerland, None)\n",
      "'heat production, natural gas, at industrial furnace low-NOx >100kW' (megajoule, Europe without Switzerland, None)\n",
      "'heat production, natural gas, at industrial furnace >100kW' (megajoule, Europe without Switzerland, None)\n",
      "'heat production, natural gas, at industrial furnace low-NOx >100kW' (megajoule, Europe without Switzerland, None)\n",
      "'heat production, natural gas, at industrial furnace >100kW' (megajoule, Europe without Switzerland, None)\n",
      "'heat production, natural gas, at industrial furnace low-NOx >100kW' (megajoule, Europe without Switzerland, None)\n",
      "'heat production, natural gas, at industrial furnace >100kW' (megajoule, Europe without Switzerland, None)\n",
      "'heat production, natural gas, at industrial furnace low-NOx >100kW' (megajoule, Europe without Switzerland, None)\n",
      "'heat production, natural gas, at industrial furnace >100kW' (megajoule, Europe without Switzerland, None)\n",
      "'heat production, natural gas, at industrial furnace low-NOx >100kW' (megajoule, Europe without Switzerland, None)\n",
      "'heat production, natural gas, at industrial furnace >100kW' (megajoule, Europe without Switzerland, None)\n",
      "'heat production, natural gas, at industrial furnace low-NOx >100kW' (megajoule, Europe without Switzerland, None)\n",
      "'heat production, natural gas, at industrial furnace >100kW' (megajoule, Europe without Switzerland, None)\n",
      "'heat production, natural gas, at industrial furnace low-NOx >100kW' (megajoule, Europe without Switzerland, None)\n",
      "'heat production, natural gas, at industrial furnace >100kW' (megajoule, Europe without Switzerland, None)\n",
      "'heat production, natural gas, at industrial furnace low-NOx >100kW' (megajoule, Europe without Switzerland, None)\n",
      "'heat production, natural gas, at industrial furnace >100kW' (megajoule, Europe without Switzerland, None)\n",
      "'heat production, natural gas, at industrial furnace low-NOx >100kW' (megajoule, Europe without Switzerland, None)\n",
      "'heat production, natural gas, at industrial furnace >100kW' (megajoule, Europe without Switzerland, None)\n",
      "'heat production, natural gas, at industrial furnace low-NOx >100kW' (megajoule, Europe without Switzerland, None)\n",
      "'heat production, natural gas, at industrial furnace >100kW' (megajoule, Europe without Switzerland, None)\n",
      "'heat production, natural gas, at industrial furnace low-NOx >100kW' (megajoule, Europe without Switzerland, None)\n",
      "'heat production, natural gas, at industrial furnace >100kW' (megajoule, Europe without Switzerland, None)\n",
      "'heat production, natural gas, at industrial furnace low-NOx >100kW' (megajoule, Europe without Switzerland, None)\n",
      "'heat production, natural gas, at industrial furnace >100kW' (megajoule, Europe without Switzerland, None)\n",
      "'heat production, natural gas, at industrial furnace low-NOx >100kW' (megajoule, Europe without Switzerland, None)\n",
      "'heat production, natural gas, at industrial furnace >100kW' (megajoule, Europe without Switzerland, None)\n",
      "'heat production, natural gas, at industrial furnace low-NOx >100kW' (megajoule, Europe without Switzerland, None)\n",
      "'heat production, natural gas, at industrial furnace >100kW' (megajoule, Europe without Switzerland, None)\n",
      "'heat production, natural gas, at industrial furnace low-NOx >100kW' (megajoule, Europe without Switzerland, None)\n",
      "'heat production, natural gas, at industrial furnace >100kW' (megajoule, Europe without Switzerland, None)\n",
      "'heat production, natural gas, at industrial furnace low-NOx >100kW' (megajoule, Europe without Switzerland, None)\n",
      "'heat production, natural gas, at industrial furnace >100kW' (megajoule, Europe without Switzerland, None)\n",
      "'heat production, natural gas, at industrial furnace low-NOx >100kW' (megajoule, Europe without Switzerland, None)\n",
      "'heat production, natural gas, at industrial furnace >100kW' (megajoule, Europe without Switzerland, None)\n",
      "'heat production, natural gas, at industrial furnace low-NOx >100kW' (megajoule, Europe without Switzerland, None)\n"
     ]
    }
   ],
   "source": [
    "flow_list=[]\n",
    "global depth\n",
    "depth=0\n",
    "max_depth=3\n",
    "recurse_supply(activity)"
   ]
  },
  {
   "cell_type": "code",
   "execution_count": 136,
   "metadata": {},
   "outputs": [],
   "source": [
    "new_flow_list=[]\n",
    "for exc in flow_list:\n",
    "    new_flow_list.append((new_heat_supply.id, exc[1]))\n",
    "    #new_flow_list.append(np.array((new_heat_supply.id, exc['col']), bwp.INDICES_DTYPE))\n"
   ]
  },
  {
   "cell_type": "code",
   "execution_count": 137,
   "metadata": {},
   "outputs": [],
   "source": [
    "empty_data= np.zeros(len(flow_list))"
   ]
  },
  {
   "cell_type": "code",
   "execution_count": null,
   "metadata": {},
   "outputs": [],
   "source": []
  },
  {
   "cell_type": "code",
   "execution_count": null,
   "metadata": {},
   "outputs": [],
   "source": [
    "#new_flow_list.append(np.array((new_heat_supply.id, exc['col']), bwp.INDICES_DTYPE))"
   ]
  },
  {
   "cell_type": "code",
   "execution_count": 140,
   "metadata": {},
   "outputs": [],
   "source": [
    "data_list=[]\n",
    "for exc in flow_list:\n",
    "    data_list.append(ei_pack.data[6][np.where(ei_pack.data[5] == np.array((exc), bwp.INDICES_DTYPE))][0])"
   ]
  },
  {
   "cell_type": "code",
   "execution_count": 165,
   "metadata": {},
   "outputs": [],
   "source": [
    "indices = np.array(flow_list + new_flow_list, bwp.INDICES_DTYPE)\n",
    "data = np.array(list(empty_data) + data_list)"
   ]
  },
  {
   "cell_type": "code",
   "execution_count": 167,
   "metadata": {},
   "outputs": [],
   "source": [
    "dp = bwp.create_datapackage()"
   ]
  },
  {
   "cell_type": "code",
   "execution_count": 168,
   "metadata": {},
   "outputs": [],
   "source": [
    "\n",
    "dp.add_persistent_vector(\n",
    "    matrix=\"technosphere_matrix\",\n",
    "    data_array=data,\n",
    "    indices_array=indices,\n",
    "    name=\"new_heat_supply\",\n",
    ")"
   ]
  },
  {
   "cell_type": "code",
   "execution_count": 169,
   "metadata": {},
   "outputs": [],
   "source": [
    "_, data_objs, _ = bd.prepare_lca_inputs({activity: 1}, ipcc)"
   ]
  },
  {
   "cell_type": "code",
   "execution_count": 172,
   "metadata": {},
   "outputs": [],
   "source": [
    "lca2 = bc.LCA({activity.id: 1}, data_objs=data_objs + [dp])\n",
    "lca2.lci()\n",
    "lca2.lcia()"
   ]
  },
  {
   "cell_type": "code",
   "execution_count": null,
   "metadata": {},
   "outputs": [],
   "source": [
    "\n",
    "print(lca1.score, lca2.score)"
   ]
  },
  {
   "cell_type": "code",
   "execution_count": null,
   "metadata": {},
   "outputs": [],
   "source": []
  }
 ],
 "metadata": {
  "kernelspec": {
   "display_name": "Python 3 (ipykernel)",
   "language": "python",
   "name": "python3"
  },
  "language_info": {
   "codemirror_mode": {
    "name": "ipython",
    "version": 3
   },
   "file_extension": ".py",
   "mimetype": "text/x-python",
   "name": "python",
   "nbconvert_exporter": "python",
   "pygments_lexer": "ipython3",
   "version": "3.10.6"
  },
  "vscode": {
   "interpreter": {
    "hash": "7fae8fcb63aab852d43282f8d6b4358276f4fc1369b1ce19a999eb0a03de67cf"
   }
  }
 },
 "nbformat": 4,
 "nbformat_minor": 2
}
