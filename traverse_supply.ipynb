{
 "cells": [
  {
   "cell_type": "code",
   "execution_count": 2,
   "metadata": {},
   "outputs": [],
   "source": [
    "import pandas as pd\n",
    "import bw2data as bd\n",
    "import bw2io as bi\n",
    "import bw2analyzer as ba\n",
    "import bw2calc as bc\n",
    "import bw_processing as bwp\n",
    "from pathlib import Path\n",
    "import numpy as np\n",
    "import csv\n",
    "import sys"
   ]
  },
  {
   "cell_type": "code",
   "execution_count": 3,
   "metadata": {},
   "outputs": [],
   "source": [
    "bd.projects.set_current('ei38-teaching-25')\n",
    "ipcc=('IPCC 2013', 'climate change', 'GWP 100a')"
   ]
  },
  {
   "cell_type": "code",
   "execution_count": 28,
   "metadata": {},
   "outputs": [],
   "source": [
    "ei = bd.Database('ei 3.8 cutoff')\n",
    "activity= ei.get('6a7848cd768f5163834eec59c80de49b')\n",
    "ei_pack=ei.datapackage()"
   ]
  },
  {
   "cell_type": "code",
   "execution_count": 5,
   "metadata": {},
   "outputs": [
    {
     "data": {
      "text/plain": [
       "15498"
      ]
     },
     "execution_count": 5,
     "metadata": {},
     "output_type": "execute_result"
    }
   ],
   "source": [
    "#[act for act in ei if 'market for acrylic acid' in  act['name']][1].id"
   ]
  },
  {
   "cell_type": "code",
   "execution_count": 26,
   "metadata": {},
   "outputs": [],
   "source": [
    "heat_acts=[act for act in ei if 'heat production' in  act['name']\n",
    "#and ('RER' in act['location'] or 'DE' in act['location'] or 'Europe without Switzerland' in act['location'])\n",
    "#and 'heat' in act['reference product'] \n",
    "and 'heat pump' not in act['name']\n",
    "and 'biomethane' not in act['name']\n",
    "#and ('natural gas' in act['name'] or 'anthracite' in act['name'])\n",
    "]"
   ]
  },
  {
   "cell_type": "code",
   "execution_count": 52,
   "metadata": {},
   "outputs": [],
   "source": [
    "exchange =list(activity.technosphere())[0]\n",
    "a= np.array((exchange.input.id, exchange.output.id), bwp.INDICES_DTYPE)"
   ]
  },
  {
   "cell_type": "code",
   "execution_count": 55,
   "metadata": {},
   "outputs": [
    {
     "data": {
      "text/plain": [
       "(array([157541], dtype=int64),)"
      ]
     },
     "execution_count": 55,
     "metadata": {},
     "output_type": "execute_result"
    }
   ],
   "source": [
    "np.where(ei_pack.data[5] == a)"
   ]
  },
  {
   "cell_type": "code",
   "execution_count": 32,
   "metadata": {},
   "outputs": [],
   "source": [
    "index=[]\n",
    "flow_list=[]\n",
    "global depth\n",
    "depth=0\n",
    "max_depth=2"
   ]
  },
  {
   "cell_type": "code",
   "execution_count": 9,
   "metadata": {},
   "outputs": [
    {
     "data": {
      "text/plain": [
       "4428"
      ]
     },
     "execution_count": 9,
     "metadata": {},
     "output_type": "execute_result"
    }
   ],
   "source": [
    "ei_pack.data[5][3]['row']"
   ]
  },
  {
   "cell_type": "code",
   "execution_count": null,
   "metadata": {},
   "outputs": [],
   "source": [
    "def recurse_supply(act, depth=0, max_depth=1, flow_dic={},amount=1):\n",
    "    #global depth\n",
    "    for exc in act.technosphere():\n",
    "        \n",
    "        if exc.input in heat_acts:\n",
    "            amount = exc['amount']*amount\n",
    "            flow_dic[exc.input]=amount\n",
    "            \n",
    "        elif depth< max_depth:\n",
    "            depth +=1 \n",
    "            depth, flow_dic = recurse_supply(exc.input,depth, max_depth, flow_dic, amount)\n",
    "    \n",
    "    depth -= 1\n",
    "    return depth, flow_dic"
   ]
  },
  {
   "cell_type": "code",
   "execution_count": null,
   "metadata": {},
   "outputs": [],
   "source": [
    "def recurse_supply(act, depth=0, max_depth=1, flow_dic={},amount=1):\n",
    "    #global depth\n",
    "    for exc in act.technosphere():\n",
    "        \n",
    "        if exc.input in heat_acts:\n",
    "            amount = exc['amount']*amount\n",
    "            flow_dic[exc.input]=amount\n",
    "            \n",
    "        elif depth< max_depth:\n",
    "            depth +=1 \n",
    "            depth, flow_dic = recurse_supply(exc.input,depth, max_depth, flow_dic, amount)\n",
    "    \n",
    "    depth -= 1\n",
    "    return depth, flow_dic"
   ]
  },
  {
   "cell_type": "code",
   "execution_count": 61,
   "metadata": {},
   "outputs": [],
   "source": [
    "def recurse_supply(act):\n",
    "    global depth\n",
    "    for exc in act.technosphere():\n",
    "        if exc.input in heat_acts:\n",
    "            flow_list.append(np.array((exc.input.id, exc.output.id), bwp.INDICES_DTYPE))\n",
    "            print(exc.input)\n",
    "        elif depth< max_depth:\n",
    "            depth +=1 \n",
    "            recurse_supply(exc.input)\n",
    "    depth -= 1\n",
    "        "
   ]
  },
  {
   "cell_type": "code",
   "execution_count": 62,
   "metadata": {},
   "outputs": [
    {
     "name": "stdout",
     "output_type": "stream",
     "text": [
      "'heat production, natural gas, at boiler modulating >100kW' (megajoule, Europe without Switzerland, None)\n",
      "'heat production, hardwood chips from forest, at furnace 50kW, state-of-the-art 2014' (megajoule, CH, None)\n",
      "'heat production, hardwood chips from forest, at furnace 50kW' (megajoule, CH, None)\n",
      "'heat production, light fuel oil, at boiler 100kW condensing, non-modulating' (megajoule, CH, None)\n",
      "'heat production, light fuel oil, at boiler 100kW, non-modulating' (megajoule, CH, None)\n",
      "'heat production, light fuel oil, at boiler 10kW condensing, non-modulating' (megajoule, CH, None)\n",
      "'heat production, light fuel oil, at boiler 10kW, non-modulating' (megajoule, CH, None)\n",
      "'heat production, mixed logs, at furnace 100kW, state-of-the-art 2014' (megajoule, CH, None)\n",
      "'heat production, mixed logs, at furnace 100kW' (megajoule, CH, None)\n",
      "'heat production, mixed logs, at furnace 30kW, state-of-the-art 2014' (megajoule, CH, None)\n",
      "'heat production, mixed logs, at furnace 30kW' (megajoule, CH, None)\n",
      "'heat production, mixed logs, at wood heater 6kW, state-of-the-art 2014' (megajoule, CH, None)\n",
      "'heat production, mixed logs, at wood heater 6kW' (megajoule, CH, None)\n",
      "'heat production, softwood chips from forest, at furnace 50kW, state-of-the-art 2014' (megajoule, CH, None)\n",
      "'heat production, softwood chips from forest, at furnace 50kW' (megajoule, CH, None)\n",
      "'heat production, wood chips from industry, at furnace 50kW, state-of-the-art 2014' (megajoule, CH, None)\n",
      "'heat production, wood chips from industry, at furnace 50kW' (megajoule, CH, None)\n",
      "'heat production, wood pellet, at furnace 25kW, state-of-the-art 2014' (megajoule, CH, None)\n",
      "'heat production, wood pellet, at furnace 25kW' (megajoule, CH, None)\n",
      "'heat production, wood pellet, at furnace 300kW' (megajoule, CH, None)\n",
      "'heat production, wood pellet, at furnace 9kW, state-of-the-art 2014' (megajoule, CH, None)\n",
      "'heat production, wood pellet, at furnace 9kW' (megajoule, CH, None)\n",
      "'heat production, natural gas, at industrial furnace >100kW' (megajoule, Europe without Switzerland, None)\n",
      "'heat production, natural gas, at industrial furnace low-NOx >100kW' (megajoule, Europe without Switzerland, None)\n",
      "'heat production, natural gas, at boiler condensing modulating >100kW' (megajoule, RoW, None)\n",
      "'heat production, natural gas, at boiler modulating >100kW' (megajoule, RoW, None)\n",
      "'heat production, natural gas, at industrial furnace >100kW' (megajoule, RoW, None)\n",
      "'heat production, natural gas, at industrial furnace low-NOx >100kW' (megajoule, RoW, None)\n",
      "'heat production, natural gas, at boiler condensing modulating >100kW' (megajoule, CA-QC, None)\n",
      "'heat production, natural gas, at boiler modulating >100kW' (megajoule, CA-QC, None)\n",
      "'heat production, natural gas, at industrial furnace >100kW' (megajoule, CA-QC, None)\n",
      "'heat production, natural gas, at industrial furnace low-NOx >100kW' (megajoule, CA-QC, None)\n",
      "'heat production, natural gas, at boiler condensing modulating >100kW' (megajoule, RoW, None)\n",
      "'heat production, natural gas, at boiler modulating >100kW' (megajoule, RoW, None)\n",
      "'heat production, natural gas, at industrial furnace >100kW' (megajoule, RoW, None)\n",
      "'heat production, natural gas, at industrial furnace low-NOx >100kW' (megajoule, RoW, None)\n",
      "'heat production, natural gas, at industrial furnace >100kW' (megajoule, Europe without Switzerland, None)\n",
      "'heat production, natural gas, at industrial furnace low-NOx >100kW' (megajoule, Europe without Switzerland, None)\n",
      "'heat production, natural gas, at industrial furnace >100kW' (megajoule, Europe without Switzerland, None)\n",
      "'heat production, natural gas, at industrial furnace low-NOx >100kW' (megajoule, Europe without Switzerland, None)\n",
      "'heat production, natural gas, at industrial furnace >100kW' (megajoule, Europe without Switzerland, None)\n",
      "'heat production, natural gas, at industrial furnace low-NOx >100kW' (megajoule, Europe without Switzerland, None)\n",
      "'heat production, natural gas, at industrial furnace >100kW' (megajoule, Europe without Switzerland, None)\n",
      "'heat production, natural gas, at industrial furnace low-NOx >100kW' (megajoule, Europe without Switzerland, None)\n",
      "'heat production, natural gas, at industrial furnace >100kW' (megajoule, Europe without Switzerland, None)\n",
      "'heat production, natural gas, at industrial furnace low-NOx >100kW' (megajoule, Europe without Switzerland, None)\n",
      "'heat production, natural gas, at industrial furnace >100kW' (megajoule, Europe without Switzerland, None)\n",
      "'heat production, natural gas, at industrial furnace low-NOx >100kW' (megajoule, Europe without Switzerland, None)\n",
      "'heat production, natural gas, at industrial furnace >100kW' (megajoule, Europe without Switzerland, None)\n",
      "'heat production, natural gas, at industrial furnace low-NOx >100kW' (megajoule, Europe without Switzerland, None)\n",
      "'heat production, natural gas, at industrial furnace >100kW' (megajoule, Europe without Switzerland, None)\n",
      "'heat production, natural gas, at industrial furnace low-NOx >100kW' (megajoule, Europe without Switzerland, None)\n",
      "'heat production, natural gas, at industrial furnace >100kW' (megajoule, Europe without Switzerland, None)\n",
      "'heat production, natural gas, at industrial furnace low-NOx >100kW' (megajoule, Europe without Switzerland, None)\n",
      "'heat production, natural gas, at industrial furnace >100kW' (megajoule, Europe without Switzerland, None)\n",
      "'heat production, natural gas, at industrial furnace low-NOx >100kW' (megajoule, Europe without Switzerland, None)\n",
      "'heat production, natural gas, at industrial furnace >100kW' (megajoule, Europe without Switzerland, None)\n",
      "'heat production, natural gas, at industrial furnace low-NOx >100kW' (megajoule, Europe without Switzerland, None)\n",
      "'heat production, natural gas, at industrial furnace >100kW' (megajoule, Europe without Switzerland, None)\n",
      "'heat production, natural gas, at industrial furnace low-NOx >100kW' (megajoule, Europe without Switzerland, None)\n",
      "'heat production, natural gas, at industrial furnace >100kW' (megajoule, Europe without Switzerland, None)\n",
      "'heat production, natural gas, at industrial furnace low-NOx >100kW' (megajoule, Europe without Switzerland, None)\n",
      "'heat production, natural gas, at industrial furnace >100kW' (megajoule, Europe without Switzerland, None)\n",
      "'heat production, natural gas, at industrial furnace low-NOx >100kW' (megajoule, Europe without Switzerland, None)\n",
      "'heat production, natural gas, at industrial furnace >100kW' (megajoule, Europe without Switzerland, None)\n",
      "'heat production, natural gas, at industrial furnace low-NOx >100kW' (megajoule, Europe without Switzerland, None)\n",
      "'heat production, natural gas, at industrial furnace >100kW' (megajoule, Europe without Switzerland, None)\n",
      "'heat production, natural gas, at industrial furnace low-NOx >100kW' (megajoule, Europe without Switzerland, None)\n",
      "'heat production, natural gas, at industrial furnace >100kW' (megajoule, Europe without Switzerland, None)\n",
      "'heat production, natural gas, at industrial furnace low-NOx >100kW' (megajoule, Europe without Switzerland, None)\n",
      "'heat production, natural gas, at industrial furnace >100kW' (megajoule, Europe without Switzerland, None)\n",
      "'heat production, natural gas, at industrial furnace low-NOx >100kW' (megajoule, Europe without Switzerland, None)\n"
     ]
    }
   ],
   "source": [
    "flow_list=[]\n",
    "global depth\n",
    "depth=0\n",
    "max_depth=3\n",
    "recurse_supply(activity)"
   ]
  },
  {
   "cell_type": "code",
   "execution_count": 63,
   "metadata": {},
   "outputs": [
    {
     "data": {
      "text/plain": [
       "[array((17601, 17526), dtype=[('row', '<i4'), ('col', '<i4')]),\n",
       " array((16708, 20823), dtype=[('row', '<i4'), ('col', '<i4')]),\n",
       " array((18519, 20823), dtype=[('row', '<i4'), ('col', '<i4')]),\n",
       " array((6998, 20823), dtype=[('row', '<i4'), ('col', '<i4')]),\n",
       " array((18590, 20823), dtype=[('row', '<i4'), ('col', '<i4')]),\n",
       " array((23197, 20823), dtype=[('row', '<i4'), ('col', '<i4')]),\n",
       " array((4916, 20823), dtype=[('row', '<i4'), ('col', '<i4')]),\n",
       " array((15721, 20823), dtype=[('row', '<i4'), ('col', '<i4')]),\n",
       " array((16902, 20823), dtype=[('row', '<i4'), ('col', '<i4')]),\n",
       " array((9094, 20823), dtype=[('row', '<i4'), ('col', '<i4')]),\n",
       " array((7050, 20823), dtype=[('row', '<i4'), ('col', '<i4')]),\n",
       " array((13690, 20823), dtype=[('row', '<i4'), ('col', '<i4')]),\n",
       " array((12052, 20823), dtype=[('row', '<i4'), ('col', '<i4')]),\n",
       " array((13286, 20823), dtype=[('row', '<i4'), ('col', '<i4')]),\n",
       " array((21713, 20823), dtype=[('row', '<i4'), ('col', '<i4')]),\n",
       " array((18899, 20823), dtype=[('row', '<i4'), ('col', '<i4')]),\n",
       " array((16242, 20823), dtype=[('row', '<i4'), ('col', '<i4')]),\n",
       " array((23758, 20823), dtype=[('row', '<i4'), ('col', '<i4')]),\n",
       " array((6228, 20823), dtype=[('row', '<i4'), ('col', '<i4')]),\n",
       " array((14255, 20823), dtype=[('row', '<i4'), ('col', '<i4')]),\n",
       " array((13826, 20823), dtype=[('row', '<i4'), ('col', '<i4')]),\n",
       " array((23921, 20823), dtype=[('row', '<i4'), ('col', '<i4')]),\n",
       " array((19782, 22303), dtype=[('row', '<i4'), ('col', '<i4')]),\n",
       " array((14990, 22303), dtype=[('row', '<i4'), ('col', '<i4')]),\n",
       " array((6698, 18034), dtype=[('row', '<i4'), ('col', '<i4')]),\n",
       " array((6913, 18034), dtype=[('row', '<i4'), ('col', '<i4')]),\n",
       " array((18791, 18034), dtype=[('row', '<i4'), ('col', '<i4')]),\n",
       " array((20692, 18034), dtype=[('row', '<i4'), ('col', '<i4')]),\n",
       " array((21393, 19795), dtype=[('row', '<i4'), ('col', '<i4')]),\n",
       " array((18585, 19795), dtype=[('row', '<i4'), ('col', '<i4')]),\n",
       " array((20455, 19795), dtype=[('row', '<i4'), ('col', '<i4')]),\n",
       " array((23145, 19795), dtype=[('row', '<i4'), ('col', '<i4')]),\n",
       " array((6698, 18034), dtype=[('row', '<i4'), ('col', '<i4')]),\n",
       " array((6913, 18034), dtype=[('row', '<i4'), ('col', '<i4')]),\n",
       " array((18791, 18034), dtype=[('row', '<i4'), ('col', '<i4')]),\n",
       " array((20692, 18034), dtype=[('row', '<i4'), ('col', '<i4')]),\n",
       " array((19782, 22303), dtype=[('row', '<i4'), ('col', '<i4')]),\n",
       " array((14990, 22303), dtype=[('row', '<i4'), ('col', '<i4')]),\n",
       " array((19782, 22303), dtype=[('row', '<i4'), ('col', '<i4')]),\n",
       " array((14990, 22303), dtype=[('row', '<i4'), ('col', '<i4')]),\n",
       " array((19782, 22303), dtype=[('row', '<i4'), ('col', '<i4')]),\n",
       " array((14990, 22303), dtype=[('row', '<i4'), ('col', '<i4')]),\n",
       " array((19782, 22303), dtype=[('row', '<i4'), ('col', '<i4')]),\n",
       " array((14990, 22303), dtype=[('row', '<i4'), ('col', '<i4')]),\n",
       " array((19782, 22303), dtype=[('row', '<i4'), ('col', '<i4')]),\n",
       " array((14990, 22303), dtype=[('row', '<i4'), ('col', '<i4')]),\n",
       " array((19782, 22303), dtype=[('row', '<i4'), ('col', '<i4')]),\n",
       " array((14990, 22303), dtype=[('row', '<i4'), ('col', '<i4')]),\n",
       " array((19782, 22303), dtype=[('row', '<i4'), ('col', '<i4')]),\n",
       " array((14990, 22303), dtype=[('row', '<i4'), ('col', '<i4')]),\n",
       " array((19782, 22303), dtype=[('row', '<i4'), ('col', '<i4')]),\n",
       " array((14990, 22303), dtype=[('row', '<i4'), ('col', '<i4')]),\n",
       " array((19782, 22303), dtype=[('row', '<i4'), ('col', '<i4')]),\n",
       " array((14990, 22303), dtype=[('row', '<i4'), ('col', '<i4')]),\n",
       " array((19782, 22303), dtype=[('row', '<i4'), ('col', '<i4')]),\n",
       " array((14990, 22303), dtype=[('row', '<i4'), ('col', '<i4')]),\n",
       " array((19782, 22303), dtype=[('row', '<i4'), ('col', '<i4')]),\n",
       " array((14990, 22303), dtype=[('row', '<i4'), ('col', '<i4')]),\n",
       " array((19782, 22303), dtype=[('row', '<i4'), ('col', '<i4')]),\n",
       " array((14990, 22303), dtype=[('row', '<i4'), ('col', '<i4')]),\n",
       " array((19782, 22303), dtype=[('row', '<i4'), ('col', '<i4')]),\n",
       " array((14990, 22303), dtype=[('row', '<i4'), ('col', '<i4')]),\n",
       " array((19782, 22303), dtype=[('row', '<i4'), ('col', '<i4')]),\n",
       " array((14990, 22303), dtype=[('row', '<i4'), ('col', '<i4')]),\n",
       " array((19782, 22303), dtype=[('row', '<i4'), ('col', '<i4')]),\n",
       " array((14990, 22303), dtype=[('row', '<i4'), ('col', '<i4')]),\n",
       " array((19782, 22303), dtype=[('row', '<i4'), ('col', '<i4')]),\n",
       " array((14990, 22303), dtype=[('row', '<i4'), ('col', '<i4')]),\n",
       " array((19782, 22303), dtype=[('row', '<i4'), ('col', '<i4')]),\n",
       " array((14990, 22303), dtype=[('row', '<i4'), ('col', '<i4')]),\n",
       " array((19782, 22303), dtype=[('row', '<i4'), ('col', '<i4')]),\n",
       " array((14990, 22303), dtype=[('row', '<i4'), ('col', '<i4')])]"
      ]
     },
     "execution_count": 63,
     "metadata": {},
     "output_type": "execute_result"
    }
   ],
   "source": [
    "flow_list"
   ]
  },
  {
   "cell_type": "code",
   "execution_count": 74,
   "metadata": {},
   "outputs": [
    {
     "name": "stdout",
     "output_type": "stream",
     "text": [
      "Not able to determine geocollections for all datasets. This database is not ready for regionalization.\n"
     ]
    },
    {
     "name": "stderr",
     "output_type": "stream",
     "text": [
      "Writing activities to SQLite3 database:\n",
      "0% [##############################] 100% | ETA: 00:00:00\n",
      "Total time elapsed: 00:01:44\n"
     ]
    },
    {
     "name": "stdout",
     "output_type": "stream",
     "text": [
      "Title: Writing activities to SQLite3 database:\n",
      "  Started: 10/27/2022 14:16:40\n",
      "  Finished: 10/27/2022 14:18:25\n",
      "  Total time elapsed: 00:01:44\n",
      "  CPU %: 31.80\n",
      "  Memory %: 39.34\n"
     ]
    },
    {
     "data": {
      "text/plain": [
       "Brightway2 SQLiteBackend: electrified_ei"
      ]
     },
     "execution_count": 74,
     "metadata": {},
     "output_type": "execute_result"
    }
   ],
   "source": [
    "ei.copy('electrified_ei')"
   ]
  },
  {
   "cell_type": "code",
   "execution_count": null,
   "metadata": {},
   "outputs": [],
   "source": []
  },
  {
   "cell_type": "code",
   "execution_count": 75,
   "metadata": {},
   "outputs": [
    {
     "data": {
      "text/plain": [
       "Databases dictionary with 4 object(s):\n",
       "\tbiosphere3\n",
       "\tei 3.8 cutoff\n",
       "\telectrified_ei\n",
       "\tpyrolysis_PE"
      ]
     },
     "execution_count": 75,
     "metadata": {},
     "output_type": "execute_result"
    }
   ],
   "source": [
    "bd.databases"
   ]
  },
  {
   "cell_type": "code",
   "execution_count": 65,
   "metadata": {},
   "outputs": [
    {
     "data": {
      "text/plain": [
       "array([1.        , 0.07408187, 0.0727171 , ..., 1.        , 1.        ,\n",
       "       1.        ], dtype=float32)"
      ]
     },
     "execution_count": 65,
     "metadata": {},
     "output_type": "execute_result"
    }
   ],
   "source": [
    "ei_pack.data[6]"
   ]
  },
  {
   "cell_type": "code",
   "execution_count": 67,
   "metadata": {},
   "outputs": [
    {
     "name": "stdout",
     "output_type": "stream",
     "text": [
      "[9.956987]\n",
      "[0.0596374]\n",
      "[0.33027884]\n",
      "[0.13457601]\n",
      "[0.12569064]\n",
      "[0.13457601]\n",
      "[0.13457601]\n",
      "[0.00010298]\n",
      "[0.00092679]\n",
      "[9.0708694e-05]\n",
      "[0.00898016]\n",
      "[0.00159112]\n",
      "[0.01432008]\n",
      "[8.0515114e-05]\n",
      "[0.00072464]\n",
      "[0.00015629]\n",
      "[0.00140665]\n",
      "[0.00269152]\n",
      "[0.00403728]\n",
      "[0.00099333]\n",
      "[0.00022677]\n",
      "[0.00022677]\n",
      "[0.5211304]\n",
      "[0.00951813]\n",
      "[0.01584295]\n",
      "[0.01608701]\n",
      "[0.01594725]\n",
      "[0.01633107]\n",
      "[0.2692081]\n",
      "[0.2533723]\n",
      "[0.2402851]\n",
      "[0.2371345]\n",
      "[0.01584295]\n",
      "[0.01608701]\n",
      "[0.01594725]\n",
      "[0.01633107]\n",
      "[0.5211304]\n",
      "[0.00951813]\n",
      "[0.5211304]\n",
      "[0.00951813]\n",
      "[0.5211304]\n",
      "[0.00951813]\n",
      "[0.5211304]\n",
      "[0.00951813]\n",
      "[0.5211304]\n",
      "[0.00951813]\n",
      "[0.5211304]\n",
      "[0.00951813]\n",
      "[0.5211304]\n",
      "[0.00951813]\n",
      "[0.5211304]\n",
      "[0.00951813]\n",
      "[0.5211304]\n",
      "[0.00951813]\n",
      "[0.5211304]\n",
      "[0.00951813]\n",
      "[0.5211304]\n",
      "[0.00951813]\n",
      "[0.5211304]\n",
      "[0.00951813]\n",
      "[0.5211304]\n",
      "[0.00951813]\n",
      "[0.5211304]\n",
      "[0.00951813]\n",
      "[0.5211304]\n",
      "[0.00951813]\n",
      "[0.5211304]\n",
      "[0.00951813]\n",
      "[0.5211304]\n",
      "[0.00951813]\n",
      "[0.5211304]\n",
      "[0.00951813]\n"
     ]
    }
   ],
   "source": [
    "for exc in flow_list:\n",
    "    print(ei_pack.data[6][np.where(ei_pack.data[5] == exc)[0]])"
   ]
  },
  {
   "cell_type": "code",
   "execution_count": null,
   "metadata": {},
   "outputs": [],
   "source": []
  }
 ],
 "metadata": {
  "kernelspec": {
   "display_name": "Python 3 (ipykernel)",
   "language": "python",
   "name": "python3"
  },
  "language_info": {
   "codemirror_mode": {
    "name": "ipython",
    "version": 3
   },
   "file_extension": ".py",
   "mimetype": "text/x-python",
   "name": "python",
   "nbconvert_exporter": "python",
   "pygments_lexer": "ipython3",
   "version": "3.10.6"
  },
  "vscode": {
   "interpreter": {
    "hash": "7fae8fcb63aab852d43282f8d6b4358276f4fc1369b1ce19a999eb0a03de67cf"
   }
  }
 },
 "nbformat": 4,
 "nbformat_minor": 2
}
