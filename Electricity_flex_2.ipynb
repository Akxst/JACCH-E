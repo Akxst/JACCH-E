{
 "cells": [
  {
   "cell_type": "markdown",
   "metadata": {},
   "source": [
    "# 0.0 Import modules"
   ]
  },
  {
   "cell_type": "code",
   "execution_count": 1,
   "metadata": {},
   "outputs": [],
   "source": [
    "# === Switch to kernel bw25! ===\n",
    "\n",
    "# Brightway libraries\n",
    "import bw2data as bd\n",
    "import bw2io as bi\n",
    "import bw2calc as bc\n",
    "import bw_processing as bwp\n",
    "import bw2analyzer as ba\n",
    "\n",
    "# General libraries\n",
    "import numpy as np\n",
    "import pandas as pd\n",
    "from fs.zipfs import ZipFS\n",
    "import json                        # Library for working with json files\n",
    "from pathlib import Path           # Library for working with paths in different OS     \n",
    "import matplotlib.pyplot as plt    # Library for creating plots\n",
    "from collections import defaultdict"
   ]
  },
  {
   "cell_type": "markdown",
   "metadata": {},
   "source": [
    "# 0.1 set up project"
   ]
  },
  {
   "cell_type": "code",
   "execution_count": 64,
   "metadata": {},
   "outputs": [],
   "source": [
    "bd.projects.set_current('ei38-teaching-25')"
   ]
  },
  {
   "cell_type": "code",
   "execution_count": 57,
   "metadata": {},
   "outputs": [
    {
     "name": "stdout",
     "output_type": "stream",
     "text": [
      "Restoring project backup archive - this could take a few minutes...\n"
     ]
    },
    {
     "data": {
      "text/plain": [
       "'Practice'"
      ]
     },
     "execution_count": 57,
     "metadata": {},
     "output_type": "execute_result"
    }
   ],
   "source": [
    "#if 'ei38-teaching-25' not in bd.projects:\n",
    "bi.restore_project_directory(r\"C:\\Users\\hanne\\Downloads\\brightway2-project-Practice-backup.28-October-2022-09-46AM.tar.gz\")"
   ]
  },
  {
   "cell_type": "code",
   "execution_count": 58,
   "metadata": {},
   "outputs": [
    {
     "data": {
      "text/plain": [
       "Brightway2 projects manager with 5 objects:\n",
       "\tCorrelated and dependent sampling\n",
       "\tPractice\n",
       "\tdefault\n",
       "\tei38-teaching\n",
       "\tei38-teaching-25\n",
       "Use `projects.report()` to get a report on all projects."
      ]
     },
     "execution_count": 58,
     "metadata": {},
     "output_type": "execute_result"
    }
   ],
   "source": [
    "bd.projects"
   ]
  },
  {
   "cell_type": "code",
   "execution_count": 63,
   "metadata": {},
   "outputs": [
    {
     "ename": "AssertionError",
     "evalue": "Project is already 2.5 compatible",
     "output_type": "error",
     "traceback": [
      "\u001b[1;31m---------------------------------------------------------------------------\u001b[0m",
      "\u001b[1;31mAssertionError\u001b[0m                            Traceback (most recent call last)",
      "\u001b[1;32mc:\\Users\\hanne\\TU\\Git\\AutumnSchool\\JACCH-E\\Electricity_flex_2.ipynb Zelle 7\u001b[0m in \u001b[0;36m<cell line: 1>\u001b[1;34m()\u001b[0m\n\u001b[1;32m----> <a href='vscode-notebook-cell:/c%3A/Users/hanne/TU/Git/AutumnSchool/JACCH-E/Electricity_flex_2.ipynb#Y123sZmlsZQ%3D%3D?line=0'>1</a>\u001b[0m bd\u001b[39m.\u001b[39;49mprojects\u001b[39m.\u001b[39;49mmigrate_project_25()\n",
      "File \u001b[1;32mc:\\Users\\hanne\\miniconda3\\envs\\autumn_school_25\\lib\\site-packages\\bw2data\\project.py:319\u001b[0m, in \u001b[0;36mProjectManager.migrate_project_25\u001b[1;34m(self)\u001b[0m\n\u001b[0;32m    315\u001b[0m \u001b[39mdef\u001b[39;00m \u001b[39mmigrate_project_25\u001b[39m(\u001b[39mself\u001b[39m):\n\u001b[0;32m    316\u001b[0m     \u001b[39m\"\"\"Migrate project to Brightway 2.5.\u001b[39;00m\n\u001b[0;32m    317\u001b[0m \n\u001b[0;32m    318\u001b[0m \u001b[39m    Reprocesses all databases and LCIA objects.\"\"\"\u001b[39;00m\n\u001b[1;32m--> 319\u001b[0m     \u001b[39massert\u001b[39;00m \u001b[39mnot\u001b[39;00m \u001b[39mself\u001b[39m\u001b[39m.\u001b[39mtwofive, \u001b[39m\"\u001b[39m\u001b[39mProject is already 2.5 compatible\u001b[39m\u001b[39m\"\u001b[39m\n\u001b[0;32m    321\u001b[0m     \u001b[39mfrom\u001b[39;00m \u001b[39m.\u001b[39;00m\u001b[39mupdates\u001b[39;00m \u001b[39mimport\u001b[39;00m Updates\n\u001b[0;32m    323\u001b[0m     Updates()\u001b[39m.\u001b[39m_reprocess_all()\n",
      "\u001b[1;31mAssertionError\u001b[0m: Project is already 2.5 compatible"
     ]
    }
   ],
   "source": [
    "bd.projects.migrate_project_25()"
   ]
  },
  {
   "cell_type": "code",
   "execution_count": 59,
   "metadata": {},
   "outputs": [
    {
     "data": {
      "text/plain": [
       "Databases dictionary with 0 objects"
      ]
     },
     "execution_count": 59,
     "metadata": {},
     "output_type": "execute_result"
    }
   ],
   "source": [
    "bd.databases"
   ]
  },
  {
   "cell_type": "code",
   "execution_count": 5,
   "metadata": {},
   "outputs": [],
   "source": [
    "#Instantiating a new project\n",
    "###\n",
    "#setup brightway\n",
    "#bd.projects.set_current('powerplants_LCA')\n",
    "#bi.bw2setup()"
   ]
  },
  {
   "cell_type": "code",
   "execution_count": 6,
   "metadata": {},
   "outputs": [],
   "source": [
    "# ### variables\n",
    "\n",
    "# db_version = \"38_cut\"\n"
   ]
  },
  {
   "cell_type": "code",
   "execution_count": 7,
   "metadata": {},
   "outputs": [],
   "source": [
    "# ## dictonaries for options\n",
    "# bi.create_core_migrations()\n",
    "\n",
    "# del bd.Databases['ecoinvent 3.8_cutoff_ecoSpold02']\n",
    "\n",
    "# db_versions = {\"371_cut\": 'ecoinvent 3.7.1_cutoff_ecoSpold02', \"38_cut\": 'ecoinvent 3.8_cutoff_ecoSpold02', \"38_cons\":'ecoinvent 3.8_consequential_ecoSpold02', \"38_cut\": 'ecoinvent 3.8_cutoff_ecoSpold02', \"38_cut_test\":'ecoinvent 3.8_cutoff_ecoSpold02_test'}\n",
    "\n",
    "# #importing requiered database (ecoinvent):\n",
    "# #ecoinvent\n",
    "# if db_versions[db_version] in bi.databases:\n",
    "#     print(\"Database has already been imported.\")\n",
    "# else:\n",
    "#     fpei =r'C:\\Users\\cko\\sciebo1\\01_CK\\01_Work\\1_FCN-ESE\\04_Modelle\\LCA_Brightway\\Databases/'+db_versions[db_version]+'/datasets'\n",
    "#     ei = bi.SingleOutputEcospold2Importer(fpei, db_versions[db_version])\n",
    "#     ei\n",
    "#     ei.apply_strategies()\n",
    "#     ei.statistics()\n",
    "#     ei.write_database()\n",
    "\n"
   ]
  },
  {
   "cell_type": "code",
   "execution_count": 8,
   "metadata": {},
   "outputs": [
    {
     "data": {
      "text/plain": [
       "Databases dictionary with 4 object(s):\n",
       "\tbiosphere3\n",
       "\tei 3.8 cutoff\n",
       "\telectrified_ei\n",
       "\tpyrolysis_PE"
      ]
     },
     "execution_count": 8,
     "metadata": {},
     "output_type": "execute_result"
    }
   ],
   "source": [
    "bi.databases"
   ]
  },
  {
   "cell_type": "code",
   "execution_count": 9,
   "metadata": {},
   "outputs": [],
   "source": [
    "eiDB = bd.Database('ei 3.8 cutoff')"
   ]
  },
  {
   "cell_type": "markdown",
   "metadata": {},
   "source": [
    "# 0.3 read in variables"
   ]
  },
  {
   "cell_type": "code",
   "execution_count": 10,
   "metadata": {},
   "outputs": [],
   "source": [
    "# electrification: yes/no?\n",
    "binary_var_electrification = 1 #1=electrification, 0=no electrifaction\n",
    "\n",
    "flex_demand = 1 #1=yes , 0=no\n",
    "percentage_cut_off = 0.05\n",
    "flex_percent=0.2\n",
    "\n",
    "max_count_hours = 8760\n",
    "\n",
    "#which process?\n",
    "process_name = 'polyethylene terephthalate production, granulate, bottle grade'\n",
    "process_loc = 'RER'\n",
    "\n",
    "method = ('IPCC 2013', 'climate change', 'GWP 100a')\n",
    "\n"
   ]
  },
  {
   "cell_type": "markdown",
   "metadata": {},
   "source": [
    "# 1.Electricity"
   ]
  },
  {
   "cell_type": "markdown",
   "metadata": {},
   "source": [
    "## 1.1 Import electricity mix and load profile"
   ]
  },
  {
   "cell_type": "code",
   "execution_count": 11,
   "metadata": {},
   "outputs": [],
   "source": [
    "scenario_year = 2025\n",
    "weather_year= 2012\n",
    "sector = 'Chemical & petrochemical'\n",
    "\n",
    "file_name_em= 'assets/Results_dispatched_power_'+str(scenario_year)+'_'+str(weather_year)+'.csv'\n",
    "file_name_lp = 'assets/load_profiles_all.csv'\n"
   ]
  },
  {
   "cell_type": "code",
   "execution_count": 12,
   "metadata": {},
   "outputs": [],
   "source": [
    "if scenario_year == 2021:\n",
    "    df_elecmix= pd.read_csv(file_name_em, index_col=0, sep=';')\n",
    "else:  \n",
    "    df_elecmix= pd.read_csv(file_name_em, index_col=0)\n",
    "\n",
    "df_load=pd.read_csv(file_name_lp, sep=';')\n"
   ]
  },
  {
   "cell_type": "code",
   "execution_count": 13,
   "metadata": {},
   "outputs": [],
   "source": [
    "load_profile = pd.DataFrame()\n",
    "load_profile['raw'] = df_load[sector] "
   ]
  },
  {
   "cell_type": "code",
   "execution_count": 14,
   "metadata": {},
   "outputs": [],
   "source": [
    "df_elecmix=df_elecmix.divide(df_elecmix.sum(axis=1), axis=0)\n",
    "#df_elecmix_norm_year = df_elecmix/8760"
   ]
  },
  {
   "cell_type": "code",
   "execution_count": 15,
   "metadata": {},
   "outputs": [],
   "source": [
    "share_pp_el_DE_2021 = df_elecmix.sum()/8760"
   ]
  },
  {
   "cell_type": "code",
   "execution_count": 16,
   "metadata": {},
   "outputs": [],
   "source": [
    "# available power plants\n",
    "dic_powerplants= {'lignite':['li_st'], 'hardcoal':['hc_cc','hc_st'], 'nuclear':['nu'],'naturalgas': ['ng_cc', 'ng_ce', 'ng_gt', 'ng_st'], 'solar': ['so_ro','so_op'], 'wind': ['wi_off','wi_on'],'biomass': ['bm_st'], 'hydro' : ['hy_rs','hy_rr']}\n",
    "\n",
    "dic_powerplants_market=defaultdict(float)"
   ]
  },
  {
   "cell_type": "code",
   "execution_count": 17,
   "metadata": {},
   "outputs": [],
   "source": [
    "dic_powerplants_2= {'el_bio_chp':'bm_st',\n",
    "'el_hydro_reservoir':'hy_rs',\n",
    "'el_wind_onshore_medium':'wi_on',\n",
    "'el_wind_offshore':'wi_off',\n",
    "'el_pv_roof':'so_ro',\n",
    "'el_nuclear_pressure':'nu'\n",
    ",'el_lg':'li_st'\n",
    ",'cc_hc':'hc_cc'\n",
    ",'el_ng_cc':'ng_cc',\n",
    "'el_hc':'hc_st',\n",
    "'el_ng_cc':'ng_cc',\n",
    "'el_hc':'hc_st',\n",
    "'el_ng_conv':'ng_ce',\n",
    "'el_ng_turb':'ng_gt',\n",
    "'el_ng_conv':'ng_st',\n",
    "'el_pv_openfield':'so_op',\n",
    "'el_hydro_runriver':'hy_rr'}"
   ]
  },
  {
   "cell_type": "code",
   "execution_count": 18,
   "metadata": {},
   "outputs": [],
   "source": [
    "list_pp_EMM = df_elecmix.columns"
   ]
  },
  {
   "cell_type": "code",
   "execution_count": 19,
   "metadata": {},
   "outputs": [
    {
     "name": "stdout",
     "output_type": "stream",
     "text": [
      "Excluding 164 filtered results\n",
      "Excluding 42 filtered results\n",
      "Excluding 79 filtered results\n",
      "Excluding 196 filtered results\n",
      "Excluding 94 filtered results\n",
      "Excluding 196 filtered results\n",
      "Excluding 190 filtered results\n",
      "Excluding 113 filtered results\n",
      "Excluding 55 filtered results\n",
      "Excluding 10 filtered results\n",
      "Excluding 530 filtered results\n",
      "Excluding 422 filtered results\n",
      "Excluding 7 filtered results\n",
      "Excluding 53 filtered results\n",
      "Excluding 55 filtered results\n",
      "Excluding 110 filtered results\n",
      "Excluding 141 filtered results\n",
      "Excluding 30 filtered results\n",
      "Excluding 185 filtered results\n",
      "Excluding 739 filtered results\n",
      "Excluding 960 filtered results\n"
     ]
    }
   ],
   "source": [
    "#dictonary for all  \n",
    "dic_el_mix = {}\n",
    "\n",
    "# hard coal\n",
    "el_hc = eiDB.search(\"electricity production, hard coal\", filter={'location':\"DE\"})\n",
    "el_hc = el_hc[0]\n",
    "dic_el_mix['el_hc']=el_hc\n",
    "\n",
    "cc_hc = eiDB.search(\"heat and power co-generation, hard coal\", filter={'location':\"DE\"})\n",
    "cc_hc = cc_hc[0]\n",
    "dic_el_mix['cc_hc']=cc_hc\n",
    "\n",
    "# lignite\n",
    "el_lg = eiDB.search(\"electricity production, lignite\", filter={'location':\"DE\"})\n",
    "el_lg = el_lg[0]\n",
    "dic_el_mix['el_lg']=el_lg\n",
    "\n",
    "# wind\n",
    "el_wind_onshore_medium = eiDB.search(\"electricity production, wind, 1-3MW turbine, onshore\", filter={'location':\"DE\"})\n",
    "el_wind_onshore_medium = el_wind_onshore_medium [0]\n",
    "dic_el_mix['el_wind_onshore_medium']=el_wind_onshore_medium\n",
    "\n",
    "el_wind_onshore_small = eiDB.search(\"electricity production, wind, <1MW turbine, onshore\", filter={'location':\"DE\"})\n",
    "el_wind_onshore_small = el_wind_onshore_small [0]\n",
    "dic_el_mix['el_wind_onshore_small']=el_wind_onshore_small\n",
    "\n",
    "el_wind_onshore_large = eiDB.search(\"electricity production, wind, >3MW turbine, onshore\", filter={'location':\"DE\"})\n",
    "el_wind_onshore_large = el_wind_onshore_large [0]\n",
    "dic_el_mix['el_wind_onshore_large']=el_wind_onshore_large\n",
    "\n",
    "el_wind_offshore = eiDB.search(\"electricity production, wind, 1-3MW turbine, offshore\", filter={'location':\"DE\"})\n",
    "el_wind_offshore =el_wind_offshore [0]\n",
    "dic_el_mix['el_wind_offshore']=el_wind_offshore\n",
    "\n",
    "# photovoltaic\n",
    "el_pv_roof = eiDB.search(\"electricity production, photovoltaic, 3kWp slanted-roof installation, multi-Si, panel, mounted\", filter={'location':\"DE\"})\n",
    "el_pv_roof = el_pv_roof[0]\n",
    "dic_el_mix['el_pv_roof']=el_pv_roof\n",
    "\n",
    "\n",
    "el_pv_openfield = eiDB.search(\"electricity production, photovoltaic, 570kWp open ground installation, multi-Si\", filter={'location':\"DE\"})\n",
    "el_pv_openfield = el_pv_openfield[0]\n",
    "dic_el_mix['el_pv_openfield']=el_pv_openfield\n",
    "\n",
    "## natural gas\n",
    "el_ng_10MW = eiDB.search(\"electricity production, natural gas, 10MW\", filter={'location':\"DE\"})\n",
    "el_ng_10MW =el_ng_10MW [0]\n",
    "dic_el_mix['el_ng_10MW']=el_ng_10MW\n",
    "\n",
    "el_ng_cc = eiDB.search(\"electricity production, natural gas, combined cycle power plant\", filter={'location':\"DE\"})\n",
    "el_ng_cc=el_ng_cc[0]\n",
    "dic_el_mix['el_ng_cc']=el_ng_cc\n",
    "\n",
    "el_ng_conv = eiDB.search(\"electricity production, natural gas, conventional power plant\", filter={'location':\"DE\"})\n",
    "el_ng_conv= el_ng_conv[0]\n",
    "dic_el_mix['el_ng_conv']=el_ng_conv\n",
    "\n",
    "el_ng_turb = eiDB.search(\"natural gas, burned in gas turbine, for compressor station\", filter={'location':\"DE\"})\n",
    "el_ng_turb=el_ng_turb[0]\n",
    "dic_el_mix['el_ng_turb']=el_ng_turb\n",
    "\n",
    "# nuclear\n",
    "el_nuclear_boiling = eiDB.search(\"electricity production, nuclear, boiling water reactor\", filter={'location':\"DE\"})\n",
    "el_nuclear_boiling= el_nuclear_boiling[0]\n",
    "dic_el_mix['el_nuclear_boiling']=el_nuclear_boiling\n",
    "\n",
    "el_nuclear_pressure = eiDB.search(\"electricity production, nuclear, pressure water reactor\", filter={'location':\"DE\"})\n",
    "el_nuclear_pressure=el_nuclear_pressure[0]\n",
    "dic_el_mix['el_nuclear_pressure']=el_nuclear_pressure\n",
    "\n",
    "# biomass\n",
    "el_bio_chp = eiDB.search(\"heat and power co-generation, biogas, gas engine\", filter={'location':\"DE\"})\n",
    "el_bio_chp= el_bio_chp[0]\n",
    "dic_el_mix['el_bio_chp']=el_bio_chp\n",
    "\n",
    "\n",
    "# hydro\n",
    "el_hydro_pumpstorage = eiDB.search(\"electricity production, hydro, pumped storage\",filter={'location':\"DE\"})\n",
    "el_hydro_pumpstorage=el_hydro_pumpstorage[0]\n",
    "dic_el_mix['el_hydro_pumpstorage']=el_hydro_pumpstorage\n",
    "\n",
    "el_hydro_reservoir = eiDB.search(\"electricity production, hydro, reservoir, non-alpine region\",filter={'location':\"DE\"})\n",
    "el_hydro_reservoir= el_hydro_reservoir[0]\n",
    "dic_el_mix['el_hydro_reservoir']=el_hydro_reservoir\n",
    "\n",
    "el_hydro_runriver = eiDB.search(\"electricity production, hydro, run-of-river\",filter={'location':\"DE\"})\n",
    "el_hydro_runriver=el_hydro_runriver[0]\n",
    "dic_el_mix['el_hydro_runriver']=el_hydro_runriver\n",
    "\n",
    "# low voltage – energy mix 2020\n",
    "el_lowvoltage = eiDB.search(\"market for electricity, low voltage\",filter={'location':\"DE\"}) ##anpassen! \n",
    "el_lowvoltage =el_lowvoltage[0]\n",
    "dic_el_mix['el_lowvoltage']=el_lowvoltage\n",
    "\n",
    "# high voltage – energy mix 2020\n",
    "el_highvoltage = eiDB.search(\"market for electricity, high voltage\",filter={'location':\"DE\"})\n",
    "el_highvoltage =el_highvoltage[0]\n",
    "dic_el_mix['el_highvoltage']=el_highvoltage"
   ]
  },
  {
   "cell_type": "code",
   "execution_count": 20,
   "metadata": {},
   "outputs": [],
   "source": [
    "\n",
    "dic_powerplants_el_DE_market = defaultdict(float)\n",
    "for ECO, EMM in dic_powerplants_2.items():\n",
    "    if EMM in list_pp_EMM:\n",
    "        #dic_powerplants_el_DE_market[dic_el_mix[ECO]['name']] = share_pp_el_DE_2021[EMM] ##for export!\n",
    "        dic_powerplants_el_DE_market[dic_el_mix[ECO]] = share_pp_el_DE_2021[EMM]    \n",
    "\n",
    "    #print(dic_el_mix[ECO]['name'])\n",
    "\n",
    "#df = pd.DataFrame(dic_powerplants_el_DE_market, index=[0])\n",
    "#df.to_csv('shares_electr_DE_2030.csv')"
   ]
  },
  {
   "cell_type": "code",
   "execution_count": 21,
   "metadata": {},
   "outputs": [],
   "source": [
    "# # available power plants\n",
    "# dic_powerplants= {'lignite':['li_st'], 'hardcoal':['hc_cc','hc_st'], 'nuclear':['nu'],'naturalgas': ['ng_cc', 'ng_ce', 'ng_gt', 'ng_st'], 'solar': ['so_ro','so_op'], 'wind': ['wi_off','wi_on'],'biomass': ['bm_st'], 'hydro' : ['hy_rs','hy_rr']}\n",
    "\n",
    "# dic_powerplants_market=defaultdict(float)"
   ]
  },
  {
   "cell_type": "markdown",
   "metadata": {},
   "source": [
    "## 1.2 Flexible demand"
   ]
  },
  {
   "cell_type": "code",
   "execution_count": 22,
   "metadata": {},
   "outputs": [],
   "source": [
    "## lca of power plants\n",
    "# dic with co2 emission of powerplants\n",
    "\n",
    "dic_gwp_powerplants={}\n",
    "\n",
    "for act, amount in dic_powerplants_el_DE_market.items():\n",
    "    _, data_objs, _ = bd.prepare_lca_inputs({act: 1}, method)\n",
    "    lca = bc.LCA({act.id: 1}, data_objs=data_objs)\n",
    "    lca.lci()\n",
    "    lca.lcia()\n",
    "    lca.score\n",
    "    dic_gwp_powerplants[act]=lca.score\n"
   ]
  },
  {
   "cell_type": "code",
   "execution_count": 23,
   "metadata": {},
   "outputs": [],
   "source": [
    "dic_GWP_elecmix_EMM = defaultdict(float)\n",
    "for ECO, EMM in dic_powerplants_2.items():\n",
    "    if EMM in list_pp_EMM:\n",
    "        dic_GWP_elecmix_EMM[EMM] = dic_gwp_powerplants[dic_el_mix[ECO]]\n"
   ]
  },
  {
   "cell_type": "code",
   "execution_count": 24,
   "metadata": {},
   "outputs": [],
   "source": [
    "list_pp = dic_GWP_elecmix_EMM.keys()\n"
   ]
  },
  {
   "cell_type": "code",
   "execution_count": 25,
   "metadata": {},
   "outputs": [],
   "source": [
    "df_GWP_elecmix = pd.DataFrame()"
   ]
  },
  {
   "cell_type": "code",
   "execution_count": 26,
   "metadata": {},
   "outputs": [],
   "source": [
    "for idpp, pp in enumerate(list_pp):\n",
    "    df_GWP_elecmix[pp]=df_elecmix[pp].multiply(dic_GWP_elecmix_EMM[pp])"
   ]
  },
  {
   "cell_type": "code",
   "execution_count": 99,
   "metadata": {},
   "outputs": [],
   "source": [
    "list=df_GWP_elecmix['sum'].sort_values(ascending=False)"
   ]
  },
  {
   "cell_type": "code",
   "execution_count": 105,
   "metadata": {},
   "outputs": [
    {
     "data": {
      "text/plain": [
       "7133    0.627886\n",
       "7144    0.622715\n",
       "7672    0.621537\n",
       "7967    0.618870\n",
       "7148    0.611946\n",
       "          ...   \n",
       "3499    0.021884\n",
       "2806    0.021654\n",
       "3480    0.021455\n",
       "3504    0.020938\n",
       "3505    0.020043\n",
       "Name: sum, Length: 8760, dtype: float64"
      ]
     },
     "execution_count": 105,
     "metadata": {},
     "output_type": "execute_result"
    }
   ],
   "source": [
    "list"
   ]
  },
  {
   "cell_type": "code",
   "execution_count": 106,
   "metadata": {},
   "outputs": [],
   "source": [
    "switch =list.sum()*0.1"
   ]
  },
  {
   "cell_type": "code",
   "execution_count": 128,
   "metadata": {},
   "outputs": [
    {
     "name": "stdout",
     "output_type": "stream",
     "text": [
      "248 0.502066911243052\n"
     ]
    }
   ],
   "source": [
    "amount=0\n",
    "for ind, i in enumerate(list):\n",
    "    if amount < switch:\n",
    "    #if ind < 248:\n",
    "        amount += i #-0.5\n",
    "        #print(i-0.5)\n",
    "\n",
    "    else:\n",
    "        print(ind, i)\n",
    "        break\n"
   ]
  },
  {
   "cell_type": "code",
   "execution_count": 125,
   "metadata": {},
   "outputs": [
    {
     "data": {
      "text/plain": [
       "10.712711551978794"
      ]
     },
     "execution_count": 125,
     "metadata": {},
     "output_type": "execute_result"
    }
   ],
   "source": [
    "amount"
   ]
  },
  {
   "cell_type": "code",
   "execution_count": null,
   "metadata": {},
   "outputs": [],
   "source": []
  },
  {
   "cell_type": "code",
   "execution_count": 85,
   "metadata": {},
   "outputs": [
    {
     "data": {
      "text/plain": [
       "134.3214651698204"
      ]
     },
     "execution_count": 85,
     "metadata": {},
     "output_type": "execute_result"
    }
   ],
   "source": [
    "list=df_GWP_elecmix['sum'].sort_values()"
   ]
  },
  {
   "cell_type": "code",
   "execution_count": 27,
   "metadata": {},
   "outputs": [],
   "source": [
    "df_GWP_elecmix['sum'] = df_GWP_elecmix.sum(axis=1)"
   ]
  },
  {
   "cell_type": "code",
   "execution_count": 28,
   "metadata": {},
   "outputs": [],
   "source": [
    "#df_GWP_elecmix.to_csv('GWP_elecmix_2021.csv')"
   ]
  },
  {
   "cell_type": "code",
   "execution_count": 29,
   "metadata": {},
   "outputs": [],
   "source": [
    "min_GWP= df_GWP_elecmix['sum'].sort_values()[percentage_cut_off*8760]\n",
    "max_GWP= df_GWP_elecmix['sum'].sort_values()[(1-percentage_cut_off)*8760]\n"
   ]
  },
  {
   "cell_type": "code",
   "execution_count": 30,
   "metadata": {},
   "outputs": [],
   "source": [
    "load_profile['flex'] = load_profile['raw']"
   ]
  },
  {
   "cell_type": "code",
   "execution_count": 31,
   "metadata": {},
   "outputs": [],
   "source": [
    "count_hours_flex = 0\n",
    "\n",
    "for i in range(0,8760):\n",
    "    if count_hours_flex <max_count_hours:\n",
    "        if df_GWP_elecmix['sum'][i]>max_GWP:\n",
    "            load_profile['flex'] [i] = load_profile['raw'][i]*(1-flex_percent)\n",
    "            count_hours_flex += 1\n",
    "        \n",
    "        if df_GWP_elecmix['sum'][i]<min_GWP:\n",
    "            load_profile['flex'][i] = load_profile['raw'][i]*(1+flex_percent)\n",
    "            count_hours_flex += 1"
   ]
  },
  {
   "cell_type": "code",
   "execution_count": 37,
   "metadata": {},
   "outputs": [
    {
     "data": {
      "text/plain": [
       "0       0.000137\n",
       "1       0.000137\n",
       "2       0.000137\n",
       "3       0.000137\n",
       "4       0.000137\n",
       "          ...   \n",
       "8755    0.000137\n",
       "8756    0.000137\n",
       "8757    0.000137\n",
       "8758    0.000137\n",
       "8759    0.000137\n",
       "Name: flex, Length: 8760, dtype: float64"
      ]
     },
     "execution_count": 37,
     "metadata": {},
     "output_type": "execute_result"
    }
   ],
   "source": [
    "load_profile['flex']"
   ]
  },
  {
   "cell_type": "code",
   "execution_count": null,
   "metadata": {},
   "outputs": [],
   "source": []
  },
  {
   "cell_type": "code",
   "execution_count": 38,
   "metadata": {},
   "outputs": [],
   "source": [
    "# df_prod_ut=df_elecmix.mul(load_profile, axis=0)\n",
    "# list_pp = df_prod_ut.columns\n",
    "# dyn_amount_pp = df_prod_ut.sum()"
   ]
  },
  {
   "cell_type": "markdown",
   "metadata": {},
   "source": [
    "## 2.0 Replace heat and electricity"
   ]
  },
  {
   "cell_type": "code",
   "execution_count": null,
   "metadata": {},
   "outputs": [],
   "source": [
    "\n"
   ]
  },
  {
   "cell_type": "code",
   "execution_count": 39,
   "metadata": {},
   "outputs": [
    {
     "name": "stdout",
     "output_type": "stream",
     "text": [
      "Excluding 5 filtered results\n"
     ]
    }
   ],
   "source": [
    "process = eiDB.search(process_name, filter={'location':process_loc})\n",
    "process = process[0]"
   ]
  },
  {
   "cell_type": "code",
   "execution_count": 40,
   "metadata": {},
   "outputs": [],
   "source": [
    "heat_acts=[act for act in eiDB if 'heat production' in  act['name']\n",
    "#and ('RER' in act['location'] or 'DE' in act['location'] or 'Europe without Switzerland' in act['location'])\n",
    "#and 'heat' in act['reference product'] \n",
    "and 'heat pump' not in act['name']\n",
    "and 'biomethane' not in act['name']\n",
    "#and ('natural gas' in act['name'] or 'anthracite' in act['name'])\n",
    "]"
   ]
  },
  {
   "cell_type": "code",
   "execution_count": 41,
   "metadata": {},
   "outputs": [],
   "source": [
    "elek_acts=[act for act in eiDB if 'market for electricity' in  act['name']\n",
    "#and ('RER' in act['location'] or 'DE' in act['location'] or 'Europe without Switzerland' in act['location'])\n",
    "#and 'heat' in act['reference product'] \n",
    "#and 'heat pump' not in act['name']\n",
    "#and 'biomethane' not in act['name']\n",
    "#and ('natural gas' in act['name'] or 'anthracite' in act['name'])\n",
    "]"
   ]
  },
  {
   "cell_type": "code",
   "execution_count": 42,
   "metadata": {},
   "outputs": [],
   "source": [
    "def recurse_supply(act,max_depth, dic_heat_remove = defaultdict(float), dic_el_remove= defaultdict(float)):\n",
    "    global depth\n",
    "    for exc in act.technosphere():\n",
    "        if exc.input in heat_acts:\n",
    "            #flow_list.append(np.array((exc.input.id, exc.output.id), bwp.INDICES_DTYPE))\n",
    "            dic_heat_remove[exc.input] = exc['amount']\n",
    "            #print(exc.input)\n",
    "        elif exc.input in elek_acts:\n",
    "            dic_el_remove[exc.input] = exc['amount']\n",
    "        elif depth< max_depth:\n",
    "            depth +=1 \n",
    "            dic_heat_remove, dic_el_remove= recurse_supply(exc.input, max_depth, dic_heat_remove, dic_el_remove)\n",
    "    depth -= 1\n",
    "    return dic_heat_remove, dic_el_remove"
   ]
  },
  {
   "cell_type": "code",
   "execution_count": 43,
   "metadata": {},
   "outputs": [],
   "source": [
    "def replace_electricity_heat(counter, df_results, dic_powerplants_market, process_name,process_loc, method, binary_var_electrification, max_depth):\n",
    "    process = eiDB.search(process_name, filter={'location':process_loc})\n",
    "    process = process[0]\n",
    "    \n",
    "\n",
    "    #dic_el_remove = defaultdict(float)\n",
    "    #dic_heat_remove = defaultdict(float)\n",
    "###################################################\n",
    "    \n",
    "    #flow_list=[]\n",
    "    global depth\n",
    "    depth=0\n",
    "\n",
    "    dic_heat_remove, dic_el_remove= recurse_supply(process, max_depth)\n",
    "\n",
    "\n",
    "###################################################\n",
    "    # for x in process.edges():\n",
    "    #     if 'electricity' in x.input['name']:\n",
    "    #         dic_el_remove[x.input] = x['amount']\n",
    "            \n",
    "    #     if 'heat' in x.input['name']:\n",
    "    #         dic_heat_remove[x.input] = x['amount']\n",
    "\n",
    "    el_demand_process = sum([value for value in dic_el_remove.values()])\n",
    "    heat_demand_process = sum([value for value in dic_heat_remove.values()])\n",
    "\n",
    "\n",
    "    total_el_demanded = el_demand_process+ binary_var_electrification*heat_demand_process * 0.27778 #\n",
    "    total_heat_demanded = heat_demand_process * (1-binary_var_electrification)\n",
    "\n",
    "\n",
    "    electrifying_heat = 10_000_000 ##create id dynamically - random number generator\n",
    "\n",
    "    indices = np.array(\n",
    "        [\n",
    "            (electrifying_heat, electrifying_heat), # Production exchange for new motor\n",
    "            (process.id, electrifying_heat),              \n",
    "        ] + [\n",
    "            (node.id, electrifying_heat) for node in dic_el_remove          ##remove existing electricity\n",
    "        ] + [\n",
    "            (node.id, electrifying_heat) for node in dic_heat_remove          ##remove existing heat\n",
    "        ] + [\n",
    "            (node.id,  electrifying_heat) for node in dic_powerplants_market  ## add Germany electricity mix        ##TODO add German Heat mix\n",
    "        ], dtype=bwp.INDICES_DTYPE\n",
    "    )\n",
    "\n",
    "\n",
    "    data = np.array([\n",
    "            1,\n",
    "            1,\n",
    "        ] + [\n",
    "            value for value in dic_el_remove.values()       #remove amount of electricity\n",
    "            \n",
    "        ] + [\n",
    "            value for value in dic_heat_remove.values()     #remove amount of heat\n",
    "            \n",
    "        ] + [\n",
    "            value * total_el_demanded for value in dic_powerplants_market.values()    \n",
    "        ]\n",
    "    ) \n",
    "    flip = np.array(\n",
    "        [False, True] + [False for _ in dic_el_remove] + [False for _ in dic_heat_remove] + [True for _ in dic_powerplants_market]\n",
    "        )\n",
    "\n",
    "\n",
    "    # activities = np.array(\n",
    "    #     [\n",
    "    #         (process, electrifying_heat),              \n",
    "    #     ] + [\n",
    "    #         (node, electrifying_heat) for node in dic_el_remove          ##remove existing electricity\n",
    "    #     ] + [\n",
    "    #         (node, electrifying_heat) for node in dic_heat_remove          ##remove existing heat\n",
    "    #     ] + [\n",
    "    #         (node,  electrifying_heat) for node in dic_powerplants_market  ## add Germany electricity mix        ##TODO add German Heat mix\n",
    "    #     ],\n",
    "    # )\n",
    "\n",
    "    dp = bwp.create_datapackage()\n",
    "\n",
    "    dp.add_persistent_vector(\n",
    "        matrix=\"technosphere_matrix\",\n",
    "        data_array=data,\n",
    "        indices_array=indices,\n",
    "        flip_array=flip,\n",
    "        name='electrifying_heat',\n",
    "    )\n",
    "\n",
    "    _, data_objs, _ = bd.prepare_lca_inputs({process: 1}, method)\n",
    "\n",
    "    lca = bc.LCA({process.id: 1}, data_objs=data_objs + [dp])\n",
    "    lca.lci()\n",
    "    lca.lcia()\n",
    "    df_results[counter]=0\n",
    "    df_results[counter]['lca_score_oldprocess']=lca.score\n",
    "    print(lca.score)\n",
    "\n",
    "    lca.lcia({electrifying_heat: 1})\n",
    "    df_results[counter]['lca_score_newprocess']=lca.score\n",
    "    print(lca.score)\n",
    "\n",
    "    \n",
    "    df_results[counter]['electrification']=binary_var_electrification\n",
    "    df_results[counter]['flex_demand']=flex_demand\n",
    "    df_results[counter]['percentage_flex']=flex_percent\n",
    "    df_results[counter]['hours_flex']=max_count_hours\n",
    "    df_results[counter]['cut_off_flex']=percentage_cut_off\n",
    "\n",
    "\n",
    "    name_new_process = str('electrification'+process_name+'_'+process_loc)\n",
    "    \n",
    "\n",
    "    return ([name_new_process,dp, indices, data, flip, dic_el_remove, df_results])"
   ]
  },
  {
   "cell_type": "code",
   "execution_count": 44,
   "metadata": {},
   "outputs": [
    {
     "name": "stdout",
     "output_type": "stream",
     "text": [
      "0\n",
      "0\n",
      "Excluding 5 filtered results\n",
      "2.736948572029616\n",
      "0.20603904073291324\n",
      "0\n",
      "1\n",
      "Excluding 5 filtered results\n"
     ]
    },
    {
     "name": "stderr",
     "output_type": "stream",
     "text": [
      "C:\\Users\\hanne\\AppData\\Local\\Temp\\ipykernel_14624\\1438464329.py:95: SettingWithCopyWarning: \n",
      "A value is trying to be set on a copy of a slice from a DataFrame\n",
      "\n",
      "See the caveats in the documentation: https://pandas.pydata.org/pandas-docs/stable/user_guide/indexing.html#returning-a-view-versus-a-copy\n",
      "  df_results[counter]['lca_score_oldprocess']=lca.score\n"
     ]
    },
    {
     "name": "stdout",
     "output_type": "stream",
     "text": [
      "2.736948572029616\n",
      "0.05365277771985037\n",
      "1\n",
      "2\n",
      "Excluding 5 filtered results\n"
     ]
    },
    {
     "name": "stderr",
     "output_type": "stream",
     "text": [
      "C:\\Users\\hanne\\AppData\\Local\\Temp\\ipykernel_14624\\1438464329.py:95: SettingWithCopyWarning: \n",
      "A value is trying to be set on a copy of a slice from a DataFrame\n",
      "\n",
      "See the caveats in the documentation: https://pandas.pydata.org/pandas-docs/stable/user_guide/indexing.html#returning-a-view-versus-a-copy\n",
      "  df_results[counter]['lca_score_oldprocess']=lca.score\n"
     ]
    },
    {
     "name": "stdout",
     "output_type": "stream",
     "text": [
      "2.736948572029616\n",
      "0.5141593698910363\n",
      "1\n",
      "3\n",
      "Excluding 5 filtered results\n"
     ]
    },
    {
     "name": "stderr",
     "output_type": "stream",
     "text": [
      "C:\\Users\\hanne\\AppData\\Local\\Temp\\ipykernel_14624\\1438464329.py:95: SettingWithCopyWarning: \n",
      "A value is trying to be set on a copy of a slice from a DataFrame\n",
      "\n",
      "See the caveats in the documentation: https://pandas.pydata.org/pandas-docs/stable/user_guide/indexing.html#returning-a-view-versus-a-copy\n",
      "  df_results[counter]['lca_score_oldprocess']=lca.score\n"
     ]
    },
    {
     "name": "stdout",
     "output_type": "stream",
     "text": [
      "2.736948572029616\n",
      "0.345464655693005\n"
     ]
    }
   ],
   "source": [
    "df_results = pd.DataFrame(index=['lca_score_newprocess','lca_score_oldprocess','electrification','flex_demand','percentage_flex','cut_off_flex','hours_flex'])\n",
    "\n",
    "counter = 0  \n",
    "for binary_var_electrification in range(0,2):\n",
    "    for flex_demand in range (0,2):\n",
    "        \n",
    "        if flex_demand==0:\n",
    "            df_prod_ut=df_elecmix.mul(load_profile['raw'], axis=0)\n",
    "        \n",
    "        if flex_demand==1:\n",
    "            df_prod_ut=df_elecmix.mul(load_profile['flex'], axis=0)\n",
    "\n",
    "        dyn_amount_pp = df_prod_ut.sum()\n",
    "        \n",
    "        dic_powerplants_market = defaultdict(float)\n",
    "        for ECO, EMM in dic_powerplants_2.items():\n",
    "            if EMM in dyn_amount_pp:\n",
    "                dic_powerplants_market[dic_el_mix[ECO]] = dyn_amount_pp[EMM] \n",
    "\n",
    "\n",
    "        print(binary_var_electrification)\n",
    "        print(counter)\n",
    "        results = replace_electricity_heat(counter, df_results, dic_powerplants_market, process_name,process_loc, method, binary_var_electrification, max_depth= 3, )\n",
    "        counter += 1\n"
   ]
  },
  {
   "cell_type": "code",
   "execution_count": 45,
   "metadata": {},
   "outputs": [
    {
     "data": {
      "text/html": [
       "<div>\n",
       "<style scoped>\n",
       "    .dataframe tbody tr th:only-of-type {\n",
       "        vertical-align: middle;\n",
       "    }\n",
       "\n",
       "    .dataframe tbody tr th {\n",
       "        vertical-align: top;\n",
       "    }\n",
       "\n",
       "    .dataframe thead th {\n",
       "        text-align: right;\n",
       "    }\n",
       "</style>\n",
       "<table border=\"1\" class=\"dataframe\">\n",
       "  <thead>\n",
       "    <tr style=\"text-align: right;\">\n",
       "      <th></th>\n",
       "      <th>raw</th>\n",
       "      <th>flex</th>\n",
       "    </tr>\n",
       "  </thead>\n",
       "  <tbody>\n",
       "    <tr>\n",
       "      <th>0</th>\n",
       "      <td>0.000114</td>\n",
       "      <td>0.000137</td>\n",
       "    </tr>\n",
       "    <tr>\n",
       "      <th>1</th>\n",
       "      <td>0.000114</td>\n",
       "      <td>0.000137</td>\n",
       "    </tr>\n",
       "    <tr>\n",
       "      <th>2</th>\n",
       "      <td>0.000114</td>\n",
       "      <td>0.000137</td>\n",
       "    </tr>\n",
       "    <tr>\n",
       "      <th>3</th>\n",
       "      <td>0.000114</td>\n",
       "      <td>0.000137</td>\n",
       "    </tr>\n",
       "    <tr>\n",
       "      <th>4</th>\n",
       "      <td>0.000114</td>\n",
       "      <td>0.000137</td>\n",
       "    </tr>\n",
       "    <tr>\n",
       "      <th>...</th>\n",
       "      <td>...</td>\n",
       "      <td>...</td>\n",
       "    </tr>\n",
       "    <tr>\n",
       "      <th>8755</th>\n",
       "      <td>0.000114</td>\n",
       "      <td>0.000137</td>\n",
       "    </tr>\n",
       "    <tr>\n",
       "      <th>8756</th>\n",
       "      <td>0.000114</td>\n",
       "      <td>0.000137</td>\n",
       "    </tr>\n",
       "    <tr>\n",
       "      <th>8757</th>\n",
       "      <td>0.000114</td>\n",
       "      <td>0.000137</td>\n",
       "    </tr>\n",
       "    <tr>\n",
       "      <th>8758</th>\n",
       "      <td>0.000114</td>\n",
       "      <td>0.000137</td>\n",
       "    </tr>\n",
       "    <tr>\n",
       "      <th>8759</th>\n",
       "      <td>0.000114</td>\n",
       "      <td>0.000137</td>\n",
       "    </tr>\n",
       "  </tbody>\n",
       "</table>\n",
       "<p>8760 rows × 2 columns</p>\n",
       "</div>"
      ],
      "text/plain": [
       "           raw      flex\n",
       "0     0.000114  0.000137\n",
       "1     0.000114  0.000137\n",
       "2     0.000114  0.000137\n",
       "3     0.000114  0.000137\n",
       "4     0.000114  0.000137\n",
       "...        ...       ...\n",
       "8755  0.000114  0.000137\n",
       "8756  0.000114  0.000137\n",
       "8757  0.000114  0.000137\n",
       "8758  0.000114  0.000137\n",
       "8759  0.000114  0.000137\n",
       "\n",
       "[8760 rows x 2 columns]"
      ]
     },
     "execution_count": 45,
     "metadata": {},
     "output_type": "execute_result"
    }
   ],
   "source": [
    "load_profile"
   ]
  },
  {
   "cell_type": "code",
   "execution_count": 46,
   "metadata": {},
   "outputs": [],
   "source": [
    "df_results_scenario = results[6]"
   ]
  },
  {
   "cell_type": "code",
   "execution_count": 47,
   "metadata": {},
   "outputs": [
    {
     "data": {
      "text/html": [
       "<div>\n",
       "<style scoped>\n",
       "    .dataframe tbody tr th:only-of-type {\n",
       "        vertical-align: middle;\n",
       "    }\n",
       "\n",
       "    .dataframe tbody tr th {\n",
       "        vertical-align: top;\n",
       "    }\n",
       "\n",
       "    .dataframe thead th {\n",
       "        text-align: right;\n",
       "    }\n",
       "</style>\n",
       "<table border=\"1\" class=\"dataframe\">\n",
       "  <thead>\n",
       "    <tr style=\"text-align: right;\">\n",
       "      <th></th>\n",
       "      <th>0</th>\n",
       "      <th>1</th>\n",
       "      <th>2</th>\n",
       "      <th>3</th>\n",
       "    </tr>\n",
       "  </thead>\n",
       "  <tbody>\n",
       "    <tr>\n",
       "      <th>lca_score_newprocess</th>\n",
       "      <td>0.206039</td>\n",
       "      <td>0.053653</td>\n",
       "      <td>0.514159</td>\n",
       "      <td>0.345465</td>\n",
       "    </tr>\n",
       "    <tr>\n",
       "      <th>lca_score_oldprocess</th>\n",
       "      <td>2.736949</td>\n",
       "      <td>2.736949</td>\n",
       "      <td>2.736949</td>\n",
       "      <td>2.736949</td>\n",
       "    </tr>\n",
       "    <tr>\n",
       "      <th>electrification</th>\n",
       "      <td>0.000000</td>\n",
       "      <td>0.000000</td>\n",
       "      <td>1.000000</td>\n",
       "      <td>1.000000</td>\n",
       "    </tr>\n",
       "    <tr>\n",
       "      <th>flex_demand</th>\n",
       "      <td>0.000000</td>\n",
       "      <td>1.000000</td>\n",
       "      <td>0.000000</td>\n",
       "      <td>1.000000</td>\n",
       "    </tr>\n",
       "    <tr>\n",
       "      <th>percentage_flex</th>\n",
       "      <td>0.200000</td>\n",
       "      <td>0.200000</td>\n",
       "      <td>0.200000</td>\n",
       "      <td>0.200000</td>\n",
       "    </tr>\n",
       "    <tr>\n",
       "      <th>cut_off_flex</th>\n",
       "      <td>0.050000</td>\n",
       "      <td>0.050000</td>\n",
       "      <td>0.050000</td>\n",
       "      <td>0.050000</td>\n",
       "    </tr>\n",
       "    <tr>\n",
       "      <th>hours_flex</th>\n",
       "      <td>8760.000000</td>\n",
       "      <td>8760.000000</td>\n",
       "      <td>8760.000000</td>\n",
       "      <td>8760.000000</td>\n",
       "    </tr>\n",
       "  </tbody>\n",
       "</table>\n",
       "</div>"
      ],
      "text/plain": [
       "                                0            1            2            3\n",
       "lca_score_newprocess     0.206039     0.053653     0.514159     0.345465\n",
       "lca_score_oldprocess     2.736949     2.736949     2.736949     2.736949\n",
       "electrification          0.000000     0.000000     1.000000     1.000000\n",
       "flex_demand              0.000000     1.000000     0.000000     1.000000\n",
       "percentage_flex          0.200000     0.200000     0.200000     0.200000\n",
       "cut_off_flex             0.050000     0.050000     0.050000     0.050000\n",
       "hours_flex            8760.000000  8760.000000  8760.000000  8760.000000"
      ]
     },
     "execution_count": 47,
     "metadata": {},
     "output_type": "execute_result"
    }
   ],
   "source": [
    "df_results_scenario"
   ]
  },
  {
   "cell_type": "code",
   "execution_count": 48,
   "metadata": {},
   "outputs": [],
   "source": [
    "df_results_scenario.to_csv('results'+str(scenario_year)+'.csv')"
   ]
  },
  {
   "cell_type": "code",
   "execution_count": 49,
   "metadata": {},
   "outputs": [],
   "source": [
    "name_new_process=results[0]\n",
    "dp = results[1]\n",
    "indices = results[2]\n",
    "data = results[3]\n",
    "flip = results[4]\n",
    "dic_el_remove=results[5]"
   ]
  },
  {
   "cell_type": "code",
   "execution_count": 50,
   "metadata": {},
   "outputs": [],
   "source": [
    "# data = data[1:]"
   ]
  },
  {
   "cell_type": "code",
   "execution_count": 227,
   "metadata": {},
   "outputs": [],
   "source": [
    "# name_new_db = 'db_electrification'"
   ]
  },
  {
   "cell_type": "code",
   "execution_count": 228,
   "metadata": {},
   "outputs": [],
   "source": [
    "# if name_new_db in bd.databases:\n",
    "#     del bd.databases[name_new_db] "
   ]
  },
  {
   "cell_type": "code",
   "execution_count": 229,
   "metadata": {},
   "outputs": [],
   "source": [
    "# new_db = bd.Database(name_new_db)"
   ]
  },
  {
   "cell_type": "code",
   "execution_count": 230,
   "metadata": {},
   "outputs": [],
   "source": [
    "# new_db.write({}) ##empty databbase"
   ]
  },
  {
   "cell_type": "code",
   "execution_count": 231,
   "metadata": {},
   "outputs": [],
   "source": [
    "# new_process = new_db.new_node(code=\"new_process_01\", name=name_new_process, location=process_loc, unit=\"kilogram\")\n",
    "# new_process.save()"
   ]
  },
  {
   "cell_type": "code",
   "execution_count": 232,
   "metadata": {},
   "outputs": [],
   "source": [
    "# for idx, x in enumerate(activities):\n",
    "#     print(x[0])\n",
    "#     new_process.new_edge(input=x[0], amount=data[idx], type='technosphere').save()"
   ]
  },
  {
   "cell_type": "code",
   "execution_count": 233,
   "metadata": {},
   "outputs": [],
   "source": [
    "# _, data_objs, _ = bd.prepare_lca_inputs({process: 1}, method)"
   ]
  },
  {
   "cell_type": "code",
   "execution_count": 234,
   "metadata": {},
   "outputs": [],
   "source": [
    "# lca = bc.LCA({process.id: 1}, data_objs=data_objs)\n",
    "# lca.lci()\n",
    "# lca.lcia()\n",
    "# lca.score"
   ]
  },
  {
   "cell_type": "code",
   "execution_count": 235,
   "metadata": {},
   "outputs": [],
   "source": [
    "# lca.lcia({new_process.id: 1})\n",
    "# lca.score"
   ]
  },
  {
   "cell_type": "code",
   "execution_count": 236,
   "metadata": {},
   "outputs": [],
   "source": [
    "# bd.Database(\"ei 3.8 cutoff\").metadata['depends']"
   ]
  },
  {
   "cell_type": "code",
   "execution_count": 237,
   "metadata": {},
   "outputs": [],
   "source": [
    "# bd.Database(new_db).metadata['depends']"
   ]
  }
 ],
 "metadata": {
  "kernelspec": {
   "display_name": "Python 3.10.6 ('autumn_school_25')",
   "language": "python",
   "name": "python3"
  },
  "language_info": {
   "codemirror_mode": {
    "name": "ipython",
    "version": 3
   },
   "file_extension": ".py",
   "mimetype": "text/x-python",
   "name": "python",
   "nbconvert_exporter": "python",
   "pygments_lexer": "ipython3",
   "version": "3.10.6"
  },
  "orig_nbformat": 4,
  "vscode": {
   "interpreter": {
    "hash": "7fae8fcb63aab852d43282f8d6b4358276f4fc1369b1ce19a999eb0a03de67cf"
   }
  }
 },
 "nbformat": 4,
 "nbformat_minor": 2
}
