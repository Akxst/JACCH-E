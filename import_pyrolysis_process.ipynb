{
 "cells": [
  {
   "cell_type": "code",
   "execution_count": 11,
   "id": "84d1b5fd",
   "metadata": {},
   "outputs": [],
   "source": [
    "import bw2data as bd\n",
    "import bw2calc as bc\n",
    "import bw2io as bi\n",
    "import bw_processing as bwp\n",
    "import numpy as np"
   ]
  },
  {
   "cell_type": "code",
   "execution_count": 20,
   "id": "e559e318",
   "metadata": {},
   "outputs": [
    {
     "name": "stdout",
     "output_type": "stream",
     "text": [
      "Restoring project backup archive - this could take a few minutes...\n"
     ]
    },
    {
     "data": {
      "text/plain": [
       "'ei38-teaching-25'"
      ]
     },
     "execution_count": 20,
     "metadata": {},
     "output_type": "execute_result"
    }
   ],
   "source": [
    "bi.restore_project_directory(r\"C:\\Users\\salvi\\OneDrive - Politecnico di Milano\\PhD\\Didattica\\Brightway\\brightway2-project-ei38-teaching-25-backup.26-October-2022-06-33PM.tar.gz\")"
   ]
  },
  {
   "cell_type": "code",
   "execution_count": 25,
   "id": "f1c52fee",
   "metadata": {},
   "outputs": [
    {
     "data": {
      "text/plain": [
       "Brightway2 projects manager with 2 objects:\n",
       "\tdefault\n",
       "\tei38-teaching-25\n",
       "Use `projects.report()` to get a report on all projects."
      ]
     },
     "execution_count": 25,
     "metadata": {},
     "output_type": "execute_result"
    }
   ],
   "source": [
    "bd.projects"
   ]
  },
  {
   "cell_type": "code",
   "execution_count": 27,
   "id": "ead95525",
   "metadata": {},
   "outputs": [],
   "source": [
    "bd.projects.set_current('ei38-teaching-25')"
   ]
  },
  {
   "cell_type": "code",
   "execution_count": 31,
   "id": "6c797946",
   "metadata": {},
   "outputs": [
    {
     "data": {
      "text/plain": [
       "Databases dictionary with 4 object(s):\n",
       "\tEXIOBASE 3.8.1 2017 monetary\n",
       "\tEXIOBASE 3.8.1 2017 monetary biosphere\n",
       "\tbiosphere3\n",
       "\tei 3.8 cutoff"
      ]
     },
     "execution_count": 31,
     "metadata": {},
     "output_type": "execute_result"
    }
   ],
   "source": [
    "bd.databases\n",
    "#del bd.databases[\"pyrolysis_inv\"]"
   ]
  },
  {
   "cell_type": "code",
   "execution_count": 33,
   "id": "a2efc5c9",
   "metadata": {},
   "outputs": [
    {
     "data": {
      "text/plain": [
       "WindowsPath('C:/Users/salvi/AppData/Local/pylca/Brightway3/ei38-teaching-25.993d09bf')"
      ]
     },
     "execution_count": 33,
     "metadata": {},
     "output_type": "execute_result"
    }
   ],
   "source": [
    "bd.projects.dir"
   ]
  },
  {
   "cell_type": "code",
   "execution_count": 34,
   "id": "0e2d216b",
   "metadata": {},
   "outputs": [
    {
     "name": "stdout",
     "output_type": "stream",
     "text": [
      "Extracted 1 worksheets in 0.25 seconds\n",
      "Applying strategy: csv_restore_tuples\n",
      "Applying strategy: csv_restore_booleans\n",
      "Applying strategy: csv_numerize\n",
      "Applying strategy: csv_drop_unknown\n",
      "Applying strategy: csv_add_missing_exchanges_section\n",
      "Applying strategy: normalize_units\n",
      "Applying strategy: normalize_biosphere_categories\n",
      "Applying strategy: normalize_biosphere_names\n",
      "Applying strategy: strip_biosphere_exc_locations\n",
      "Applying strategy: set_code_by_activity_hash\n",
      "Applying strategy: link_iterable_by_fields\n",
      "Applying strategy: assign_only_product_as_production\n",
      "Applying strategy: link_technosphere_by_activity_hash\n",
      "Applying strategy: drop_falsey_uncertainty_fields_but_keep_zeros\n",
      "Applying strategy: convert_uncertainty_types_to_integers\n",
      "Applying strategy: convert_activity_parameters_to_list\n",
      "Applied 16 strategies in 26.11 seconds\n",
      "Applying strategy: link_iterable_by_fields\n",
      "Applying strategy: link_iterable_by_fields\n",
      "Applying strategy: link_iterable_by_fields\n",
      "Applying strategy: link_iterable_by_fields\n"
     ]
    },
    {
     "name": "stderr",
     "output_type": "stream",
     "text": [
      "Writing activities to SQLite3 database:\n"
     ]
    },
    {
     "name": "stdout",
     "output_type": "stream",
     "text": [
      "3 datasets\n",
      "18 exchanges\n",
      "0 unlinked exchanges\n",
      "  \n"
     ]
    },
    {
     "name": "stderr",
     "output_type": "stream",
     "text": [
      "0% [###] 100% | ETA: 00:00:00\n",
      "Total time elapsed: 00:00:00\n"
     ]
    },
    {
     "name": "stdout",
     "output_type": "stream",
     "text": [
      "Title: Writing activities to SQLite3 database:\n",
      "  Started: 10/27/2022 15:41:26\n",
      "  Finished: 10/27/2022 15:41:26\n",
      "  Total time elapsed: 00:00:00\n",
      "  CPU %: 0.00\n",
      "  Memory %: 1.35\n",
      "Created database: pyrolysis_inv\n"
     ]
    }
   ],
   "source": [
    "for k, fp in {'pyrolysis_inv': 'pyrolysis_inv.xlsx'}.items():\n",
    "    if k not in bd.databases:\n",
    "        sp = bi.ExcelImporter(fp)\n",
    "        sp.apply_strategies()\n",
    "        sp.match_database(fields=[\"name\", \"unit\", \"location\"])\n",
    "        sp.match_database('ei 3.8 cutoff', fields=[\"reference product\",\"name\", \"unit\", \"location\"])\n",
    "        sp.match_database('ei 3.8 cutoff', fields=[\"name\", \"unit\", \"location\"])\n",
    "        sp.match_database('biosphere3', fields=[\"name\", \"unit\", \"type\",\"categories\"])\n",
    "        sp.statistics()\n",
    "        sp.write_database()"
   ]
  },
  {
   "cell_type": "code",
   "execution_count": 35,
   "id": "a7340b47",
   "metadata": {},
   "outputs": [
    {
     "name": "stdout",
     "output_type": "stream",
     "text": [
      "Wrote matching file to:\n",
      "C:\\Users\\salvi\\AppData\\Local\\pylca\\Brightway3\\ei38-teaching-25.993d09bf\\output\\db-matching-pyrolysis_inv.xlsx\n"
     ]
    },
    {
     "data": {
      "text/plain": [
       "'C:\\\\Users\\\\salvi\\\\AppData\\\\Local\\\\pylca\\\\Brightway3\\\\ei38-teaching-25.993d09bf\\\\output\\\\db-matching-pyrolysis_inv.xlsx'"
      ]
     },
     "execution_count": 35,
     "metadata": {},
     "output_type": "execute_result"
    }
   ],
   "source": [
    "sp.write_excel()"
   ]
  },
  {
   "cell_type": "code",
   "execution_count": 36,
   "id": "55d1f1f6",
   "metadata": {},
   "outputs": [],
   "source": [
    "#technosphere data and indices \n",
    "t_data = np.array([\n",
    "    1,   # production of LDPE\n",
    "])\n",
    "\n",
    "t_indices = np.array([\n",
    "    (101, 101), # production of LDPE\n",
    "    ], \n",
    "    dtype=bwp.INDICES_DTYPE\n",
    ")\n",
    "t_flip = np.array([False]) # Numerical sign of the inputs needs to be flipped negative"
   ]
  },
  {
   "cell_type": "code",
   "execution_count": 37,
   "id": "e49d66fc",
   "metadata": {},
   "outputs": [],
   "source": [
    "#biosphere data and indices \n",
    "b_data = np.array([0])\n",
    "b_indices = np.array([\n",
    "    (201, 101), # emission of CO2\n",
    "    ], \n",
    "    dtype=bwp.INDICES_DTYPE\n",
    ")"
   ]
  },
  {
   "cell_type": "code",
   "execution_count": 38,
   "id": "452c8698",
   "metadata": {},
   "outputs": [],
   "source": [
    "#characterization data and indices \n",
    "c_data = np.array([1])\n",
    "c_indices = np.array([\n",
    "    (201, 201), # CF of CO2\n",
    "    ], \n",
    "    dtype=bwp.INDICES_DTYPE\n",
    ")"
   ]
  },
  {
   "cell_type": "code",
   "execution_count": 39,
   "id": "e6a83d42",
   "metadata": {},
   "outputs": [],
   "source": [
    "dp_static = bwp.create_datapackage()"
   ]
  },
  {
   "cell_type": "code",
   "execution_count": 40,
   "id": "d0ef4e02",
   "metadata": {},
   "outputs": [
    {
     "ename": "SyntaxError",
     "evalue": "incomplete input (1914999303.py, line 15)",
     "output_type": "error",
     "traceback": [
      "\u001b[1;36m  Cell \u001b[1;32mIn [40], line 15\u001b[1;36m\u001b[0m\n\u001b[1;33m    data_array=c_data,\u001b[0m\n\u001b[1;37m                      ^\u001b[0m\n\u001b[1;31mSyntaxError\u001b[0m\u001b[1;31m:\u001b[0m incomplete input\n"
     ]
    }
   ],
   "source": [
    "p_static.add_persistent_vector(\n",
    "    matrix='technosphere_matrix',\n",
    "    indices_array=t_indices,\n",
    "    data_array=t_data,\n",
    "    flip_array=t_flip,\n",
    ")\n",
    "dp_static.add_persistent_vector(\n",
    "    matrix='biosphere_matrix',\n",
    "    indices_array=b_indices,\n",
    "    data_array=b_data,\n",
    ")\n",
    "dp_static.add_persistent_vector(\n",
    "    matrix='characterization_matrix',\n",
    "    indices_array=c_indices,\n",
    "    data_array=c_data,"
   ]
  },
  {
   "cell_type": "code",
   "execution_count": 41,
   "id": "9476cbc8",
   "metadata": {},
   "outputs": [
    {
     "data": {
      "text/plain": [
       "Databases dictionary with 5 object(s):\n",
       "\tEXIOBASE 3.8.1 2017 monetary\n",
       "\tEXIOBASE 3.8.1 2017 monetary biosphere\n",
       "\tbiosphere3\n",
       "\tei 3.8 cutoff\n",
       "\tpyrolysis_inv"
      ]
     },
     "execution_count": 41,
     "metadata": {},
     "output_type": "execute_result"
    }
   ],
   "source": [
    "bd.databases"
   ]
  },
  {
   "cell_type": "code",
   "execution_count": 66,
   "id": "0487891d",
   "metadata": {},
   "outputs": [],
   "source": [
    "my_db=bd.Database('pyrolysis_inv')"
   ]
  },
  {
   "cell_type": "code",
   "execution_count": 67,
   "id": "4f331191",
   "metadata": {},
   "outputs": [
    {
     "data": {
      "text/plain": [
       "'LDPE polymerization' (kilogram, DE, None)"
      ]
     },
     "execution_count": 67,
     "metadata": {},
     "output_type": "execute_result"
    }
   ],
   "source": [
    "my_db.get('B03')"
   ]
  },
  {
   "cell_type": "code",
   "execution_count": 68,
   "id": "fec03188",
   "metadata": {},
   "outputs": [],
   "source": [
    "a = my_db.get('B03')"
   ]
  },
  {
   "cell_type": "code",
   "execution_count": 69,
   "id": "68b0ab05",
   "metadata": {},
   "outputs": [
    {
     "data": {
      "text/plain": [
       "'LDPE polymerization' (kilogram, DE, None)"
      ]
     },
     "execution_count": 69,
     "metadata": {},
     "output_type": "execute_result"
    }
   ],
   "source": [
    "a"
   ]
  },
  {
   "cell_type": "code",
   "execution_count": 70,
   "id": "66ee1763",
   "metadata": {},
   "outputs": [
    {
     "data": {
      "text/plain": [
       "bw2calc.lca.LCA"
      ]
     },
     "execution_count": 70,
     "metadata": {},
     "output_type": "execute_result"
    }
   ],
   "source": [
    "bc.LCA"
   ]
  },
  {
   "cell_type": "code",
   "execution_count": 71,
   "id": "b30a510f",
   "metadata": {},
   "outputs": [
    {
     "name": "stdout",
     "output_type": "stream",
     "text": [
      "('IPCC 2013 no LT', 'climate change', 'GTP 100a')\n",
      "('IPCC 2013 no LT', 'climate change', 'GTP 20a')\n",
      "('IPCC 2013 no LT', 'climate change', 'GWP 100a')\n",
      "('IPCC 2013 no LT', 'climate change', 'GWP 20a')\n",
      "('IPCC 2013', 'climate change', 'GTP 100a')\n",
      "('IPCC 2013', 'climate change', 'GTP 20a')\n",
      "('IPCC 2013', 'climate change', 'GWP 100a')\n",
      "('IPCC 2013', 'climate change', 'GWP 20a')\n"
     ]
    }
   ],
   "source": [
    "for m in bd.methods:\n",
    "    if 'IPCC 2013' in m[0]:\n",
    "        print(m)"
   ]
  },
  {
   "cell_type": "code",
   "execution_count": 73,
   "id": "19c1ae1e",
   "metadata": {},
   "outputs": [],
   "source": [
    "mymethod = ('IPCC 2013', 'climate change', 'GWP 100a')"
   ]
  },
  {
   "cell_type": "code",
   "execution_count": 52,
   "id": "b75a5694",
   "metadata": {},
   "outputs": [
    {
     "data": {
      "text/plain": [
       "('IPCC 2013', 'climate change', 'GWP 100a')"
      ]
     },
     "execution_count": 52,
     "metadata": {},
     "output_type": "execute_result"
    }
   ],
   "source": [
    "mymethod"
   ]
  },
  {
   "cell_type": "code",
   "execution_count": 74,
   "id": "9efa4031",
   "metadata": {},
   "outputs": [
    {
     "data": {
      "text/plain": [
       "<bw2calc.lca.LCA at 0x1bfb3612680>"
      ]
     },
     "execution_count": 74,
     "metadata": {},
     "output_type": "execute_result"
    }
   ],
   "source": [
    "bc.LCA({a:1},mymethod)"
   ]
  },
  {
   "cell_type": "code",
   "execution_count": 75,
   "id": "63819788",
   "metadata": {},
   "outputs": [],
   "source": [
    "mylca=bc.LCA({a:1},mymethod)"
   ]
  },
  {
   "cell_type": "code",
   "execution_count": 76,
   "id": "e3a3b52c",
   "metadata": {},
   "outputs": [],
   "source": [
    "mylca.lci()"
   ]
  },
  {
   "cell_type": "code",
   "execution_count": 77,
   "id": "29f80210",
   "metadata": {},
   "outputs": [],
   "source": [
    "mylca.lcia()"
   ]
  },
  {
   "cell_type": "code",
   "execution_count": 78,
   "id": "de098934",
   "metadata": {},
   "outputs": [
    {
     "data": {
      "text/plain": [
       "1.5764470420385652"
      ]
     },
     "execution_count": 78,
     "metadata": {},
     "output_type": "execute_result"
    }
   ],
   "source": [
    "mylca.score"
   ]
  },
  {
   "cell_type": "code",
   "execution_count": 64,
   "id": "a9b1c601",
   "metadata": {},
   "outputs": [],
   "source": [
    "m = bd.Method(mymethod)"
   ]
  },
  {
   "cell_type": "code",
   "execution_count": 65,
   "id": "69e12502",
   "metadata": {},
   "outputs": [
    {
     "data": {
      "text/plain": [
       "'kg CO2-Eq'"
      ]
     },
     "execution_count": 65,
     "metadata": {},
     "output_type": "execute_result"
    }
   ],
   "source": [
    "m.metadata['unit']"
   ]
  },
  {
   "cell_type": "code",
   "execution_count": null,
   "id": "c27c761e",
   "metadata": {},
   "outputs": [],
   "source": []
  }
 ],
 "metadata": {
  "kernelspec": {
   "display_name": "Python 3 (ipykernel)",
   "language": "python",
   "name": "python3"
  },
  "language_info": {
   "codemirror_mode": {
    "name": "ipython",
    "version": 3
   },
   "file_extension": ".py",
   "mimetype": "text/x-python",
   "name": "python",
   "nbconvert_exporter": "python",
   "pygments_lexer": "ipython3",
   "version": "3.10.6"
  }
 },
 "nbformat": 4,
 "nbformat_minor": 5
}
