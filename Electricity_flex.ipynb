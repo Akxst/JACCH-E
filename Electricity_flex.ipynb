{
 "cells": [
  {
   "cell_type": "markdown",
   "metadata": {},
   "source": [
    "# 0.0 Import modules"
   ]
  },
  {
   "cell_type": "code",
   "execution_count": 110,
   "metadata": {},
   "outputs": [],
   "source": [
    "# === Switch to kernel bw25! ===\n",
    "\n",
    "# Brightway libraries\n",
    "import bw2data as bd\n",
    "import bw2io as bi\n",
    "import bw2calc as bc\n",
    "import bw_processing as bwp\n",
    "import bw2analyzer as ba\n",
    "\n",
    "# General libraries\n",
    "import numpy as np\n",
    "import pandas as pd\n",
    "from fs.zipfs import ZipFS\n",
    "import json                        # Library for working with json files\n",
    "from pathlib import Path           # Library for working with paths in different OS     \n",
    "import matplotlib.pyplot as plt    # Library for creating plots\n",
    "from collections import defaultdict"
   ]
  },
  {
   "cell_type": "code",
   "execution_count": 111,
   "metadata": {},
   "outputs": [
    {
     "data": {
      "text/plain": [
       "(0, 9, 'DEV9')"
      ]
     },
     "execution_count": 111,
     "metadata": {},
     "output_type": "execute_result"
    }
   ],
   "source": [
    "bi.__version__"
   ]
  },
  {
   "cell_type": "markdown",
   "metadata": {},
   "source": [
    "# 0.1 set up project"
   ]
  },
  {
   "cell_type": "code",
   "execution_count": 112,
   "metadata": {},
   "outputs": [],
   "source": [
    "bd.projects.set_current('ei38-teaching-25')"
   ]
  },
  {
   "cell_type": "code",
   "execution_count": 113,
   "metadata": {},
   "outputs": [
    {
     "name": "stdout",
     "output_type": "stream",
     "text": [
      "Restoring project backup archive - this could take a few minutes...\n"
     ]
    },
    {
     "data": {
      "text/plain": [
       "'ei38-teaching-25'"
      ]
     },
     "execution_count": 113,
     "metadata": {},
     "output_type": "execute_result"
    }
   ],
   "source": [
    "#if 'ei38-teaching-25' not in bd.projects:\n",
    "bi.restore_project_directory(r\"C:\\Users\\cko\\sciebo1\\01_CK\\01_Work\\1_FCN-ESE\\04_Modelle\\LCA_Brightway\\Autumn_School\\brightway2-project-ei38-teaching-25-backup.26-October-2022-03-35PM.tar.gz\")"
   ]
  },
  {
   "cell_type": "code",
   "execution_count": 114,
   "metadata": {},
   "outputs": [
    {
     "data": {
      "text/plain": [
       "Databases dictionary with 4 object(s):\n",
       "\tEXIOBASE 3.8.1 2017 monetary\n",
       "\tEXIOBASE 3.8.1 2017 monetary biosphere\n",
       "\tbiosphere3\n",
       "\tei 3.8 cutoff"
      ]
     },
     "execution_count": 114,
     "metadata": {},
     "output_type": "execute_result"
    }
   ],
   "source": [
    "bd.databases"
   ]
  },
  {
   "cell_type": "code",
   "execution_count": 115,
   "metadata": {},
   "outputs": [],
   "source": [
    "#Instantiating a new project\n",
    "###\n",
    "#setup brightway\n",
    "#bd.projects.set_current('powerplants_LCA')\n",
    "#bi.bw2setup()"
   ]
  },
  {
   "cell_type": "code",
   "execution_count": 116,
   "metadata": {},
   "outputs": [],
   "source": [
    "# ### variables\n",
    "\n",
    "# db_version = \"38_cut\"\n"
   ]
  },
  {
   "cell_type": "code",
   "execution_count": 117,
   "metadata": {},
   "outputs": [],
   "source": [
    "# ## dictonaries for options\n",
    "# bi.create_core_migrations()\n",
    "\n",
    "# del bd.Databases['ecoinvent 3.8_cutoff_ecoSpold02']\n",
    "\n",
    "# db_versions = {\"371_cut\": 'ecoinvent 3.7.1_cutoff_ecoSpold02', \"38_cut\": 'ecoinvent 3.8_cutoff_ecoSpold02', \"38_cons\":'ecoinvent 3.8_consequential_ecoSpold02', \"38_cut\": 'ecoinvent 3.8_cutoff_ecoSpold02', \"38_cut_test\":'ecoinvent 3.8_cutoff_ecoSpold02_test'}\n",
    "\n",
    "# #importing requiered database (ecoinvent):\n",
    "# #ecoinvent\n",
    "# if db_versions[db_version] in bi.databases:\n",
    "#     print(\"Database has already been imported.\")\n",
    "# else:\n",
    "#     fpei =r'C:\\Users\\cko\\sciebo1\\01_CK\\01_Work\\1_FCN-ESE\\04_Modelle\\LCA_Brightway\\Databases/'+db_versions[db_version]+'/datasets'\n",
    "#     ei = bi.SingleOutputEcospold2Importer(fpei, db_versions[db_version])\n",
    "#     ei\n",
    "#     ei.apply_strategies()\n",
    "#     ei.statistics()\n",
    "#     ei.write_database()\n",
    "\n"
   ]
  },
  {
   "cell_type": "code",
   "execution_count": 118,
   "metadata": {},
   "outputs": [
    {
     "data": {
      "text/plain": [
       "Databases dictionary with 4 object(s):\n",
       "\tEXIOBASE 3.8.1 2017 monetary\n",
       "\tEXIOBASE 3.8.1 2017 monetary biosphere\n",
       "\tbiosphere3\n",
       "\tei 3.8 cutoff"
      ]
     },
     "execution_count": 118,
     "metadata": {},
     "output_type": "execute_result"
    }
   ],
   "source": [
    "bi.databases"
   ]
  },
  {
   "cell_type": "code",
   "execution_count": 119,
   "metadata": {},
   "outputs": [],
   "source": [
    "eiDB = bd.Database('ei 3.8 cutoff')"
   ]
  },
  {
   "cell_type": "markdown",
   "metadata": {},
   "source": [
    "# 1.Electricity"
   ]
  },
  {
   "cell_type": "markdown",
   "metadata": {},
   "source": [
    "## 1.1 Import electricity mix and load profile"
   ]
  },
  {
   "cell_type": "code",
   "execution_count": 120,
   "metadata": {},
   "outputs": [],
   "source": [
    "scenario_year = 2021\n",
    "weather_year= 2012\n",
    "sector = 'Chemical & petrochemical'\n",
    "\n",
    "file_name_em= 'assets/Results_dispatched_power_'+str(scenario_year)+'_'+str(weather_year)+'.csv'\n",
    "file_name_lp = 'assets/load_profiles_all.csv'\n"
   ]
  },
  {
   "cell_type": "code",
   "execution_count": 121,
   "metadata": {},
   "outputs": [],
   "source": [
    "df_elecmix= pd.read_csv(file_name_em, index_col=0, sep=';')\n",
    "df_load=pd.read_csv(file_name_lp, sep=';')\n"
   ]
  },
  {
   "cell_type": "code",
   "execution_count": 122,
   "metadata": {},
   "outputs": [
    {
     "data": {
      "text/plain": [
       "0       0.000114\n",
       "1       0.000114\n",
       "2       0.000114\n",
       "3       0.000114\n",
       "4       0.000114\n",
       "          ...   \n",
       "8755    0.000114\n",
       "8756    0.000114\n",
       "8757    0.000114\n",
       "8758    0.000114\n",
       "8759    0.000114\n",
       "Name: Chemical & petrochemical, Length: 8760, dtype: float64"
      ]
     },
     "execution_count": 122,
     "metadata": {},
     "output_type": "execute_result"
    }
   ],
   "source": [
    "load_profile_raw = df_load[sector] \n",
    "load_profile_raw"
   ]
  },
  {
   "cell_type": "code",
   "execution_count": 123,
   "metadata": {},
   "outputs": [],
   "source": [
    "df_elecmix=df_elecmix.divide(df_elecmix.sum(axis=1), axis=0)\n",
    "#df_elecmix_norm_year = df_elecmix/8760"
   ]
  },
  {
   "cell_type": "code",
   "execution_count": 124,
   "metadata": {},
   "outputs": [
    {
     "data": {
      "text/html": [
       "<div>\n",
       "<style scoped>\n",
       "    .dataframe tbody tr th:only-of-type {\n",
       "        vertical-align: middle;\n",
       "    }\n",
       "\n",
       "    .dataframe tbody tr th {\n",
       "        vertical-align: top;\n",
       "    }\n",
       "\n",
       "    .dataframe thead th {\n",
       "        text-align: right;\n",
       "    }\n",
       "</style>\n",
       "<table border=\"1\" class=\"dataframe\">\n",
       "  <thead>\n",
       "    <tr style=\"text-align: right;\">\n",
       "      <th></th>\n",
       "      <th>bm_st</th>\n",
       "      <th>hy_rs</th>\n",
       "      <th>wi_on</th>\n",
       "      <th>wi_off</th>\n",
       "      <th>so_ro</th>\n",
       "      <th>nu</th>\n",
       "      <th>li_st</th>\n",
       "      <th>hc_cc</th>\n",
       "      <th>ng_cc</th>\n",
       "      <th>hc_st</th>\n",
       "      <th>ng_ce</th>\n",
       "      <th>ng_gt</th>\n",
       "      <th>ng_st</th>\n",
       "      <th>so_op</th>\n",
       "      <th>hy_rr</th>\n",
       "    </tr>\n",
       "  </thead>\n",
       "  <tbody>\n",
       "    <tr>\n",
       "      <th>0</th>\n",
       "      <td>0.117241</td>\n",
       "      <td>0.030946</td>\n",
       "      <td>0.009777</td>\n",
       "      <td>0.101845</td>\n",
       "      <td>0.0</td>\n",
       "      <td>0.209002</td>\n",
       "      <td>0.297888</td>\n",
       "      <td>0.088348</td>\n",
       "      <td>0.144954</td>\n",
       "      <td>0.0</td>\n",
       "      <td>0.0</td>\n",
       "      <td>0.0</td>\n",
       "      <td>0.0</td>\n",
       "      <td>0.0</td>\n",
       "      <td>0.0</td>\n",
       "    </tr>\n",
       "    <tr>\n",
       "      <th>1</th>\n",
       "      <td>0.119897</td>\n",
       "      <td>0.031528</td>\n",
       "      <td>0.010351</td>\n",
       "      <td>0.095217</td>\n",
       "      <td>0.0</td>\n",
       "      <td>0.214692</td>\n",
       "      <td>0.305616</td>\n",
       "      <td>0.080203</td>\n",
       "      <td>0.142496</td>\n",
       "      <td>0.0</td>\n",
       "      <td>0.0</td>\n",
       "      <td>0.0</td>\n",
       "      <td>0.0</td>\n",
       "      <td>0.0</td>\n",
       "      <td>0.0</td>\n",
       "    </tr>\n",
       "    <tr>\n",
       "      <th>2</th>\n",
       "      <td>0.121032</td>\n",
       "      <td>0.030996</td>\n",
       "      <td>0.008115</td>\n",
       "      <td>0.087003</td>\n",
       "      <td>0.0</td>\n",
       "      <td>0.217028</td>\n",
       "      <td>0.312838</td>\n",
       "      <td>0.081628</td>\n",
       "      <td>0.141360</td>\n",
       "      <td>0.0</td>\n",
       "      <td>0.0</td>\n",
       "      <td>0.0</td>\n",
       "      <td>0.0</td>\n",
       "      <td>0.0</td>\n",
       "      <td>0.0</td>\n",
       "    </tr>\n",
       "    <tr>\n",
       "      <th>3</th>\n",
       "      <td>0.121592</td>\n",
       "      <td>0.031603</td>\n",
       "      <td>0.008517</td>\n",
       "      <td>0.075741</td>\n",
       "      <td>0.0</td>\n",
       "      <td>0.218383</td>\n",
       "      <td>0.330441</td>\n",
       "      <td>0.076410</td>\n",
       "      <td>0.137313</td>\n",
       "      <td>0.0</td>\n",
       "      <td>0.0</td>\n",
       "      <td>0.0</td>\n",
       "      <td>0.0</td>\n",
       "      <td>0.0</td>\n",
       "      <td>0.0</td>\n",
       "    </tr>\n",
       "    <tr>\n",
       "      <th>4</th>\n",
       "      <td>0.123321</td>\n",
       "      <td>0.031408</td>\n",
       "      <td>0.007940</td>\n",
       "      <td>0.068989</td>\n",
       "      <td>0.0</td>\n",
       "      <td>0.221651</td>\n",
       "      <td>0.337086</td>\n",
       "      <td>0.073802</td>\n",
       "      <td>0.135802</td>\n",
       "      <td>0.0</td>\n",
       "      <td>0.0</td>\n",
       "      <td>0.0</td>\n",
       "      <td>0.0</td>\n",
       "      <td>0.0</td>\n",
       "      <td>0.0</td>\n",
       "    </tr>\n",
       "    <tr>\n",
       "      <th>...</th>\n",
       "      <td>...</td>\n",
       "      <td>...</td>\n",
       "      <td>...</td>\n",
       "      <td>...</td>\n",
       "      <td>...</td>\n",
       "      <td>...</td>\n",
       "      <td>...</td>\n",
       "      <td>...</td>\n",
       "      <td>...</td>\n",
       "      <td>...</td>\n",
       "      <td>...</td>\n",
       "      <td>...</td>\n",
       "      <td>...</td>\n",
       "      <td>...</td>\n",
       "      <td>...</td>\n",
       "    </tr>\n",
       "    <tr>\n",
       "      <th>8755</th>\n",
       "      <td>0.073612</td>\n",
       "      <td>0.026386</td>\n",
       "      <td>0.096641</td>\n",
       "      <td>0.555646</td>\n",
       "      <td>0.0</td>\n",
       "      <td>0.099422</td>\n",
       "      <td>0.063879</td>\n",
       "      <td>0.038663</td>\n",
       "      <td>0.045751</td>\n",
       "      <td>0.0</td>\n",
       "      <td>0.0</td>\n",
       "      <td>0.0</td>\n",
       "      <td>0.0</td>\n",
       "      <td>0.0</td>\n",
       "      <td>0.0</td>\n",
       "    </tr>\n",
       "    <tr>\n",
       "      <th>8756</th>\n",
       "      <td>0.076121</td>\n",
       "      <td>0.026866</td>\n",
       "      <td>0.108360</td>\n",
       "      <td>0.539061</td>\n",
       "      <td>0.0</td>\n",
       "      <td>0.097895</td>\n",
       "      <td>0.066006</td>\n",
       "      <td>0.038701</td>\n",
       "      <td>0.046989</td>\n",
       "      <td>0.0</td>\n",
       "      <td>0.0</td>\n",
       "      <td>0.0</td>\n",
       "      <td>0.0</td>\n",
       "      <td>0.0</td>\n",
       "      <td>0.0</td>\n",
       "    </tr>\n",
       "    <tr>\n",
       "      <th>8757</th>\n",
       "      <td>0.080626</td>\n",
       "      <td>0.029598</td>\n",
       "      <td>0.114402</td>\n",
       "      <td>0.522903</td>\n",
       "      <td>0.0</td>\n",
       "      <td>0.091760</td>\n",
       "      <td>0.070275</td>\n",
       "      <td>0.040770</td>\n",
       "      <td>0.049666</td>\n",
       "      <td>0.0</td>\n",
       "      <td>0.0</td>\n",
       "      <td>0.0</td>\n",
       "      <td>0.0</td>\n",
       "      <td>0.0</td>\n",
       "      <td>0.0</td>\n",
       "    </tr>\n",
       "    <tr>\n",
       "      <th>8758</th>\n",
       "      <td>0.083902</td>\n",
       "      <td>0.029215</td>\n",
       "      <td>0.117250</td>\n",
       "      <td>0.524191</td>\n",
       "      <td>0.0</td>\n",
       "      <td>0.078956</td>\n",
       "      <td>0.073291</td>\n",
       "      <td>0.041612</td>\n",
       "      <td>0.051583</td>\n",
       "      <td>0.0</td>\n",
       "      <td>0.0</td>\n",
       "      <td>0.0</td>\n",
       "      <td>0.0</td>\n",
       "      <td>0.0</td>\n",
       "      <td>0.0</td>\n",
       "    </tr>\n",
       "    <tr>\n",
       "      <th>8759</th>\n",
       "      <td>0.000000</td>\n",
       "      <td>0.000000</td>\n",
       "      <td>0.251581</td>\n",
       "      <td>0.514385</td>\n",
       "      <td>0.0</td>\n",
       "      <td>0.067104</td>\n",
       "      <td>0.072400</td>\n",
       "      <td>0.041970</td>\n",
       "      <td>0.052561</td>\n",
       "      <td>0.0</td>\n",
       "      <td>0.0</td>\n",
       "      <td>0.0</td>\n",
       "      <td>0.0</td>\n",
       "      <td>0.0</td>\n",
       "      <td>0.0</td>\n",
       "    </tr>\n",
       "  </tbody>\n",
       "</table>\n",
       "<p>8760 rows × 15 columns</p>\n",
       "</div>"
      ],
      "text/plain": [
       "         bm_st     hy_rs     wi_on    wi_off  so_ro        nu     li_st  \\\n",
       "0     0.117241  0.030946  0.009777  0.101845    0.0  0.209002  0.297888   \n",
       "1     0.119897  0.031528  0.010351  0.095217    0.0  0.214692  0.305616   \n",
       "2     0.121032  0.030996  0.008115  0.087003    0.0  0.217028  0.312838   \n",
       "3     0.121592  0.031603  0.008517  0.075741    0.0  0.218383  0.330441   \n",
       "4     0.123321  0.031408  0.007940  0.068989    0.0  0.221651  0.337086   \n",
       "...        ...       ...       ...       ...    ...       ...       ...   \n",
       "8755  0.073612  0.026386  0.096641  0.555646    0.0  0.099422  0.063879   \n",
       "8756  0.076121  0.026866  0.108360  0.539061    0.0  0.097895  0.066006   \n",
       "8757  0.080626  0.029598  0.114402  0.522903    0.0  0.091760  0.070275   \n",
       "8758  0.083902  0.029215  0.117250  0.524191    0.0  0.078956  0.073291   \n",
       "8759  0.000000  0.000000  0.251581  0.514385    0.0  0.067104  0.072400   \n",
       "\n",
       "         hc_cc     ng_cc  hc_st  ng_ce  ng_gt  ng_st  so_op  hy_rr  \n",
       "0     0.088348  0.144954    0.0    0.0    0.0    0.0    0.0    0.0  \n",
       "1     0.080203  0.142496    0.0    0.0    0.0    0.0    0.0    0.0  \n",
       "2     0.081628  0.141360    0.0    0.0    0.0    0.0    0.0    0.0  \n",
       "3     0.076410  0.137313    0.0    0.0    0.0    0.0    0.0    0.0  \n",
       "4     0.073802  0.135802    0.0    0.0    0.0    0.0    0.0    0.0  \n",
       "...        ...       ...    ...    ...    ...    ...    ...    ...  \n",
       "8755  0.038663  0.045751    0.0    0.0    0.0    0.0    0.0    0.0  \n",
       "8756  0.038701  0.046989    0.0    0.0    0.0    0.0    0.0    0.0  \n",
       "8757  0.040770  0.049666    0.0    0.0    0.0    0.0    0.0    0.0  \n",
       "8758  0.041612  0.051583    0.0    0.0    0.0    0.0    0.0    0.0  \n",
       "8759  0.041970  0.052561    0.0    0.0    0.0    0.0    0.0    0.0  \n",
       "\n",
       "[8760 rows x 15 columns]"
      ]
     },
     "execution_count": 124,
     "metadata": {},
     "output_type": "execute_result"
    }
   ],
   "source": [
    "df_elecmix"
   ]
  },
  {
   "cell_type": "code",
   "execution_count": 125,
   "metadata": {},
   "outputs": [],
   "source": [
    "df_prod_ut=df_elecmix.mul(load_profile_raw, axis=0)"
   ]
  },
  {
   "cell_type": "code",
   "execution_count": 126,
   "metadata": {},
   "outputs": [],
   "source": [
    "list_pp = df_prod_ut.columns"
   ]
  },
  {
   "cell_type": "code",
   "execution_count": 127,
   "metadata": {},
   "outputs": [],
   "source": [
    "dyn_amount_pp = df_prod_ut.sum()"
   ]
  },
  {
   "cell_type": "code",
   "execution_count": 128,
   "metadata": {},
   "outputs": [],
   "source": [
    "share_pp_el_DE_2021 = df_elecmix.sum()/8760"
   ]
  },
  {
   "cell_type": "code",
   "execution_count": 129,
   "metadata": {},
   "outputs": [
    {
     "data": {
      "text/plain": [
       "bm_st     0.084472\n",
       "hy_rs     0.031765\n",
       "wi_on     0.048570\n",
       "wi_off    0.179523\n",
       "so_ro     0.087157\n",
       "nu        0.140811\n",
       "li_st     0.209630\n",
       "hc_cc     0.108178\n",
       "ng_cc     0.109780\n",
       "hc_st     0.000000\n",
       "ng_ce     0.000000\n",
       "ng_gt     0.000000\n",
       "ng_st     0.000000\n",
       "so_op     0.000000\n",
       "hy_rr     0.000000\n",
       "dtype: float64"
      ]
     },
     "execution_count": 129,
     "metadata": {},
     "output_type": "execute_result"
    }
   ],
   "source": [
    "share_pp_el_DE_2021"
   ]
  },
  {
   "cell_type": "code",
   "execution_count": 130,
   "metadata": {},
   "outputs": [
    {
     "data": {
      "text/plain": [
       "bm_st     0.084472\n",
       "hy_rs     0.031765\n",
       "wi_on     0.048570\n",
       "wi_off    0.179522\n",
       "so_ro     0.087157\n",
       "nu        0.140811\n",
       "li_st     0.209630\n",
       "hc_cc     0.108178\n",
       "ng_cc     0.109779\n",
       "hc_st     0.000000\n",
       "ng_ce     0.000000\n",
       "ng_gt     0.000000\n",
       "ng_st     0.000000\n",
       "so_op     0.000000\n",
       "hy_rr     0.000000\n",
       "dtype: float64"
      ]
     },
     "execution_count": 130,
     "metadata": {},
     "output_type": "execute_result"
    }
   ],
   "source": [
    "dyn_amount_pp"
   ]
  },
  {
   "cell_type": "code",
   "execution_count": 131,
   "metadata": {},
   "outputs": [],
   "source": [
    "# available power plants\n",
    "dic_powerplants= {'lignite':['li_st'], 'hardcoal':['hc_cc','hc_st'], 'nuclear':['nu'],'naturalgas': ['ng_cc', 'ng_ce', 'ng_gt', 'ng_st'], 'solar': ['so_ro','so_op'], 'wind': ['wi_off','wi_on'],'biomass': ['bm_st'], 'hydro' : ['hy_rs','hy_rr']}\n",
    "\n",
    "dic_powerplants_market=defaultdict(float)"
   ]
  },
  {
   "cell_type": "code",
   "execution_count": 132,
   "metadata": {},
   "outputs": [],
   "source": [
    "dic_powerplants_2= {'el_bio_chp':'bm_st',\n",
    "'el_hydro_reservoir':'hy_rs',\n",
    "'el_wind_onshore_medium':'wi_on',\n",
    "'el_wind_offshore':'wi_off',\n",
    "'el_pv_roof':'so_ro',\n",
    "'el_nuclear_pressure':'nu'\n",
    ",'el_lg':'li_st'\n",
    ",'cc_hc':'hc_cc'\n",
    ",'el_ng_cc':'ng_cc',\n",
    "'el_hc':'hc_st',\n",
    "'el_ng_cc':'ng_cc',\n",
    "'el_hc':'hc_st',\n",
    "'el_ng_conv':'ng_ce',\n",
    "'el_ng_turb':'ng_gt',\n",
    "'el_ng_conv':'ng_st',\n",
    "'el_pv_openfield':'so_op',\n",
    "'el_hydro_runriver':'hy_rr'}"
   ]
  },
  {
   "cell_type": "code",
   "execution_count": 133,
   "metadata": {},
   "outputs": [
    {
     "name": "stdout",
     "output_type": "stream",
     "text": [
      "Excluding 164 filtered results\n"
     ]
    }
   ],
   "source": [
    "el_hcel_hc = eiDB.search(\"electricity production, hard coal\", filter={'location':\"DE\"})"
   ]
  },
  {
   "cell_type": "code",
   "execution_count": 134,
   "metadata": {},
   "outputs": [
    {
     "name": "stdout",
     "output_type": "stream",
     "text": [
      "Excluding 164 filtered results\n",
      "Excluding 42 filtered results\n",
      "Excluding 79 filtered results\n",
      "Excluding 196 filtered results\n",
      "Excluding 94 filtered results\n",
      "Excluding 196 filtered results\n",
      "Excluding 190 filtered results\n",
      "Excluding 113 filtered results\n",
      "Excluding 55 filtered results\n",
      "Excluding 10 filtered results\n",
      "Excluding 530 filtered results\n",
      "Excluding 422 filtered results\n",
      "Excluding 7 filtered results\n",
      "Excluding 53 filtered results\n",
      "Excluding 55 filtered results\n",
      "Excluding 110 filtered results\n",
      "Excluding 141 filtered results\n",
      "Excluding 30 filtered results\n",
      "Excluding 185 filtered results\n",
      "Excluding 739 filtered results\n",
      "Excluding 960 filtered results\n"
     ]
    }
   ],
   "source": [
    "#dictonary for all  \n",
    "dic_el_mix = {}\n",
    "\n",
    "# hard coal\n",
    "el_hc = eiDB.search(\"electricity production, hard coal\", filter={'location':\"DE\"})\n",
    "el_hc = el_hc[0]\n",
    "dic_el_mix['el_hc']=el_hc\n",
    "\n",
    "cc_hc = eiDB.search(\"heat and power co-generation, hard coal\", filter={'location':\"DE\"})\n",
    "cc_hc = cc_hc[0]\n",
    "dic_el_mix['cc_hc']=cc_hc\n",
    "\n",
    "# lignite\n",
    "el_lg = eiDB.search(\"electricity production, lignite\", filter={'location':\"DE\"})\n",
    "el_lg = el_lg[0]\n",
    "dic_el_mix['el_lg']=el_lg\n",
    "\n",
    "# wind\n",
    "el_wind_onshore_medium = eiDB.search(\"electricity production, wind, 1-3MW turbine, onshore\", filter={'location':\"DE\"})\n",
    "el_wind_onshore_medium = el_wind_onshore_medium [0]\n",
    "dic_el_mix['el_wind_onshore_medium']=el_wind_onshore_medium\n",
    "\n",
    "el_wind_onshore_small = eiDB.search(\"electricity production, wind, <1MW turbine, onshore\", filter={'location':\"DE\"})\n",
    "el_wind_onshore_small = el_wind_onshore_small [0]\n",
    "dic_el_mix['el_wind_onshore_small']=el_wind_onshore_small\n",
    "\n",
    "el_wind_onshore_large = eiDB.search(\"electricity production, wind, >3MW turbine, onshore\", filter={'location':\"DE\"})\n",
    "el_wind_onshore_large = el_wind_onshore_large [0]\n",
    "dic_el_mix['el_wind_onshore_large']=el_wind_onshore_large\n",
    "\n",
    "el_wind_offshore = eiDB.search(\"electricity production, wind, 1-3MW turbine, offshore\", filter={'location':\"DE\"})\n",
    "el_wind_offshore =el_wind_offshore [0]\n",
    "dic_el_mix['el_wind_offshore']=el_wind_offshore\n",
    "\n",
    "# photovoltaic\n",
    "el_pv_roof = eiDB.search(\"electricity production, photovoltaic, 3kWp slanted-roof installation, multi-Si, panel, mounted\", filter={'location':\"DE\"})\n",
    "el_pv_roof = el_pv_roof[0]\n",
    "dic_el_mix['el_pv_roof']=el_pv_roof\n",
    "\n",
    "\n",
    "el_pv_openfield = eiDB.search(\"electricity production, photovoltaic, 570kWp open ground installation, multi-Si\", filter={'location':\"DE\"})\n",
    "el_pv_openfield = el_pv_openfield[0]\n",
    "dic_el_mix['el_pv_openfield']=el_pv_openfield\n",
    "\n",
    "## natural gas\n",
    "el_ng_10MW = eiDB.search(\"electricity production, natural gas, 10MW\", filter={'location':\"DE\"})\n",
    "el_ng_10MW =el_ng_10MW [0]\n",
    "dic_el_mix['el_ng_10MW']=el_ng_10MW\n",
    "\n",
    "el_ng_cc = eiDB.search(\"electricity production, natural gas, combined cycle power plant\", filter={'location':\"DE\"})\n",
    "el_ng_cc=el_ng_cc[0]\n",
    "dic_el_mix['el_ng_cc']=el_ng_cc\n",
    "\n",
    "el_ng_conv = eiDB.search(\"electricity production, natural gas, conventional power plant\", filter={'location':\"DE\"})\n",
    "el_ng_conv= el_ng_conv[0]\n",
    "dic_el_mix['el_ng_conv']=el_ng_conv\n",
    "\n",
    "el_ng_turb = eiDB.search(\"natural gas, burned in gas turbine, for compressor station\", filter={'location':\"DE\"})\n",
    "el_ng_turb=el_ng_turb[0]\n",
    "dic_el_mix['el_ng_turb']=el_ng_turb\n",
    "\n",
    "# nuclear\n",
    "el_nuclear_boiling = eiDB.search(\"electricity production, nuclear, boiling water reactor\", filter={'location':\"DE\"})\n",
    "el_nuclear_boiling= el_nuclear_boiling[0]\n",
    "dic_el_mix['el_nuclear_boiling']=el_nuclear_boiling\n",
    "\n",
    "el_nuclear_pressure = eiDB.search(\"electricity production, nuclear, pressure water reactor\", filter={'location':\"DE\"})\n",
    "el_nuclear_pressure=el_nuclear_pressure[0]\n",
    "dic_el_mix['el_nuclear_pressure']=el_nuclear_pressure\n",
    "\n",
    "# biomass\n",
    "el_bio_chp = eiDB.search(\"heat and power co-generation, biogas, gas engine\", filter={'location':\"DE\"})\n",
    "el_bio_chp= el_bio_chp[0]\n",
    "dic_el_mix['el_bio_chp']=el_bio_chp\n",
    "\n",
    "\n",
    "# hydro\n",
    "el_hydro_pumpstorage = eiDB.search(\"electricity production, hydro, pumped storage\",filter={'location':\"DE\"})\n",
    "el_hydro_pumpstorage=el_hydro_pumpstorage[0]\n",
    "dic_el_mix['el_hydro_pumpstorage']=el_hydro_pumpstorage\n",
    "\n",
    "el_hydro_reservoir = eiDB.search(\"electricity production, hydro, reservoir, non-alpine region\",filter={'location':\"DE\"})\n",
    "el_hydro_reservoir= el_hydro_reservoir[0]\n",
    "dic_el_mix['el_hydro_reservoir']=el_hydro_reservoir\n",
    "\n",
    "el_hydro_runriver = eiDB.search(\"electricity production, hydro, run-of-river\",filter={'location':\"DE\"})\n",
    "el_hydro_runriver=el_hydro_runriver[0]\n",
    "dic_el_mix['el_hydro_runriver']=el_hydro_runriver\n",
    "\n",
    "# low voltage – energy mix 2020\n",
    "el_lowvoltage = eiDB.search(\"market for electricity, low voltage\",filter={'location':\"DE\"}) ##anpassen! \n",
    "el_lowvoltage =el_lowvoltage[0]\n",
    "dic_el_mix['el_lowvoltage']=el_lowvoltage\n",
    "\n",
    "# high voltage – energy mix 2020\n",
    "el_highvoltage = eiDB.search(\"market for electricity, high voltage\",filter={'location':\"DE\"})\n",
    "el_highvoltage =el_highvoltage[0]\n",
    "dic_el_mix['el_highvoltage']=el_highvoltage"
   ]
  },
  {
   "cell_type": "code",
   "execution_count": 135,
   "metadata": {},
   "outputs": [],
   "source": [
    "dic_powerplants_market = defaultdict(float)\n",
    "for ECO, EMM in dic_powerplants_2.items():\n",
    "    dic_powerplants_market[dic_el_mix[ECO]] = dyn_amount_pp[EMM] \n"
   ]
  },
  {
   "cell_type": "code",
   "execution_count": 136,
   "metadata": {},
   "outputs": [
    {
     "name": "stdout",
     "output_type": "stream",
     "text": [
      "heat and power co-generation, biogas, gas engine\n",
      "electricity production, hydro, reservoir, non-alpine region\n",
      "electricity production, wind, >3MW turbine, onshore\n",
      "electricity production, wind, 1-3MW turbine, offshore\n",
      "electricity production, photovoltaic, 3kWp slanted-roof installation, multi-Si, panel, mounted\n",
      "electricity production, nuclear, pressure water reactor\n",
      "electricity production, lignite\n",
      "heat and power co-generation, hard coal\n",
      "electricity production, natural gas, combined cycle power plant\n",
      "electricity production, hard coal\n",
      "electricity production, natural gas, conventional power plant\n",
      "natural gas, burned in gas turbine, for compressor station\n",
      "electricity production, photovoltaic, 570kWp open ground installation, multi-Si\n",
      "electricity production, hydro, run-of-river\n"
     ]
    }
   ],
   "source": [
    "dic_powerplants_el_DE_market = defaultdict(float)\n",
    "for ECO, EMM in dic_powerplants_2.items():\n",
    "    dic_powerplants_el_DE_market[dic_el_mix[ECO]['name']] = share_pp_el_DE_2021[EMM] \n",
    "    print(dic_el_mix[ECO]['name'])\n"
   ]
  },
  {
   "cell_type": "code",
   "execution_count": 137,
   "metadata": {},
   "outputs": [],
   "source": [
    "#df = pd.DataFrame(dic_powerplants_el_DE_market, index=[0])"
   ]
  },
  {
   "cell_type": "code",
   "execution_count": 138,
   "metadata": {},
   "outputs": [],
   "source": [
    "# available power plants\n",
    "dic_powerplants= {'lignite':['li_st'], 'hardcoal':['hc_cc','hc_st'], 'nuclear':['nu'],'naturalgas': ['ng_cc', 'ng_ce', 'ng_gt', 'ng_st'], 'solar': ['so_ro','so_op'], 'wind': ['wi_off','wi_on'],'biomass': ['bm_st'], 'hydro' : ['hy_rs','hy_rr']}\n",
    "\n",
    "dic_powerplants_market=defaultdict(float)"
   ]
  },
  {
   "cell_type": "code",
   "execution_count": 139,
   "metadata": {},
   "outputs": [],
   "source": [
    "import yaml\n",
    "\n",
    "with open('data.yml', 'w') as outfile:\n",
    "    yaml.dump(dic_powerplants_el_DE_market, outfile, default_flow_style=False)"
   ]
  },
  {
   "cell_type": "markdown",
   "metadata": {},
   "source": [
    "## 2.0 Replace heat and electricity"
   ]
  },
  {
   "cell_type": "code",
   "execution_count": 140,
   "metadata": {},
   "outputs": [],
   "source": [
    "### choose variables: \n",
    "# electrification: yes/no?\n",
    "binary_var_electrification = 1 #1=electrification, 0=no electrifaction\n",
    "\n",
    "#which process?\n",
    "process_name = 'polyethylene terephthalate production, granulate, bottle grade'\n",
    "process_loc = 'RER'\n",
    "\n",
    "method = ('IPCC 2013', 'climate change', 'GWP 100a')"
   ]
  },
  {
   "cell_type": "code",
   "execution_count": 141,
   "metadata": {},
   "outputs": [
    {
     "name": "stdout",
     "output_type": "stream",
     "text": [
      "Excluding 5 filtered results\n"
     ]
    }
   ],
   "source": [
    "process = eiDB.search(process_name, filter={'location':process_loc})\n",
    "process = process[0]"
   ]
  },
  {
   "cell_type": "code",
   "execution_count": 163,
   "metadata": {},
   "outputs": [],
   "source": [
    "def replace_electricity_heat(process_name,process_loc, method, binary_var_electrification):\n",
    "    process = eiDB.search(process_name, filter={'location':process_loc})\n",
    "    process = process[0]\n",
    "    \n",
    "\n",
    "    dic_el_remove = defaultdict(float)\n",
    "    dic_heat_remove = defaultdict(float)\n",
    "\n",
    "    for x in process.edges():\n",
    "        if 'electricity' in x.input['name']:\n",
    "            dic_el_remove[x.input] = x['amount']\n",
    "            \n",
    "        if 'heat' in x.input['name']:\n",
    "            dic_heat_remove[x.input] = x['amount']\n",
    "\n",
    "    el_demand_process = sum([value for value in dic_el_remove.values()])\n",
    "    heat_demand_process = sum([value for value in dic_heat_remove.values()])\n",
    "\n",
    "\n",
    "    total_el_demanded = el_demand_process+ binary_var_electrification*heat_demand_process #\n",
    "    total_heat_demanded = heat_demand_process * (1-binary_var_electrification)\n",
    "\n",
    "\n",
    "    electrifying_heat = 10_000_000 ##create id dynamically - random number generator\n",
    "\n",
    "    indices = np.array(\n",
    "        [\n",
    "            (electrifying_heat, electrifying_heat), # Production exchange for new motor\n",
    "            (process.id, electrifying_heat),              \n",
    "        ] + [\n",
    "            (node.id, electrifying_heat) for node in dic_el_remove          ##remove existing electricity\n",
    "        ] + [\n",
    "            (node.id, electrifying_heat) for node in dic_heat_remove          ##remove existing heat\n",
    "        ] + [\n",
    "            (node.id,  electrifying_heat) for node in dic_powerplants_market  ## add Germany electricity mix        ##TODO add German Heat mix\n",
    "        ], dtype=bwp.INDICES_DTYPE\n",
    "    )\n",
    "\n",
    "\n",
    "    data = np.array([\n",
    "            1,\n",
    "            1,\n",
    "        ] + [\n",
    "            value for value in dic_el_remove.values()       #remove amount of electricity\n",
    "            \n",
    "        ] + [\n",
    "            value for value in dic_heat_remove.values()     #remove amount of heat\n",
    "            \n",
    "        ] + [\n",
    "            value * total_el_demanded for value in dic_powerplants_market.values()    \n",
    "        ]\n",
    "    ) \n",
    "    flip = np.array(\n",
    "        [False, True] + [False for _ in dic_el_remove] + [False for _ in dic_heat_remove] + [True for _ in dic_powerplants_market]\n",
    "        )\n",
    "\n",
    "\n",
    "    activities = np.array(\n",
    "        [\n",
    "            (process, electrifying_heat),              \n",
    "        ] + [\n",
    "            (node, electrifying_heat) for node in dic_el_remove          ##remove existing electricity\n",
    "        ] + [\n",
    "            (node, electrifying_heat) for node in dic_heat_remove          ##remove existing heat\n",
    "        ] + [\n",
    "            (node,  electrifying_heat) for node in dic_powerplants_market  ## add Germany electricity mix        ##TODO add German Heat mix\n",
    "        ],\n",
    "    )\n",
    "\n",
    "    dp = bwp.create_datapackage()\n",
    "\n",
    "    # dp.add_persistent_vector(\n",
    "    #     matrix=\"technosphere_matrix\",\n",
    "    #     data_array=data,\n",
    "    #     indices_array=indices,\n",
    "    #     flip_array=flip,\n",
    "    #     name='electrifying_heat',\n",
    "    # )\n",
    "\n",
    "    # _, data_objs, _ = bd.prepare_lca_inputs({process: 1}, method)\n",
    "\n",
    "    # lca = bc.LCA({process.id: 1}, data_objs=data_objs + [dp])\n",
    "    # lca.lci()\n",
    "    # lca.lcia()\n",
    "    # lca.score\n",
    "    # print(lca.score)\n",
    "\n",
    "    # lca.lcia({electrifying_heat: 1})\n",
    "    # lca.score\n",
    "    # print(lca.score)\n",
    "\n",
    "    name_new_process = str('electrification'+process_name+'_'+process_loc)\n",
    "    \n",
    "\n",
    "\n",
    "    return ([name_new_process,dp, indices, data, flip, dic_el_remove])"
   ]
  },
  {
   "cell_type": "code",
   "execution_count": 164,
   "metadata": {},
   "outputs": [
    {
     "name": "stdout",
     "output_type": "stream",
     "text": [
      "Excluding 5 filtered results\n"
     ]
    }
   ],
   "source": [
    "results = replace_electricity_heat(process_name,process_loc, method, binary_var_electrification)\n",
    "name_new_process=results[0]\n",
    "dp = results[1]\n",
    "indices = results[2]\n",
    "data = results[3]\n",
    "flip = results[4]\n",
    "dic_el_remove=results[5]\n"
   ]
  },
  {
   "cell_type": "code",
   "execution_count": 144,
   "metadata": {},
   "outputs": [],
   "source": [
    "name_new_db = 'db_electrification'"
   ]
  },
  {
   "cell_type": "code",
   "execution_count": 145,
   "metadata": {},
   "outputs": [],
   "source": [
    "if name_new_db in bd.databases:\n",
    "    del bd.databases[name_new_db] "
   ]
  },
  {
   "cell_type": "code",
   "execution_count": 152,
   "metadata": {},
   "outputs": [],
   "source": [
    "new_db = bd.Database(name_new_db)"
   ]
  },
  {
   "cell_type": "code",
   "execution_count": 147,
   "metadata": {},
   "outputs": [],
   "source": [
    "new_db.write({}) ##empty databbase"
   ]
  },
  {
   "cell_type": "code",
   "execution_count": 148,
   "metadata": {},
   "outputs": [],
   "source": [
    "new_process = new_db.new_node(code=\"new_process_01\", name=name_new_process, location=process_loc, unit=\"kilogram\")\n",
    "new_process.save()"
   ]
  },
  {
   "cell_type": "code",
   "execution_count": 149,
   "metadata": {},
   "outputs": [],
   "source": [
    "edges = []\n",
    "for idx, x in enumerate(indices):\n",
    "    dic = {'row':x[0], 'column' :x[1], 'amount':data[idx], 'flip':flip[idx]}\n",
    "    edges.append(dic)\n"
   ]
  },
  {
   "cell_type": "code",
   "execution_count": 165,
   "metadata": {},
   "outputs": [
    {
     "data": {
      "text/plain": [
       "defaultdict(float,\n",
       "            {'market group for electricity, medium voltage' (kilowatt hour, RER, None): 0.198504711728689})"
      ]
     },
     "execution_count": 165,
     "metadata": {},
     "output_type": "execute_result"
    }
   ],
   "source": [
    "dic_el_remove"
   ]
  },
  {
   "cell_type": "code",
   "execution_count": null,
   "metadata": {},
   "outputs": [],
   "source": [
    "edges_2 = []\n",
    "for idx, x in enumerate(indices):\n",
    "    dic = {'row':x[0], 'column' :x[1], 'amount':data[idx], 'flip':flip[idx]}\n",
    "    edges.append(dic)"
   ]
  },
  {
   "cell_type": "code",
   "execution_count": null,
   "metadata": {},
   "outputs": [],
   "source": [
    "activities = np.array(\n",
    "        [\n",
    "            (process, electrifying_heat),              \n",
    "        ] + [\n",
    "            (node, electrifying_heat) for node in dic_el_remove          ##remove existing electricity\n",
    "        ] + [\n",
    "            (node, electrifying_heat) for node in dic_heat_remove          ##remove existing heat\n",
    "        ] + [\n",
    "            (nod,  electrifying_heat) for node in dic_powerplants_market  ## add Germany electricity mix        ##TODO add German Heat mix\n",
    "        ],\n",
    "    )"
   ]
  },
  {
   "cell_type": "code",
   "execution_count": 153,
   "metadata": {},
   "outputs": [
    {
     "data": {
      "text/plain": [
       "[{'row': 10000000, 'column': 10000000, 'amount': 1.0, 'flip': False},\n",
       " {'row': 18148, 'column': 10000000, 'amount': 1.0, 'flip': True},\n",
       " {'row': 23706,\n",
       "  'column': 10000000,\n",
       "  'amount': 0.198504711728689,\n",
       "  'flip': False},\n",
       " {'row': 13632,\n",
       "  'column': 10000000,\n",
       "  'amount': 0.387656286392523,\n",
       "  'flip': False}]"
      ]
     },
     "execution_count": 153,
     "metadata": {},
     "output_type": "execute_result"
    }
   ],
   "source": [
    "edges"
   ]
  },
  {
   "cell_type": "code",
   "execution_count": 158,
   "metadata": {},
   "outputs": [
    {
     "name": "stdout",
     "output_type": "stream",
     "text": [
      "10000000\n",
      "1.0\n"
     ]
    },
    {
     "ename": "ValueError",
     "evalue": "Provided input data is invalid",
     "output_type": "error",
     "traceback": [
      "\u001b[1;31m---------------------------------------------------------------------------\u001b[0m",
      "\u001b[1;31mValueError\u001b[0m                                Traceback (most recent call last)",
      "\u001b[1;32mc:\\Users\\cko\\sciebo1\\01_CK\\01_Work\\1_FCN-ESE\\04_Modelle\\LCA_Brightway\\Autumn_School\\JACHH-E\\Electricity_flex.ipynb Zelle 47\u001b[0m in \u001b[0;36m<cell line: 1>\u001b[1;34m()\u001b[0m\n\u001b[0;32m      <a href='vscode-notebook-cell:/c%3A/Users/cko/sciebo1/01_CK/01_Work/1_FCN-ESE/04_Modelle/LCA_Brightway/Autumn_School/JACHH-E/Electricity_flex.ipynb#Y106sZmlsZQ%3D%3D?line=1'>2</a>\u001b[0m \u001b[39mprint\u001b[39m(i[\u001b[39m'\u001b[39m\u001b[39mrow\u001b[39m\u001b[39m'\u001b[39m])\n\u001b[0;32m      <a href='vscode-notebook-cell:/c%3A/Users/cko/sciebo1/01_CK/01_Work/1_FCN-ESE/04_Modelle/LCA_Brightway/Autumn_School/JACHH-E/Electricity_flex.ipynb#Y106sZmlsZQ%3D%3D?line=2'>3</a>\u001b[0m \u001b[39mprint\u001b[39m(i[\u001b[39m'\u001b[39m\u001b[39mamount\u001b[39m\u001b[39m'\u001b[39m])\n\u001b[1;32m----> <a href='vscode-notebook-cell:/c%3A/Users/cko/sciebo1/01_CK/01_Work/1_FCN-ESE/04_Modelle/LCA_Brightway/Autumn_School/JACHH-E/Electricity_flex.ipynb#Y106sZmlsZQ%3D%3D?line=3'>4</a>\u001b[0m new_process\u001b[39m.\u001b[39;49mnew_edge(\u001b[39minput\u001b[39;49m\u001b[39m=\u001b[39;49mi[\u001b[39m'\u001b[39;49m\u001b[39mrow\u001b[39;49m\u001b[39m'\u001b[39;49m], amount\u001b[39m=\u001b[39;49mi[\u001b[39m'\u001b[39;49m\u001b[39mamount\u001b[39;49m\u001b[39m'\u001b[39;49m], \u001b[39mtype\u001b[39;49m\u001b[39m=\u001b[39;49m\u001b[39m'\u001b[39;49m\u001b[39mtechnosphere\u001b[39;49m\u001b[39m'\u001b[39;49m)\u001b[39m.\u001b[39msave()\n",
      "File \u001b[1;32m~\\AppData\\Roaming\\Python\\Python39\\site-packages\\bw2data\\backends\\proxies.py:427\u001b[0m, in \u001b[0;36mActivity.new_edge\u001b[1;34m(self, **kwargs)\u001b[0m\n\u001b[0;32m    425\u001b[0m exc\u001b[39m.\u001b[39moutput \u001b[39m=\u001b[39m \u001b[39mself\u001b[39m\u001b[39m.\u001b[39mkey\n\u001b[0;32m    426\u001b[0m \u001b[39mfor\u001b[39;00m key \u001b[39min\u001b[39;00m kwargs:\n\u001b[1;32m--> 427\u001b[0m     exc[key] \u001b[39m=\u001b[39m kwargs[key]\n\u001b[0;32m    428\u001b[0m \u001b[39mreturn\u001b[39;00m exc\n",
      "File \u001b[1;32m~\\AppData\\Roaming\\Python\\Python39\\site-packages\\bw2data\\proxies.py:188\u001b[0m, in \u001b[0;36mExchangeProxyBase.__setitem__\u001b[1;34m(self, key, value)\u001b[0m\n\u001b[0;32m    186\u001b[0m \u001b[39mdef\u001b[39;00m \u001b[39m__setitem__\u001b[39m(\u001b[39mself\u001b[39m, key, value):\n\u001b[0;32m    187\u001b[0m     \u001b[39mif\u001b[39;00m key \u001b[39m==\u001b[39m \u001b[39m\"\u001b[39m\u001b[39minput\u001b[39m\u001b[39m\"\u001b[39m:\n\u001b[1;32m--> 188\u001b[0m         \u001b[39mself\u001b[39m\u001b[39m.\u001b[39minput \u001b[39m=\u001b[39m value\n\u001b[0;32m    189\u001b[0m     \u001b[39melif\u001b[39;00m key \u001b[39m==\u001b[39m \u001b[39m\"\u001b[39m\u001b[39moutput\u001b[39m\u001b[39m\"\u001b[39m:\n\u001b[0;32m    190\u001b[0m         \u001b[39mself\u001b[39m\u001b[39m.\u001b[39moutput \u001b[39m=\u001b[39m value\n",
      "File \u001b[1;32m~\\AppData\\Roaming\\Python\\Python39\\site-packages\\bw2data\\proxies.py:160\u001b[0m, in \u001b[0;36mExchangeProxyBase._set_input\u001b[1;34m(self, value)\u001b[0m\n\u001b[0;32m    158\u001b[0m     \u001b[39mself\u001b[39m\u001b[39m.\u001b[39m_data[\u001b[39m\"\u001b[39m\u001b[39minput\u001b[39m\u001b[39m\"\u001b[39m] \u001b[39m=\u001b[39m value\n\u001b[0;32m    159\u001b[0m \u001b[39melse\u001b[39;00m:\n\u001b[1;32m--> 160\u001b[0m     \u001b[39mraise\u001b[39;00m \u001b[39mValueError\u001b[39;00m(\u001b[39m\"\u001b[39m\u001b[39mProvided input data is invalid\u001b[39m\u001b[39m\"\u001b[39m)\n",
      "\u001b[1;31mValueError\u001b[0m: Provided input data is invalid"
     ]
    }
   ],
   "source": [
    "for i in edges:\n",
    "    print(i['row'])\n",
    "    print(i['amount'])\n",
    "    new_process.new_edge(input=i['row'], amount=i['amount'], type='technosphere').save()"
   ]
  },
  {
   "cell_type": "code",
   "execution_count": 151,
   "metadata": {},
   "outputs": [
    {
     "ename": "AttributeError",
     "evalue": "'SQLiteBackend' object has no attribute 'write_exchanges'",
     "output_type": "error",
     "traceback": [
      "\u001b[1;31m---------------------------------------------------------------------------\u001b[0m",
      "\u001b[1;31mAttributeError\u001b[0m                            Traceback (most recent call last)",
      "\u001b[1;32mc:\\Users\\cko\\sciebo1\\01_CK\\01_Work\\1_FCN-ESE\\04_Modelle\\LCA_Brightway\\Autumn_School\\JACHH-E\\Electricity_flex.ipynb Zelle 47\u001b[0m in \u001b[0;36m<cell line: 1>\u001b[1;34m()\u001b[0m\n\u001b[1;32m----> <a href='vscode-notebook-cell:/c%3A/Users/cko/sciebo1/01_CK/01_Work/1_FCN-ESE/04_Modelle/LCA_Brightway/Autumn_School/JACHH-E/Electricity_flex.ipynb#X64sZmlsZQ%3D%3D?line=0'>1</a>\u001b[0m new_db\u001b[39m.\u001b[39;49mwrite_exchanges(edges, [],  [\u001b[39m\"\u001b[39m\u001b[39mei 3.8 cutoff\u001b[39m\u001b[39m\"\u001b[39m])\n",
      "\u001b[1;31mAttributeError\u001b[0m: 'SQLiteBackend' object has no attribute 'write_exchanges'"
     ]
    }
   ],
   "source": [
    "#new_db.new_(edges, [],  [\"ei 3.8 cutoff\"])"
   ]
  },
  {
   "cell_type": "code",
   "execution_count": null,
   "metadata": {},
   "outputs": [],
   "source": [
    "process.new_edge(input=new_process, amount=0, type=\"technosphere\").save()"
   ]
  },
  {
   "cell_type": "code",
   "execution_count": 159,
   "metadata": {},
   "outputs": [
    {
     "data": {
      "text/plain": [
       "'electrificationpolyethylene terephthalate production, granulate, bottle grade_RER' (kilogram, RER, None)"
      ]
     },
     "execution_count": 159,
     "metadata": {},
     "output_type": "execute_result"
    }
   ],
   "source": [
    "new_process"
   ]
  },
  {
   "cell_type": "code",
   "execution_count": null,
   "metadata": {},
   "outputs": [],
   "source": [
    "_, data_objs, _ = bd.prepare_lca_inputs({process: 1}, method)"
   ]
  },
  {
   "cell_type": "code",
   "execution_count": null,
   "metadata": {},
   "outputs": [
    {
     "ename": "NonsquareTechnosphere",
     "evalue": "Technosphere matrix is not square: 19566 activities (columns) and 19567 products (rows). Use LeastSquaresLCA to solve this system, or fix the input data",
     "output_type": "error",
     "traceback": [
      "\u001b[1;31m---------------------------------------------------------------------------\u001b[0m",
      "\u001b[1;31mNonsquareTechnosphere\u001b[0m                     Traceback (most recent call last)",
      "\u001b[1;32mc:\\Users\\cko\\sciebo1\\01_CK\\01_Work\\1_FCN-ESE\\04_Modelle\\LCA_Brightway\\Autumn_School\\JACHH-E\\Electricity_flex.ipynb Zelle 50\u001b[0m in \u001b[0;36m<cell line: 2>\u001b[1;34m()\u001b[0m\n\u001b[0;32m      <a href='vscode-notebook-cell:/c%3A/Users/cko/sciebo1/01_CK/01_Work/1_FCN-ESE/04_Modelle/LCA_Brightway/Autumn_School/JACHH-E/Electricity_flex.ipynb#Y112sZmlsZQ%3D%3D?line=0'>1</a>\u001b[0m lca \u001b[39m=\u001b[39m bc\u001b[39m.\u001b[39mLCA({process\u001b[39m.\u001b[39mid: \u001b[39m1\u001b[39m}, data_objs\u001b[39m=\u001b[39mdata_objs)\n\u001b[1;32m----> <a href='vscode-notebook-cell:/c%3A/Users/cko/sciebo1/01_CK/01_Work/1_FCN-ESE/04_Modelle/LCA_Brightway/Autumn_School/JACHH-E/Electricity_flex.ipynb#Y112sZmlsZQ%3D%3D?line=1'>2</a>\u001b[0m lca\u001b[39m.\u001b[39;49mlci()\n\u001b[0;32m      <a href='vscode-notebook-cell:/c%3A/Users/cko/sciebo1/01_CK/01_Work/1_FCN-ESE/04_Modelle/LCA_Brightway/Autumn_School/JACHH-E/Electricity_flex.ipynb#Y112sZmlsZQ%3D%3D?line=2'>3</a>\u001b[0m lca\u001b[39m.\u001b[39mlcia()\n\u001b[0;32m      <a href='vscode-notebook-cell:/c%3A/Users/cko/sciebo1/01_CK/01_Work/1_FCN-ESE/04_Modelle/LCA_Brightway/Autumn_School/JACHH-E/Electricity_flex.ipynb#Y112sZmlsZQ%3D%3D?line=3'>4</a>\u001b[0m lca\u001b[39m.\u001b[39mscore\n",
      "File \u001b[1;32m~\\AppData\\Roaming\\Python\\Python39\\site-packages\\bw2calc\\lca.py:354\u001b[0m, in \u001b[0;36mLCA.lci\u001b[1;34m(self, demand, factorize)\u001b[0m\n\u001b[0;32m    339\u001b[0m \u001b[39m\"\"\"\u001b[39;00m\n\u001b[0;32m    340\u001b[0m \u001b[39mCalculate a life cycle inventory.\u001b[39;00m\n\u001b[0;32m    341\u001b[0m \n\u001b[1;32m   (...)\u001b[0m\n\u001b[0;32m    351\u001b[0m \n\u001b[0;32m    352\u001b[0m \u001b[39m\"\"\"\u001b[39;00m\n\u001b[0;32m    353\u001b[0m \u001b[39mif\u001b[39;00m \u001b[39mnot\u001b[39;00m \u001b[39mhasattr\u001b[39m(\u001b[39mself\u001b[39m, \u001b[39m\"\u001b[39m\u001b[39mtechnosphere_matrix\u001b[39m\u001b[39m\"\u001b[39m):\n\u001b[1;32m--> 354\u001b[0m     \u001b[39mself\u001b[39;49m\u001b[39m.\u001b[39;49mload_lci_data()\n\u001b[0;32m    355\u001b[0m \u001b[39mif\u001b[39;00m demand \u001b[39mis\u001b[39;00m \u001b[39mnot\u001b[39;00m \u001b[39mNone\u001b[39;00m:\n\u001b[0;32m    356\u001b[0m     \u001b[39mself\u001b[39m\u001b[39m.\u001b[39m__check_demand(demand)\n",
      "File \u001b[1;32m~\\AppData\\Roaming\\Python\\Python39\\site-packages\\bw2calc\\lca.py:206\u001b[0m, in \u001b[0;36mLCA.load_lci_data\u001b[1;34m(self, nonsquare_ok)\u001b[0m\n\u001b[0;32m    200\u001b[0m \u001b[39mself\u001b[39m\u001b[39m.\u001b[39mdicts\u001b[39m.\u001b[39mactivity \u001b[39m=\u001b[39m partial(\u001b[39mself\u001b[39m\u001b[39m.\u001b[39mtechnosphere_mm\u001b[39m.\u001b[39mcol_mapper\u001b[39m.\u001b[39mto_dict)\n\u001b[0;32m    202\u001b[0m \u001b[39mif\u001b[39;00m (\n\u001b[0;32m    203\u001b[0m     \u001b[39mlen\u001b[39m(\u001b[39mself\u001b[39m\u001b[39m.\u001b[39mtechnosphere_mm\u001b[39m.\u001b[39mrow_mapper) \u001b[39m!=\u001b[39m \u001b[39mlen\u001b[39m(\u001b[39mself\u001b[39m\u001b[39m.\u001b[39mtechnosphere_mm\u001b[39m.\u001b[39mcol_mapper)\n\u001b[0;32m    204\u001b[0m     \u001b[39mand\u001b[39;00m \u001b[39mnot\u001b[39;00m nonsquare_ok\n\u001b[0;32m    205\u001b[0m ):\n\u001b[1;32m--> 206\u001b[0m     \u001b[39mraise\u001b[39;00m NonsquareTechnosphere(\n\u001b[0;32m    207\u001b[0m         (\n\u001b[0;32m    208\u001b[0m             \u001b[39m\"\u001b[39m\u001b[39mTechnosphere matrix is not square: \u001b[39m\u001b[39m{}\u001b[39;00m\u001b[39m activities (columns) and \u001b[39m\u001b[39m{}\u001b[39;00m\u001b[39m products (rows). \u001b[39m\u001b[39m\"\u001b[39m\n\u001b[0;32m    209\u001b[0m             \u001b[39m\"\u001b[39m\u001b[39mUse LeastSquaresLCA to solve this system, or fix the input \u001b[39m\u001b[39m\"\u001b[39m\n\u001b[0;32m    210\u001b[0m             \u001b[39m\"\u001b[39m\u001b[39mdata\u001b[39m\u001b[39m\"\u001b[39m\n\u001b[0;32m    211\u001b[0m         )\u001b[39m.\u001b[39mformat(\n\u001b[0;32m    212\u001b[0m             \u001b[39mlen\u001b[39m(\u001b[39mself\u001b[39m\u001b[39m.\u001b[39mtechnosphere_mm\u001b[39m.\u001b[39mcol_mapper),\n\u001b[0;32m    213\u001b[0m             \u001b[39mlen\u001b[39m(\u001b[39mself\u001b[39m\u001b[39m.\u001b[39mtechnosphere_mm\u001b[39m.\u001b[39mrow_mapper),\n\u001b[0;32m    214\u001b[0m         )\n\u001b[0;32m    215\u001b[0m     )\n\u001b[0;32m    217\u001b[0m \u001b[39mself\u001b[39m\u001b[39m.\u001b[39mbiosphere_mm \u001b[39m=\u001b[39m mu\u001b[39m.\u001b[39mMappedMatrix(\n\u001b[0;32m    218\u001b[0m     packages\u001b[39m=\u001b[39m\u001b[39mself\u001b[39m\u001b[39m.\u001b[39mpackages,\n\u001b[0;32m    219\u001b[0m     matrix\u001b[39m=\u001b[39m\u001b[39m\"\u001b[39m\u001b[39mbiosphere_matrix\u001b[39m\u001b[39m\"\u001b[39m,\n\u001b[1;32m   (...)\u001b[0m\n\u001b[0;32m    224\u001b[0m     empty_ok\u001b[39m=\u001b[39m\u001b[39mTrue\u001b[39;00m,\n\u001b[0;32m    225\u001b[0m )\n\u001b[0;32m    226\u001b[0m \u001b[39mself\u001b[39m\u001b[39m.\u001b[39mbiosphere_matrix \u001b[39m=\u001b[39m \u001b[39mself\u001b[39m\u001b[39m.\u001b[39mbiosphere_mm\u001b[39m.\u001b[39mmatrix\n",
      "\u001b[1;31mNonsquareTechnosphere\u001b[0m: Technosphere matrix is not square: 19566 activities (columns) and 19567 products (rows). Use LeastSquaresLCA to solve this system, or fix the input data"
     ]
    }
   ],
   "source": [
    "lca = bc.LCA({process.id: 1}, data_objs=data_objs)\n",
    "lca.lci()\n",
    "lca.lcia()\n",
    "lca.score"
   ]
  },
  {
   "cell_type": "code",
   "execution_count": null,
   "metadata": {},
   "outputs": [],
   "source": [
    "lca.lcia({new_process.id: 1})\n",
    "lca.score"
   ]
  },
  {
   "cell_type": "code",
   "execution_count": null,
   "metadata": {},
   "outputs": [
    {
     "data": {
      "text/plain": [
       "['biosphere3']"
      ]
     },
     "execution_count": 51,
     "metadata": {},
     "output_type": "execute_result"
    }
   ],
   "source": [
    "bd.Database(\"ei 3.8 cutoff\").metadata['depends']"
   ]
  },
  {
   "cell_type": "code",
   "execution_count": null,
   "metadata": {},
   "outputs": [
    {
     "ename": "UnknownObject",
     "evalue": "This object is not yet registered; can't get or set metadata",
     "output_type": "error",
     "traceback": [
      "\u001b[1;31m---------------------------------------------------------------------------\u001b[0m",
      "\u001b[1;31mUnknownObject\u001b[0m                             Traceback (most recent call last)",
      "\u001b[1;32mc:\\Users\\cko\\sciebo1\\01_CK\\01_Work\\1_FCN-ESE\\04_Modelle\\LCA_Brightway\\Autumn_School\\JACHH-E\\Electricity_flex.ipynb Zelle 54\u001b[0m in \u001b[0;36m<cell line: 1>\u001b[1;34m()\u001b[0m\n\u001b[1;32m----> <a href='vscode-notebook-cell:/c%3A/Users/cko/sciebo1/01_CK/01_Work/1_FCN-ESE/04_Modelle/LCA_Brightway/Autumn_School/JACHH-E/Electricity_flex.ipynb#Y105sZmlsZQ%3D%3D?line=0'>1</a>\u001b[0m bd\u001b[39m.\u001b[39;49mDatabase(new_db)\u001b[39m.\u001b[39;49mmetadata[\u001b[39m'\u001b[39m\u001b[39mdepends\u001b[39m\u001b[39m'\u001b[39m]\n",
      "File \u001b[1;32m~\\AppData\\Roaming\\Python\\Python39\\site-packages\\bw2data\\data_store.py:35\u001b[0m, in \u001b[0;36mDataStore._get_metadata\u001b[1;34m(self)\u001b[0m\n\u001b[0;32m     33\u001b[0m \u001b[39mdef\u001b[39;00m \u001b[39m_get_metadata\u001b[39m(\u001b[39mself\u001b[39m):\n\u001b[0;32m     34\u001b[0m     \u001b[39mif\u001b[39;00m \u001b[39mself\u001b[39m\u001b[39m.\u001b[39mname \u001b[39mnot\u001b[39;00m \u001b[39min\u001b[39;00m \u001b[39mself\u001b[39m\u001b[39m.\u001b[39m_metadata:\n\u001b[1;32m---> 35\u001b[0m         \u001b[39mraise\u001b[39;00m UnknownObject(\n\u001b[0;32m     36\u001b[0m             \u001b[39m\"\u001b[39m\u001b[39mThis object is not yet registered; can\u001b[39m\u001b[39m'\u001b[39m\u001b[39mt get or set metadata\u001b[39m\u001b[39m\"\u001b[39m\n\u001b[0;32m     37\u001b[0m         )\n\u001b[0;32m     38\u001b[0m     \u001b[39mreturn\u001b[39;00m \u001b[39mself\u001b[39m\u001b[39m.\u001b[39m_metadata[\u001b[39mself\u001b[39m\u001b[39m.\u001b[39mname]\n",
      "\u001b[1;31mUnknownObject\u001b[0m: This object is not yet registered; can't get or set metadata"
     ]
    }
   ],
   "source": [
    "bd.Database(new_db).metadata['depends']"
   ]
  }
 ],
 "metadata": {
  "kernelspec": {
   "display_name": "Python ('bw25')",
   "language": "python",
   "name": "python3"
  },
  "language_info": {
   "codemirror_mode": {
    "name": "ipython",
    "version": 3
   },
   "file_extension": ".py",
   "mimetype": "text/x-python",
   "name": "python",
   "nbconvert_exporter": "python",
   "pygments_lexer": "ipython3",
   "version": "3.9.12"
  },
  "orig_nbformat": 4,
  "vscode": {
   "interpreter": {
    "hash": "25a19fbe0a9132dfb9279d48d161753c6352f8f9478c2e74383d340069b907c3"
   }
  }
 },
 "nbformat": 4,
 "nbformat_minor": 2
}
